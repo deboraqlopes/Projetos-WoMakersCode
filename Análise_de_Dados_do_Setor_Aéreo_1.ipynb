{
  "cells": [
    {
      "cell_type": "markdown",
      "metadata": {
        "id": "8a0ekvxZPYEO"
      },
      "source": [
        "# Análise de Dados do Setor Aéreo"
      ]
    },
    {
      "cell_type": "markdown",
      "metadata": {
        "id": "3qJdtBiyP5aR"
      },
      "source": [
        "1)\tAnálise de Companhias Aéreas\n",
        "\n",
        "1 - Quais são as principais companhias aéreas que mais voaram durante cada ano?\n",
        "\n",
        "2 - A pandemia afetou a operação de alguma delas? De que forma?\n",
        "\n",
        "3 - Quais as companhias que alteraram mais voos durante a pandemia?\n",
        "\n",
        "4 - Quais as principais rotas aéreas das principais companhias?\n",
        "\n",
        "5 - Qual é a companhia que tem maior % de cancelamento de voos e atraso?\n"
      ]
    },
    {
      "cell_type": "markdown",
      "metadata": {
        "id": "nNt_Uk6SQEdl"
      },
      "source": [
        "2)\tAnálise da eficiência das rotas.\n",
        "\n",
        " 1- Quais as principais rotas de voos?\n",
        "\n",
        "2- Quais as rotas em que temos maior tempo de atraso?\n",
        "\n",
        "3- Quais as rotas em que temos maior índice de cancelamento de voos?\n",
        "\n",
        "4- Quais são as rotas mais eficientes e as menos eficientes?\n"
      ]
    },
    {
      "cell_type": "markdown",
      "metadata": {
        "id": "dg552p2_QVou"
      },
      "source": [
        "3)\tAnálise do atraso das rotas\n",
        "\n",
        "1- Qual o tempo médio de atraso dos voos? Considere as colunas ArrDelayMinutes e DepDelayMinutes.\n",
        "       \n",
        "2- Quais os fatores mais correlacionados com o atraso de um voo?\n"
      ]
    },
    {
      "cell_type": "markdown",
      "metadata": {
        "id": "_uCZ8XhyQhjp"
      },
      "source": [
        "Modelagem:\n",
        "\n",
        "4)\tModelo de regressão linear em que queremos estimar o tempo de atraso de um voo, considere o atraso da partida variável (DepDelayMinutes). Foram construídas variáveis dummy a partir de categorias como: mês do ano e rotas específicas.   \n",
        "\n"
      ]
    },
    {
      "cell_type": "markdown",
      "metadata": {
        "id": "4rNWnzF5YP9B"
      },
      "source": [
        "# ✨ Bibliotecas\n"
      ]
    },
    {
      "cell_type": "code",
      "execution_count": null,
      "metadata": {
        "colab": {
          "background_save": true
        },
        "id": "jAPdeBtYn33X"
      },
      "outputs": [],
      "source": [
        "from google.colab import files\n",
        "uploaded = files.upload()"
      ]
    },
    {
      "cell_type": "code",
      "execution_count": null,
      "metadata": {
        "id": "EIXhM81jQi9s"
      },
      "outputs": [],
      "source": [
        "# Manipulação dos dados em python\n",
        "import pandas as pd\n",
        "import numpy as np\n",
        "\n",
        "# Visualizacao de dados\n",
        "import seaborn as sns\n",
        "import matplotlib.pyplot as plt\n",
        "\n",
        "# Obter estatisticas de teste\n",
        "from scipy import stats\n",
        "import scipy.stats as stats\n",
        "import statsmodels.api as sm\n",
        "\n",
        "#Regressao Logistica\n",
        "from sklearn.model_selection import train_test_split\n",
        "from sklearn.linear_model import LogisticRegression\n",
        "from sklearn.metrics import classification_report, confusion_matrix\n"
      ]
    },
    {
      "cell_type": "markdown",
      "metadata": {
        "id": "CVE1m4tdYUi5"
      },
      "source": [
        "# ✨ Importacao dos dados"
      ]
    },
    {
      "cell_type": "code",
      "execution_count": null,
      "metadata": {
        "id": "XVGG_7q0Q2cH"
      },
      "outputs": [],
      "source": [
        "# Leitura dos dados csv\n",
        "df0 = pd.read_csv(\"Airlines.csv\")\n",
        "df1 = pd.read_csv(\"Sample_combined_flights_2018.csv\")\n",
        "df2 = pd.read_csv(\"Sample_combined_flights_2019.csv\")\n",
        "df3 = pd.read_csv(\"Sample_combined_flights_2020.csv\")\n",
        "df4 = pd.read_csv(\"Sample_combined_flights_2021.csv\")\n",
        "df5 = pd.read_csv(\"Sample_combined_flights_2022.csv\")"
      ]
    },
    {
      "cell_type": "code",
      "execution_count": null,
      "metadata": {
        "colab": {
          "background_save": true
        },
        "collapsed": true,
        "id": "-39N0ixaRb7K"
      },
      "outputs": [],
      "source": [
        "df0.head()"
      ]
    },
    {
      "cell_type": "code",
      "execution_count": null,
      "metadata": {
        "colab": {
          "background_save": true
        },
        "collapsed": true,
        "id": "Y4K6619eRYNm"
      },
      "outputs": [],
      "source": [
        "df1.head()"
      ]
    },
    {
      "cell_type": "code",
      "execution_count": null,
      "metadata": {
        "colab": {
          "background_save": true
        },
        "collapsed": true,
        "id": "F_sMRQIuTXss"
      },
      "outputs": [],
      "source": [
        "df2.head()"
      ]
    },
    {
      "cell_type": "code",
      "execution_count": null,
      "metadata": {
        "colab": {
          "background_save": true
        },
        "collapsed": true,
        "id": "gAcaUqQAsC9H"
      },
      "outputs": [],
      "source": [
        "df3.head()"
      ]
    },
    {
      "cell_type": "code",
      "execution_count": null,
      "metadata": {
        "colab": {
          "background_save": true
        },
        "collapsed": true,
        "id": "MqgbwP9rsFrt"
      },
      "outputs": [],
      "source": [
        "df4.head()"
      ]
    },
    {
      "cell_type": "code",
      "execution_count": null,
      "metadata": {
        "colab": {
          "background_save": true
        },
        "collapsed": true,
        "id": "RBiNAoO_sHOX"
      },
      "outputs": [],
      "source": [
        "df5.head()"
      ]
    },
    {
      "cell_type": "markdown",
      "metadata": {
        "id": "4zqAUfi7oBg0"
      },
      "source": [
        "# ✨ Estruturacao dos dataframes"
      ]
    },
    {
      "cell_type": "code",
      "execution_count": null,
      "metadata": {
        "id": "B8dbesVEXYXA"
      },
      "outputs": [],
      "source": [
        "# Boas praticas - copia dos Dataframes\n",
        "df18 = df1.copy()\n",
        "df19 = df2.copy()\n",
        "df20 = df3.copy()\n",
        "df21 = df4.copy()\n",
        "df22 = df5.copy()\n",
        "\n",
        "# df_completo -  contem os csvs de todos os anos em um mesmo dataframe\n"
      ]
    },
    {
      "cell_type": "code",
      "execution_count": null,
      "metadata": {
        "colab": {
          "base_uri": "https://localhost:8080/"
        },
        "id": "aTSncyebdnzB",
        "outputId": "1999ad7a-d97f-4f0f-a51e-d7f3e285da0d"
      },
      "outputs": [
        {
          "output_type": "stream",
          "name": "stdout",
          "text": [
            "   Unnamed: 0  FlightDate            Airline Origin Dest  Cancelled  Diverted  \\\n",
            "0           0  2018-01-05  Endeavor Air Inc.    ATL  ABY      False     False   \n",
            "1           1  2018-01-14  Endeavor Air Inc.    ATL  ABY      False     False   \n",
            "2           2  2018-01-04  Endeavor Air Inc.    EWN  ATL       True     False   \n",
            "3           3  2018-01-09  Endeavor Air Inc.    FAY  ATL      False     False   \n",
            "4           4  2018-01-15  Endeavor Air Inc.    CSG  ATL      False     False   \n",
            "\n",
            "   CRSDepTime  DepTime  DepDelayMinutes  ...  WheelsOff  WheelsOn  TaxiIn  \\\n",
            "0        1037   1032.0              0.0  ...     1052.0    1121.0     3.0   \n",
            "1        1037   1031.0              0.0  ...     1047.0    1117.0     3.0   \n",
            "2        1415      NaN              NaN  ...        NaN       NaN     NaN   \n",
            "3        1853   1850.0              0.0  ...     1900.0    2004.0    17.0   \n",
            "4         615    625.0             10.0  ...      634.0     656.0     8.0   \n",
            "\n",
            "   CRSArrTime  ArrDelay  ArrDel15  ArrivalDelayGroups  ArrTimeBlk  \\\n",
            "0        1137     -13.0       0.0                -1.0   1100-1159   \n",
            "1        1137     -17.0       0.0                -2.0   1100-1159   \n",
            "2        1605       NaN       NaN                 NaN   1600-1659   \n",
            "3        2030      -9.0       0.0                -1.0   2000-2059   \n",
            "4         711      -7.0       0.0                -1.0   0700-0759   \n",
            "\n",
            "   DistanceGroup  DivAirportLandings  \n",
            "0              1                 0.0  \n",
            "1              1                 0.0  \n",
            "2              2                 0.0  \n",
            "3              2                 0.0  \n",
            "4              1                 0.0  \n",
            "\n",
            "[5 rows x 62 columns]\n"
          ]
        }
      ],
      "source": [
        "# Lista dos dataframes\n",
        "dfs = [df18, df19, df20, df21, df22]\n",
        "\n",
        "# Concatenando todos os dataframes\n",
        "df_completo = pd.concat(dfs, ignore_index=True)\n",
        "\n",
        "# Verificando as primeiras linhas do dataframe combinado\n",
        "print(df_completo.head())\n"
      ]
    },
    {
      "cell_type": "markdown",
      "metadata": {
        "id": "p5xWV0jrSa4Z"
      },
      "source": [
        "#1) Análise dos dados\n",
        "Análise de Companhias Aéreas\n",
        "\n",
        "1 - Quais são as principais companhias aéreas que mais voaram durante cada ano?\n",
        "\n",
        "2 - A pandemia afetou a operação de alguma delas? De que forma?\n",
        "\n",
        "3 - Quais as companhias que alteraram mais voos durante a pandemia?\n",
        "\n",
        "4 - Quais as principais rotas aéreas das principais companhias?\n",
        "\n",
        "5 - Qual é a companhia que tem maior % de cancelamento de voos e atraso?"
      ]
    },
    {
      "cell_type": "markdown",
      "metadata": {
        "id": "4dDQDXInGEQi"
      },
      "source": [
        "##1.1\n",
        "Quais são as principais companhias aéreas que mais voaram durante cada ano?"
      ]
    },
    {
      "cell_type": "code",
      "execution_count": null,
      "metadata": {
        "colab": {
          "base_uri": "https://localhost:8080/"
        },
        "id": "-1NsuLODHCJl",
        "outputId": "c95c604a-b3d6-49dc-ea16-278b95295c1e"
      },
      "outputs": [
        {
          "output_type": "execute_result",
          "data": {
            "text/plain": [
              "Index(['Unnamed: 0', 'FlightDate', 'Airline', 'Origin', 'Dest', 'Cancelled',\n",
              "       'Diverted', 'CRSDepTime', 'DepTime', 'DepDelayMinutes', 'DepDelay',\n",
              "       'ArrTime', 'ArrDelayMinutes', 'AirTime', 'CRSElapsedTime',\n",
              "       'ActualElapsedTime', 'Distance', 'Year', 'Quarter', 'Month',\n",
              "       'DayofMonth', 'DayOfWeek', 'Marketing_Airline_Network',\n",
              "       'Operated_or_Branded_Code_Share_Partners', 'DOT_ID_Marketing_Airline',\n",
              "       'IATA_Code_Marketing_Airline', 'Flight_Number_Marketing_Airline',\n",
              "       'Operating_Airline', 'DOT_ID_Operating_Airline',\n",
              "       'IATA_Code_Operating_Airline', 'Tail_Number',\n",
              "       'Flight_Number_Operating_Airline', 'OriginAirportID',\n",
              "       'OriginAirportSeqID', 'OriginCityMarketID', 'OriginCityName',\n",
              "       'OriginState', 'OriginStateFips', 'OriginStateName', 'OriginWac',\n",
              "       'DestAirportID', 'DestAirportSeqID', 'DestCityMarketID', 'DestCityName',\n",
              "       'DestState', 'DestStateFips', 'DestStateName', 'DestWac', 'DepDel15',\n",
              "       'DepartureDelayGroups', 'DepTimeBlk', 'TaxiOut', 'WheelsOff',\n",
              "       'WheelsOn', 'TaxiIn', 'CRSArrTime', 'ArrDelay', 'ArrDel15',\n",
              "       'ArrivalDelayGroups', 'ArrTimeBlk', 'DistanceGroup',\n",
              "       'DivAirportLandings'],\n",
              "      dtype='object')"
            ]
          },
          "metadata": {},
          "execution_count": 5
        }
      ],
      "source": [
        "df1.columns"
      ]
    },
    {
      "cell_type": "code",
      "execution_count": null,
      "metadata": {
        "colab": {
          "base_uri": "https://localhost:8080/"
        },
        "id": "1LaT6ljCJ-7w",
        "outputId": "c7f240ee-afb9-4351-fe91-85a3b9dee123"
      },
      "outputs": [
        {
          "output_type": "execute_result",
          "data": {
            "text/plain": [
              "   Unnamed: 0  FlightDate            Airline Origin Dest  Cancelled  Diverted  \\\n",
              "0           0  2018-01-05  Endeavor Air Inc.    ATL  ABY      False     False   \n",
              "1           1  2018-01-14  Endeavor Air Inc.    ATL  ABY      False     False   \n",
              "2           2  2018-01-04  Endeavor Air Inc.    EWN  ATL       True     False   \n",
              "3           3  2018-01-09  Endeavor Air Inc.    FAY  ATL      False     False   \n",
              "4           4  2018-01-15  Endeavor Air Inc.    CSG  ATL      False     False   \n",
              "\n",
              "   CRSDepTime  DepTime  DepDelayMinutes  DepDelay  ArrTime  ArrDelayMinutes  \\\n",
              "0        1037   1032.0              0.0      -5.0   1124.0              0.0   \n",
              "1        1037   1031.0              0.0      -6.0   1120.0              0.0   \n",
              "2        1415      NaN              NaN       NaN      NaN              NaN   \n",
              "3        1853   1850.0              0.0      -3.0   2021.0              0.0   \n",
              "4         615    625.0             10.0      10.0    704.0              0.0   \n",
              "\n",
              "   AirTime  CRSElapsedTime  ActualElapsedTime  Distance  Year  Quarter  Month  \\\n",
              "0     29.0            60.0               52.0     145.0  2018        1      1   \n",
              "1     30.0            60.0               49.0     145.0  2018        1      1   \n",
              "2      NaN           110.0                NaN     433.0  2018        1      1   \n",
              "3     64.0            97.0               91.0     331.0  2018        1      1   \n",
              "4     22.0            56.0               39.0      83.0  2018        1      1   \n",
              "\n",
              "   DayofMonth  DayOfWeek Marketing_Airline_Network  \\\n",
              "0           5          5                        DL   \n",
              "1          14          7                        DL   \n",
              "2           4          4                        DL   \n",
              "3           9          2                        DL   \n",
              "4          15          1                        DL   \n",
              "\n",
              "  Operated_or_Branded_Code_Share_Partners  DOT_ID_Marketing_Airline  \\\n",
              "0                            DL_CODESHARE                     19790   \n",
              "1                            DL_CODESHARE                     19790   \n",
              "2                            DL_CODESHARE                     19790   \n",
              "3                            DL_CODESHARE                     19790   \n",
              "4                            DL_CODESHARE                     19790   \n",
              "\n",
              "  IATA_Code_Marketing_Airline  Flight_Number_Marketing_Airline  \\\n",
              "0                          DL                             3298   \n",
              "1                          DL                             3298   \n",
              "2                          DL                             3301   \n",
              "3                          DL                             3302   \n",
              "4                          DL                             3306   \n",
              "\n",
              "  Operating_Airline  DOT_ID_Operating_Airline IATA_Code_Operating_Airline  \\\n",
              "0                9E                     20363                          9E   \n",
              "1                9E                     20363                          9E   \n",
              "2                9E                     20363                          9E   \n",
              "3                9E                     20363                          9E   \n",
              "4                9E                     20363                          9E   \n",
              "\n",
              "  Tail_Number  Flight_Number_Operating_Airline  OriginAirportID  \\\n",
              "0      N8877A                             3298            10397   \n",
              "1      N836AY                             3298            10397   \n",
              "2      N836AY                             3301            11617   \n",
              "3      N8869B                             3302            11641   \n",
              "4      N832AY                             3306            11150   \n",
              "\n",
              "   OriginAirportSeqID  OriginCityMarketID                  OriginCityName  \\\n",
              "0             1039707               30397                     Atlanta, GA   \n",
              "1             1039707               30397                     Atlanta, GA   \n",
              "2             1161708               31617  New Bern/Morehead/Beaufort, NC   \n",
              "3             1164102               31641                Fayetteville, NC   \n",
              "4             1115005               31150                    Columbus, GA   \n",
              "\n",
              "  OriginState  OriginStateFips OriginStateName  OriginWac  DestAirportID  \\\n",
              "0          GA               13         Georgia         34          10146   \n",
              "1          GA               13         Georgia         34          10146   \n",
              "2          NC               37  North Carolina         36          10397   \n",
              "3          NC               37  North Carolina         36          10397   \n",
              "4          GA               13         Georgia         34          10397   \n",
              "\n",
              "   DestAirportSeqID  DestCityMarketID DestCityName DestState  DestStateFips  \\\n",
              "0           1014602             30146   Albany, GA        GA             13   \n",
              "1           1014602             30146   Albany, GA        GA             13   \n",
              "2           1039707             30397  Atlanta, GA        GA             13   \n",
              "3           1039707             30397  Atlanta, GA        GA             13   \n",
              "4           1039707             30397  Atlanta, GA        GA             13   \n",
              "\n",
              "  DestStateName  DestWac  DepDel15  DepartureDelayGroups DepTimeBlk  TaxiOut  \\\n",
              "0       Georgia       34       0.0                  -1.0  1000-1059     20.0   \n",
              "1       Georgia       34       0.0                  -1.0  1000-1059     16.0   \n",
              "2       Georgia       34       NaN                   NaN  1400-1459      NaN   \n",
              "3       Georgia       34       0.0                  -1.0  1800-1859     10.0   \n",
              "4       Georgia       34       0.0                   0.0  0600-0659      9.0   \n",
              "\n",
              "   WheelsOff  WheelsOn  TaxiIn  CRSArrTime  ArrDelay  ArrDel15  \\\n",
              "0     1052.0    1121.0     3.0        1137     -13.0       0.0   \n",
              "1     1047.0    1117.0     3.0        1137     -17.0       0.0   \n",
              "2        NaN       NaN     NaN        1605       NaN       NaN   \n",
              "3     1900.0    2004.0    17.0        2030      -9.0       0.0   \n",
              "4      634.0     656.0     8.0         711      -7.0       0.0   \n",
              "\n",
              "   ArrivalDelayGroups ArrTimeBlk  DistanceGroup  DivAirportLandings  \n",
              "0                -1.0  1100-1159              1                 0.0  \n",
              "1                -2.0  1100-1159              1                 0.0  \n",
              "2                 NaN  1600-1659              2                 0.0  \n",
              "3                -1.0  2000-2059              2                 0.0  \n",
              "4                -1.0  0700-0759              1                 0.0  "
            ],
            "text/html": [
              "\n",
              "  <div id=\"df-8ad718a3-8787-41db-962f-dc5d377be2b5\" class=\"colab-df-container\">\n",
              "    <div>\n",
              "<style scoped>\n",
              "    .dataframe tbody tr th:only-of-type {\n",
              "        vertical-align: middle;\n",
              "    }\n",
              "\n",
              "    .dataframe tbody tr th {\n",
              "        vertical-align: top;\n",
              "    }\n",
              "\n",
              "    .dataframe thead th {\n",
              "        text-align: right;\n",
              "    }\n",
              "</style>\n",
              "<table border=\"1\" class=\"dataframe\">\n",
              "  <thead>\n",
              "    <tr style=\"text-align: right;\">\n",
              "      <th></th>\n",
              "      <th>Unnamed: 0</th>\n",
              "      <th>FlightDate</th>\n",
              "      <th>Airline</th>\n",
              "      <th>Origin</th>\n",
              "      <th>Dest</th>\n",
              "      <th>Cancelled</th>\n",
              "      <th>Diverted</th>\n",
              "      <th>CRSDepTime</th>\n",
              "      <th>DepTime</th>\n",
              "      <th>DepDelayMinutes</th>\n",
              "      <th>DepDelay</th>\n",
              "      <th>ArrTime</th>\n",
              "      <th>ArrDelayMinutes</th>\n",
              "      <th>AirTime</th>\n",
              "      <th>CRSElapsedTime</th>\n",
              "      <th>ActualElapsedTime</th>\n",
              "      <th>Distance</th>\n",
              "      <th>Year</th>\n",
              "      <th>Quarter</th>\n",
              "      <th>Month</th>\n",
              "      <th>DayofMonth</th>\n",
              "      <th>DayOfWeek</th>\n",
              "      <th>Marketing_Airline_Network</th>\n",
              "      <th>Operated_or_Branded_Code_Share_Partners</th>\n",
              "      <th>DOT_ID_Marketing_Airline</th>\n",
              "      <th>IATA_Code_Marketing_Airline</th>\n",
              "      <th>Flight_Number_Marketing_Airline</th>\n",
              "      <th>Operating_Airline</th>\n",
              "      <th>DOT_ID_Operating_Airline</th>\n",
              "      <th>IATA_Code_Operating_Airline</th>\n",
              "      <th>Tail_Number</th>\n",
              "      <th>Flight_Number_Operating_Airline</th>\n",
              "      <th>OriginAirportID</th>\n",
              "      <th>OriginAirportSeqID</th>\n",
              "      <th>OriginCityMarketID</th>\n",
              "      <th>OriginCityName</th>\n",
              "      <th>OriginState</th>\n",
              "      <th>OriginStateFips</th>\n",
              "      <th>OriginStateName</th>\n",
              "      <th>OriginWac</th>\n",
              "      <th>DestAirportID</th>\n",
              "      <th>DestAirportSeqID</th>\n",
              "      <th>DestCityMarketID</th>\n",
              "      <th>DestCityName</th>\n",
              "      <th>DestState</th>\n",
              "      <th>DestStateFips</th>\n",
              "      <th>DestStateName</th>\n",
              "      <th>DestWac</th>\n",
              "      <th>DepDel15</th>\n",
              "      <th>DepartureDelayGroups</th>\n",
              "      <th>DepTimeBlk</th>\n",
              "      <th>TaxiOut</th>\n",
              "      <th>WheelsOff</th>\n",
              "      <th>WheelsOn</th>\n",
              "      <th>TaxiIn</th>\n",
              "      <th>CRSArrTime</th>\n",
              "      <th>ArrDelay</th>\n",
              "      <th>ArrDel15</th>\n",
              "      <th>ArrivalDelayGroups</th>\n",
              "      <th>ArrTimeBlk</th>\n",
              "      <th>DistanceGroup</th>\n",
              "      <th>DivAirportLandings</th>\n",
              "    </tr>\n",
              "  </thead>\n",
              "  <tbody>\n",
              "    <tr>\n",
              "      <th>0</th>\n",
              "      <td>0</td>\n",
              "      <td>2018-01-05</td>\n",
              "      <td>Endeavor Air Inc.</td>\n",
              "      <td>ATL</td>\n",
              "      <td>ABY</td>\n",
              "      <td>False</td>\n",
              "      <td>False</td>\n",
              "      <td>1037</td>\n",
              "      <td>1032.0</td>\n",
              "      <td>0.0</td>\n",
              "      <td>-5.0</td>\n",
              "      <td>1124.0</td>\n",
              "      <td>0.0</td>\n",
              "      <td>29.0</td>\n",
              "      <td>60.0</td>\n",
              "      <td>52.0</td>\n",
              "      <td>145.0</td>\n",
              "      <td>2018</td>\n",
              "      <td>1</td>\n",
              "      <td>1</td>\n",
              "      <td>5</td>\n",
              "      <td>5</td>\n",
              "      <td>DL</td>\n",
              "      <td>DL_CODESHARE</td>\n",
              "      <td>19790</td>\n",
              "      <td>DL</td>\n",
              "      <td>3298</td>\n",
              "      <td>9E</td>\n",
              "      <td>20363</td>\n",
              "      <td>9E</td>\n",
              "      <td>N8877A</td>\n",
              "      <td>3298</td>\n",
              "      <td>10397</td>\n",
              "      <td>1039707</td>\n",
              "      <td>30397</td>\n",
              "      <td>Atlanta, GA</td>\n",
              "      <td>GA</td>\n",
              "      <td>13</td>\n",
              "      <td>Georgia</td>\n",
              "      <td>34</td>\n",
              "      <td>10146</td>\n",
              "      <td>1014602</td>\n",
              "      <td>30146</td>\n",
              "      <td>Albany, GA</td>\n",
              "      <td>GA</td>\n",
              "      <td>13</td>\n",
              "      <td>Georgia</td>\n",
              "      <td>34</td>\n",
              "      <td>0.0</td>\n",
              "      <td>-1.0</td>\n",
              "      <td>1000-1059</td>\n",
              "      <td>20.0</td>\n",
              "      <td>1052.0</td>\n",
              "      <td>1121.0</td>\n",
              "      <td>3.0</td>\n",
              "      <td>1137</td>\n",
              "      <td>-13.0</td>\n",
              "      <td>0.0</td>\n",
              "      <td>-1.0</td>\n",
              "      <td>1100-1159</td>\n",
              "      <td>1</td>\n",
              "      <td>0.0</td>\n",
              "    </tr>\n",
              "    <tr>\n",
              "      <th>1</th>\n",
              "      <td>1</td>\n",
              "      <td>2018-01-14</td>\n",
              "      <td>Endeavor Air Inc.</td>\n",
              "      <td>ATL</td>\n",
              "      <td>ABY</td>\n",
              "      <td>False</td>\n",
              "      <td>False</td>\n",
              "      <td>1037</td>\n",
              "      <td>1031.0</td>\n",
              "      <td>0.0</td>\n",
              "      <td>-6.0</td>\n",
              "      <td>1120.0</td>\n",
              "      <td>0.0</td>\n",
              "      <td>30.0</td>\n",
              "      <td>60.0</td>\n",
              "      <td>49.0</td>\n",
              "      <td>145.0</td>\n",
              "      <td>2018</td>\n",
              "      <td>1</td>\n",
              "      <td>1</td>\n",
              "      <td>14</td>\n",
              "      <td>7</td>\n",
              "      <td>DL</td>\n",
              "      <td>DL_CODESHARE</td>\n",
              "      <td>19790</td>\n",
              "      <td>DL</td>\n",
              "      <td>3298</td>\n",
              "      <td>9E</td>\n",
              "      <td>20363</td>\n",
              "      <td>9E</td>\n",
              "      <td>N836AY</td>\n",
              "      <td>3298</td>\n",
              "      <td>10397</td>\n",
              "      <td>1039707</td>\n",
              "      <td>30397</td>\n",
              "      <td>Atlanta, GA</td>\n",
              "      <td>GA</td>\n",
              "      <td>13</td>\n",
              "      <td>Georgia</td>\n",
              "      <td>34</td>\n",
              "      <td>10146</td>\n",
              "      <td>1014602</td>\n",
              "      <td>30146</td>\n",
              "      <td>Albany, GA</td>\n",
              "      <td>GA</td>\n",
              "      <td>13</td>\n",
              "      <td>Georgia</td>\n",
              "      <td>34</td>\n",
              "      <td>0.0</td>\n",
              "      <td>-1.0</td>\n",
              "      <td>1000-1059</td>\n",
              "      <td>16.0</td>\n",
              "      <td>1047.0</td>\n",
              "      <td>1117.0</td>\n",
              "      <td>3.0</td>\n",
              "      <td>1137</td>\n",
              "      <td>-17.0</td>\n",
              "      <td>0.0</td>\n",
              "      <td>-2.0</td>\n",
              "      <td>1100-1159</td>\n",
              "      <td>1</td>\n",
              "      <td>0.0</td>\n",
              "    </tr>\n",
              "    <tr>\n",
              "      <th>2</th>\n",
              "      <td>2</td>\n",
              "      <td>2018-01-04</td>\n",
              "      <td>Endeavor Air Inc.</td>\n",
              "      <td>EWN</td>\n",
              "      <td>ATL</td>\n",
              "      <td>True</td>\n",
              "      <td>False</td>\n",
              "      <td>1415</td>\n",
              "      <td>NaN</td>\n",
              "      <td>NaN</td>\n",
              "      <td>NaN</td>\n",
              "      <td>NaN</td>\n",
              "      <td>NaN</td>\n",
              "      <td>NaN</td>\n",
              "      <td>110.0</td>\n",
              "      <td>NaN</td>\n",
              "      <td>433.0</td>\n",
              "      <td>2018</td>\n",
              "      <td>1</td>\n",
              "      <td>1</td>\n",
              "      <td>4</td>\n",
              "      <td>4</td>\n",
              "      <td>DL</td>\n",
              "      <td>DL_CODESHARE</td>\n",
              "      <td>19790</td>\n",
              "      <td>DL</td>\n",
              "      <td>3301</td>\n",
              "      <td>9E</td>\n",
              "      <td>20363</td>\n",
              "      <td>9E</td>\n",
              "      <td>N836AY</td>\n",
              "      <td>3301</td>\n",
              "      <td>11617</td>\n",
              "      <td>1161708</td>\n",
              "      <td>31617</td>\n",
              "      <td>New Bern/Morehead/Beaufort, NC</td>\n",
              "      <td>NC</td>\n",
              "      <td>37</td>\n",
              "      <td>North Carolina</td>\n",
              "      <td>36</td>\n",
              "      <td>10397</td>\n",
              "      <td>1039707</td>\n",
              "      <td>30397</td>\n",
              "      <td>Atlanta, GA</td>\n",
              "      <td>GA</td>\n",
              "      <td>13</td>\n",
              "      <td>Georgia</td>\n",
              "      <td>34</td>\n",
              "      <td>NaN</td>\n",
              "      <td>NaN</td>\n",
              "      <td>1400-1459</td>\n",
              "      <td>NaN</td>\n",
              "      <td>NaN</td>\n",
              "      <td>NaN</td>\n",
              "      <td>NaN</td>\n",
              "      <td>1605</td>\n",
              "      <td>NaN</td>\n",
              "      <td>NaN</td>\n",
              "      <td>NaN</td>\n",
              "      <td>1600-1659</td>\n",
              "      <td>2</td>\n",
              "      <td>0.0</td>\n",
              "    </tr>\n",
              "    <tr>\n",
              "      <th>3</th>\n",
              "      <td>3</td>\n",
              "      <td>2018-01-09</td>\n",
              "      <td>Endeavor Air Inc.</td>\n",
              "      <td>FAY</td>\n",
              "      <td>ATL</td>\n",
              "      <td>False</td>\n",
              "      <td>False</td>\n",
              "      <td>1853</td>\n",
              "      <td>1850.0</td>\n",
              "      <td>0.0</td>\n",
              "      <td>-3.0</td>\n",
              "      <td>2021.0</td>\n",
              "      <td>0.0</td>\n",
              "      <td>64.0</td>\n",
              "      <td>97.0</td>\n",
              "      <td>91.0</td>\n",
              "      <td>331.0</td>\n",
              "      <td>2018</td>\n",
              "      <td>1</td>\n",
              "      <td>1</td>\n",
              "      <td>9</td>\n",
              "      <td>2</td>\n",
              "      <td>DL</td>\n",
              "      <td>DL_CODESHARE</td>\n",
              "      <td>19790</td>\n",
              "      <td>DL</td>\n",
              "      <td>3302</td>\n",
              "      <td>9E</td>\n",
              "      <td>20363</td>\n",
              "      <td>9E</td>\n",
              "      <td>N8869B</td>\n",
              "      <td>3302</td>\n",
              "      <td>11641</td>\n",
              "      <td>1164102</td>\n",
              "      <td>31641</td>\n",
              "      <td>Fayetteville, NC</td>\n",
              "      <td>NC</td>\n",
              "      <td>37</td>\n",
              "      <td>North Carolina</td>\n",
              "      <td>36</td>\n",
              "      <td>10397</td>\n",
              "      <td>1039707</td>\n",
              "      <td>30397</td>\n",
              "      <td>Atlanta, GA</td>\n",
              "      <td>GA</td>\n",
              "      <td>13</td>\n",
              "      <td>Georgia</td>\n",
              "      <td>34</td>\n",
              "      <td>0.0</td>\n",
              "      <td>-1.0</td>\n",
              "      <td>1800-1859</td>\n",
              "      <td>10.0</td>\n",
              "      <td>1900.0</td>\n",
              "      <td>2004.0</td>\n",
              "      <td>17.0</td>\n",
              "      <td>2030</td>\n",
              "      <td>-9.0</td>\n",
              "      <td>0.0</td>\n",
              "      <td>-1.0</td>\n",
              "      <td>2000-2059</td>\n",
              "      <td>2</td>\n",
              "      <td>0.0</td>\n",
              "    </tr>\n",
              "    <tr>\n",
              "      <th>4</th>\n",
              "      <td>4</td>\n",
              "      <td>2018-01-15</td>\n",
              "      <td>Endeavor Air Inc.</td>\n",
              "      <td>CSG</td>\n",
              "      <td>ATL</td>\n",
              "      <td>False</td>\n",
              "      <td>False</td>\n",
              "      <td>615</td>\n",
              "      <td>625.0</td>\n",
              "      <td>10.0</td>\n",
              "      <td>10.0</td>\n",
              "      <td>704.0</td>\n",
              "      <td>0.0</td>\n",
              "      <td>22.0</td>\n",
              "      <td>56.0</td>\n",
              "      <td>39.0</td>\n",
              "      <td>83.0</td>\n",
              "      <td>2018</td>\n",
              "      <td>1</td>\n",
              "      <td>1</td>\n",
              "      <td>15</td>\n",
              "      <td>1</td>\n",
              "      <td>DL</td>\n",
              "      <td>DL_CODESHARE</td>\n",
              "      <td>19790</td>\n",
              "      <td>DL</td>\n",
              "      <td>3306</td>\n",
              "      <td>9E</td>\n",
              "      <td>20363</td>\n",
              "      <td>9E</td>\n",
              "      <td>N832AY</td>\n",
              "      <td>3306</td>\n",
              "      <td>11150</td>\n",
              "      <td>1115005</td>\n",
              "      <td>31150</td>\n",
              "      <td>Columbus, GA</td>\n",
              "      <td>GA</td>\n",
              "      <td>13</td>\n",
              "      <td>Georgia</td>\n",
              "      <td>34</td>\n",
              "      <td>10397</td>\n",
              "      <td>1039707</td>\n",
              "      <td>30397</td>\n",
              "      <td>Atlanta, GA</td>\n",
              "      <td>GA</td>\n",
              "      <td>13</td>\n",
              "      <td>Georgia</td>\n",
              "      <td>34</td>\n",
              "      <td>0.0</td>\n",
              "      <td>0.0</td>\n",
              "      <td>0600-0659</td>\n",
              "      <td>9.0</td>\n",
              "      <td>634.0</td>\n",
              "      <td>656.0</td>\n",
              "      <td>8.0</td>\n",
              "      <td>711</td>\n",
              "      <td>-7.0</td>\n",
              "      <td>0.0</td>\n",
              "      <td>-1.0</td>\n",
              "      <td>0700-0759</td>\n",
              "      <td>1</td>\n",
              "      <td>0.0</td>\n",
              "    </tr>\n",
              "  </tbody>\n",
              "</table>\n",
              "</div>\n",
              "    <div class=\"colab-df-buttons\">\n",
              "\n",
              "  <div class=\"colab-df-container\">\n",
              "    <button class=\"colab-df-convert\" onclick=\"convertToInteractive('df-8ad718a3-8787-41db-962f-dc5d377be2b5')\"\n",
              "            title=\"Convert this dataframe to an interactive table.\"\n",
              "            style=\"display:none;\">\n",
              "\n",
              "  <svg xmlns=\"http://www.w3.org/2000/svg\" height=\"24px\" viewBox=\"0 -960 960 960\">\n",
              "    <path d=\"M120-120v-720h720v720H120Zm60-500h600v-160H180v160Zm220 220h160v-160H400v160Zm0 220h160v-160H400v160ZM180-400h160v-160H180v160Zm440 0h160v-160H620v160ZM180-180h160v-160H180v160Zm440 0h160v-160H620v160Z\"/>\n",
              "  </svg>\n",
              "    </button>\n",
              "\n",
              "  <style>\n",
              "    .colab-df-container {\n",
              "      display:flex;\n",
              "      gap: 12px;\n",
              "    }\n",
              "\n",
              "    .colab-df-convert {\n",
              "      background-color: #E8F0FE;\n",
              "      border: none;\n",
              "      border-radius: 50%;\n",
              "      cursor: pointer;\n",
              "      display: none;\n",
              "      fill: #1967D2;\n",
              "      height: 32px;\n",
              "      padding: 0 0 0 0;\n",
              "      width: 32px;\n",
              "    }\n",
              "\n",
              "    .colab-df-convert:hover {\n",
              "      background-color: #E2EBFA;\n",
              "      box-shadow: 0px 1px 2px rgba(60, 64, 67, 0.3), 0px 1px 3px 1px rgba(60, 64, 67, 0.15);\n",
              "      fill: #174EA6;\n",
              "    }\n",
              "\n",
              "    .colab-df-buttons div {\n",
              "      margin-bottom: 4px;\n",
              "    }\n",
              "\n",
              "    [theme=dark] .colab-df-convert {\n",
              "      background-color: #3B4455;\n",
              "      fill: #D2E3FC;\n",
              "    }\n",
              "\n",
              "    [theme=dark] .colab-df-convert:hover {\n",
              "      background-color: #434B5C;\n",
              "      box-shadow: 0px 1px 3px 1px rgba(0, 0, 0, 0.15);\n",
              "      filter: drop-shadow(0px 1px 2px rgba(0, 0, 0, 0.3));\n",
              "      fill: #FFFFFF;\n",
              "    }\n",
              "  </style>\n",
              "\n",
              "    <script>\n",
              "      const buttonEl =\n",
              "        document.querySelector('#df-8ad718a3-8787-41db-962f-dc5d377be2b5 button.colab-df-convert');\n",
              "      buttonEl.style.display =\n",
              "        google.colab.kernel.accessAllowed ? 'block' : 'none';\n",
              "\n",
              "      async function convertToInteractive(key) {\n",
              "        const element = document.querySelector('#df-8ad718a3-8787-41db-962f-dc5d377be2b5');\n",
              "        const dataTable =\n",
              "          await google.colab.kernel.invokeFunction('convertToInteractive',\n",
              "                                                    [key], {});\n",
              "        if (!dataTable) return;\n",
              "\n",
              "        const docLinkHtml = 'Like what you see? Visit the ' +\n",
              "          '<a target=\"_blank\" href=https://colab.research.google.com/notebooks/data_table.ipynb>data table notebook</a>'\n",
              "          + ' to learn more about interactive tables.';\n",
              "        element.innerHTML = '';\n",
              "        dataTable['output_type'] = 'display_data';\n",
              "        await google.colab.output.renderOutput(dataTable, element);\n",
              "        const docLink = document.createElement('div');\n",
              "        docLink.innerHTML = docLinkHtml;\n",
              "        element.appendChild(docLink);\n",
              "      }\n",
              "    </script>\n",
              "  </div>\n",
              "\n",
              "\n",
              "<div id=\"df-c98461c9-0c8a-443b-9d72-2a62a542719b\">\n",
              "  <button class=\"colab-df-quickchart\" onclick=\"quickchart('df-c98461c9-0c8a-443b-9d72-2a62a542719b')\"\n",
              "            title=\"Suggest charts\"\n",
              "            style=\"display:none;\">\n",
              "\n",
              "<svg xmlns=\"http://www.w3.org/2000/svg\" height=\"24px\"viewBox=\"0 0 24 24\"\n",
              "     width=\"24px\">\n",
              "    <g>\n",
              "        <path d=\"M19 3H5c-1.1 0-2 .9-2 2v14c0 1.1.9 2 2 2h14c1.1 0 2-.9 2-2V5c0-1.1-.9-2-2-2zM9 17H7v-7h2v7zm4 0h-2V7h2v10zm4 0h-2v-4h2v4z\"/>\n",
              "    </g>\n",
              "</svg>\n",
              "  </button>\n",
              "\n",
              "<style>\n",
              "  .colab-df-quickchart {\n",
              "      --bg-color: #E8F0FE;\n",
              "      --fill-color: #1967D2;\n",
              "      --hover-bg-color: #E2EBFA;\n",
              "      --hover-fill-color: #174EA6;\n",
              "      --disabled-fill-color: #AAA;\n",
              "      --disabled-bg-color: #DDD;\n",
              "  }\n",
              "\n",
              "  [theme=dark] .colab-df-quickchart {\n",
              "      --bg-color: #3B4455;\n",
              "      --fill-color: #D2E3FC;\n",
              "      --hover-bg-color: #434B5C;\n",
              "      --hover-fill-color: #FFFFFF;\n",
              "      --disabled-bg-color: #3B4455;\n",
              "      --disabled-fill-color: #666;\n",
              "  }\n",
              "\n",
              "  .colab-df-quickchart {\n",
              "    background-color: var(--bg-color);\n",
              "    border: none;\n",
              "    border-radius: 50%;\n",
              "    cursor: pointer;\n",
              "    display: none;\n",
              "    fill: var(--fill-color);\n",
              "    height: 32px;\n",
              "    padding: 0;\n",
              "    width: 32px;\n",
              "  }\n",
              "\n",
              "  .colab-df-quickchart:hover {\n",
              "    background-color: var(--hover-bg-color);\n",
              "    box-shadow: 0 1px 2px rgba(60, 64, 67, 0.3), 0 1px 3px 1px rgba(60, 64, 67, 0.15);\n",
              "    fill: var(--button-hover-fill-color);\n",
              "  }\n",
              "\n",
              "  .colab-df-quickchart-complete:disabled,\n",
              "  .colab-df-quickchart-complete:disabled:hover {\n",
              "    background-color: var(--disabled-bg-color);\n",
              "    fill: var(--disabled-fill-color);\n",
              "    box-shadow: none;\n",
              "  }\n",
              "\n",
              "  .colab-df-spinner {\n",
              "    border: 2px solid var(--fill-color);\n",
              "    border-color: transparent;\n",
              "    border-bottom-color: var(--fill-color);\n",
              "    animation:\n",
              "      spin 1s steps(1) infinite;\n",
              "  }\n",
              "\n",
              "  @keyframes spin {\n",
              "    0% {\n",
              "      border-color: transparent;\n",
              "      border-bottom-color: var(--fill-color);\n",
              "      border-left-color: var(--fill-color);\n",
              "    }\n",
              "    20% {\n",
              "      border-color: transparent;\n",
              "      border-left-color: var(--fill-color);\n",
              "      border-top-color: var(--fill-color);\n",
              "    }\n",
              "    30% {\n",
              "      border-color: transparent;\n",
              "      border-left-color: var(--fill-color);\n",
              "      border-top-color: var(--fill-color);\n",
              "      border-right-color: var(--fill-color);\n",
              "    }\n",
              "    40% {\n",
              "      border-color: transparent;\n",
              "      border-right-color: var(--fill-color);\n",
              "      border-top-color: var(--fill-color);\n",
              "    }\n",
              "    60% {\n",
              "      border-color: transparent;\n",
              "      border-right-color: var(--fill-color);\n",
              "    }\n",
              "    80% {\n",
              "      border-color: transparent;\n",
              "      border-right-color: var(--fill-color);\n",
              "      border-bottom-color: var(--fill-color);\n",
              "    }\n",
              "    90% {\n",
              "      border-color: transparent;\n",
              "      border-bottom-color: var(--fill-color);\n",
              "    }\n",
              "  }\n",
              "</style>\n",
              "\n",
              "  <script>\n",
              "    async function quickchart(key) {\n",
              "      const quickchartButtonEl =\n",
              "        document.querySelector('#' + key + ' button');\n",
              "      quickchartButtonEl.disabled = true;  // To prevent multiple clicks.\n",
              "      quickchartButtonEl.classList.add('colab-df-spinner');\n",
              "      try {\n",
              "        const charts = await google.colab.kernel.invokeFunction(\n",
              "            'suggestCharts', [key], {});\n",
              "      } catch (error) {\n",
              "        console.error('Error during call to suggestCharts:', error);\n",
              "      }\n",
              "      quickchartButtonEl.classList.remove('colab-df-spinner');\n",
              "      quickchartButtonEl.classList.add('colab-df-quickchart-complete');\n",
              "    }\n",
              "    (() => {\n",
              "      let quickchartButtonEl =\n",
              "        document.querySelector('#df-c98461c9-0c8a-443b-9d72-2a62a542719b button');\n",
              "      quickchartButtonEl.style.display =\n",
              "        google.colab.kernel.accessAllowed ? 'block' : 'none';\n",
              "    })();\n",
              "  </script>\n",
              "</div>\n",
              "\n",
              "    </div>\n",
              "  </div>\n"
            ],
            "application/vnd.google.colaboratory.intrinsic+json": {
              "type": "dataframe",
              "variable_name": "df1"
            }
          },
          "metadata": {},
          "execution_count": 6
        }
      ],
      "source": [
        "pd.set_option('display.max_columns', None)\n",
        "df1.head()"
      ]
    },
    {
      "cell_type": "code",
      "execution_count": null,
      "metadata": {
        "id": "JP2Um4R4JOC_"
      },
      "outputs": [],
      "source": [
        "#dfat = df AirTime\n",
        "dfat2018 = df1[['Airline', 'AirTime']]"
      ]
    },
    {
      "cell_type": "code",
      "execution_count": null,
      "metadata": {
        "id": "q-arvl1gL0JK"
      },
      "outputs": [],
      "source": [
        "pd.reset_option('display.max_rows')"
      ]
    },
    {
      "cell_type": "code",
      "execution_count": null,
      "metadata": {
        "colab": {
          "base_uri": "https://localhost:8080/"
        },
        "id": "lMdiJV_FK5Cr",
        "outputId": "3259bcea-3785-4598-92e9-7d66e1b68101"
      },
      "outputs": [
        {
          "output_type": "execute_result",
          "data": {
            "text/plain": [
              "                                         Airline  AirTime\n",
              "0                              Endeavor Air Inc.     29.0\n",
              "1                              Endeavor Air Inc.     30.0\n",
              "2                              Endeavor Air Inc.      NaN\n",
              "3                              Endeavor Air Inc.     64.0\n",
              "4                              Endeavor Air Inc.     22.0\n",
              "...                                          ...      ...\n",
              "56821                      United Air Lines Inc.     94.0\n",
              "56822                Air Wisconsin Airlines Corp     25.0\n",
              "56823  Commutair Aka Champlain Enterprises, Inc.     71.0\n",
              "56824   GoJet Airlines, LLC d/b/a United Express    143.0\n",
              "56825                Air Wisconsin Airlines Corp     80.0\n",
              "\n",
              "[56826 rows x 2 columns]"
            ],
            "text/html": [
              "\n",
              "  <div id=\"df-daf72bc3-239b-416b-80ca-8ae38eb54eb0\" class=\"colab-df-container\">\n",
              "    <div>\n",
              "<style scoped>\n",
              "    .dataframe tbody tr th:only-of-type {\n",
              "        vertical-align: middle;\n",
              "    }\n",
              "\n",
              "    .dataframe tbody tr th {\n",
              "        vertical-align: top;\n",
              "    }\n",
              "\n",
              "    .dataframe thead th {\n",
              "        text-align: right;\n",
              "    }\n",
              "</style>\n",
              "<table border=\"1\" class=\"dataframe\">\n",
              "  <thead>\n",
              "    <tr style=\"text-align: right;\">\n",
              "      <th></th>\n",
              "      <th>Airline</th>\n",
              "      <th>AirTime</th>\n",
              "    </tr>\n",
              "  </thead>\n",
              "  <tbody>\n",
              "    <tr>\n",
              "      <th>0</th>\n",
              "      <td>Endeavor Air Inc.</td>\n",
              "      <td>29.0</td>\n",
              "    </tr>\n",
              "    <tr>\n",
              "      <th>1</th>\n",
              "      <td>Endeavor Air Inc.</td>\n",
              "      <td>30.0</td>\n",
              "    </tr>\n",
              "    <tr>\n",
              "      <th>2</th>\n",
              "      <td>Endeavor Air Inc.</td>\n",
              "      <td>NaN</td>\n",
              "    </tr>\n",
              "    <tr>\n",
              "      <th>3</th>\n",
              "      <td>Endeavor Air Inc.</td>\n",
              "      <td>64.0</td>\n",
              "    </tr>\n",
              "    <tr>\n",
              "      <th>4</th>\n",
              "      <td>Endeavor Air Inc.</td>\n",
              "      <td>22.0</td>\n",
              "    </tr>\n",
              "    <tr>\n",
              "      <th>...</th>\n",
              "      <td>...</td>\n",
              "      <td>...</td>\n",
              "    </tr>\n",
              "    <tr>\n",
              "      <th>56821</th>\n",
              "      <td>United Air Lines Inc.</td>\n",
              "      <td>94.0</td>\n",
              "    </tr>\n",
              "    <tr>\n",
              "      <th>56822</th>\n",
              "      <td>Air Wisconsin Airlines Corp</td>\n",
              "      <td>25.0</td>\n",
              "    </tr>\n",
              "    <tr>\n",
              "      <th>56823</th>\n",
              "      <td>Commutair Aka Champlain Enterprises, Inc.</td>\n",
              "      <td>71.0</td>\n",
              "    </tr>\n",
              "    <tr>\n",
              "      <th>56824</th>\n",
              "      <td>GoJet Airlines, LLC d/b/a United Express</td>\n",
              "      <td>143.0</td>\n",
              "    </tr>\n",
              "    <tr>\n",
              "      <th>56825</th>\n",
              "      <td>Air Wisconsin Airlines Corp</td>\n",
              "      <td>80.0</td>\n",
              "    </tr>\n",
              "  </tbody>\n",
              "</table>\n",
              "<p>56826 rows × 2 columns</p>\n",
              "</div>\n",
              "    <div class=\"colab-df-buttons\">\n",
              "\n",
              "  <div class=\"colab-df-container\">\n",
              "    <button class=\"colab-df-convert\" onclick=\"convertToInteractive('df-daf72bc3-239b-416b-80ca-8ae38eb54eb0')\"\n",
              "            title=\"Convert this dataframe to an interactive table.\"\n",
              "            style=\"display:none;\">\n",
              "\n",
              "  <svg xmlns=\"http://www.w3.org/2000/svg\" height=\"24px\" viewBox=\"0 -960 960 960\">\n",
              "    <path d=\"M120-120v-720h720v720H120Zm60-500h600v-160H180v160Zm220 220h160v-160H400v160Zm0 220h160v-160H400v160ZM180-400h160v-160H180v160Zm440 0h160v-160H620v160ZM180-180h160v-160H180v160Zm440 0h160v-160H620v160Z\"/>\n",
              "  </svg>\n",
              "    </button>\n",
              "\n",
              "  <style>\n",
              "    .colab-df-container {\n",
              "      display:flex;\n",
              "      gap: 12px;\n",
              "    }\n",
              "\n",
              "    .colab-df-convert {\n",
              "      background-color: #E8F0FE;\n",
              "      border: none;\n",
              "      border-radius: 50%;\n",
              "      cursor: pointer;\n",
              "      display: none;\n",
              "      fill: #1967D2;\n",
              "      height: 32px;\n",
              "      padding: 0 0 0 0;\n",
              "      width: 32px;\n",
              "    }\n",
              "\n",
              "    .colab-df-convert:hover {\n",
              "      background-color: #E2EBFA;\n",
              "      box-shadow: 0px 1px 2px rgba(60, 64, 67, 0.3), 0px 1px 3px 1px rgba(60, 64, 67, 0.15);\n",
              "      fill: #174EA6;\n",
              "    }\n",
              "\n",
              "    .colab-df-buttons div {\n",
              "      margin-bottom: 4px;\n",
              "    }\n",
              "\n",
              "    [theme=dark] .colab-df-convert {\n",
              "      background-color: #3B4455;\n",
              "      fill: #D2E3FC;\n",
              "    }\n",
              "\n",
              "    [theme=dark] .colab-df-convert:hover {\n",
              "      background-color: #434B5C;\n",
              "      box-shadow: 0px 1px 3px 1px rgba(0, 0, 0, 0.15);\n",
              "      filter: drop-shadow(0px 1px 2px rgba(0, 0, 0, 0.3));\n",
              "      fill: #FFFFFF;\n",
              "    }\n",
              "  </style>\n",
              "\n",
              "    <script>\n",
              "      const buttonEl =\n",
              "        document.querySelector('#df-daf72bc3-239b-416b-80ca-8ae38eb54eb0 button.colab-df-convert');\n",
              "      buttonEl.style.display =\n",
              "        google.colab.kernel.accessAllowed ? 'block' : 'none';\n",
              "\n",
              "      async function convertToInteractive(key) {\n",
              "        const element = document.querySelector('#df-daf72bc3-239b-416b-80ca-8ae38eb54eb0');\n",
              "        const dataTable =\n",
              "          await google.colab.kernel.invokeFunction('convertToInteractive',\n",
              "                                                    [key], {});\n",
              "        if (!dataTable) return;\n",
              "\n",
              "        const docLinkHtml = 'Like what you see? Visit the ' +\n",
              "          '<a target=\"_blank\" href=https://colab.research.google.com/notebooks/data_table.ipynb>data table notebook</a>'\n",
              "          + ' to learn more about interactive tables.';\n",
              "        element.innerHTML = '';\n",
              "        dataTable['output_type'] = 'display_data';\n",
              "        await google.colab.output.renderOutput(dataTable, element);\n",
              "        const docLink = document.createElement('div');\n",
              "        docLink.innerHTML = docLinkHtml;\n",
              "        element.appendChild(docLink);\n",
              "      }\n",
              "    </script>\n",
              "  </div>\n",
              "\n",
              "\n",
              "<div id=\"df-e4456fa2-86cd-4292-ae44-5f39e240a06f\">\n",
              "  <button class=\"colab-df-quickchart\" onclick=\"quickchart('df-e4456fa2-86cd-4292-ae44-5f39e240a06f')\"\n",
              "            title=\"Suggest charts\"\n",
              "            style=\"display:none;\">\n",
              "\n",
              "<svg xmlns=\"http://www.w3.org/2000/svg\" height=\"24px\"viewBox=\"0 0 24 24\"\n",
              "     width=\"24px\">\n",
              "    <g>\n",
              "        <path d=\"M19 3H5c-1.1 0-2 .9-2 2v14c0 1.1.9 2 2 2h14c1.1 0 2-.9 2-2V5c0-1.1-.9-2-2-2zM9 17H7v-7h2v7zm4 0h-2V7h2v10zm4 0h-2v-4h2v4z\"/>\n",
              "    </g>\n",
              "</svg>\n",
              "  </button>\n",
              "\n",
              "<style>\n",
              "  .colab-df-quickchart {\n",
              "      --bg-color: #E8F0FE;\n",
              "      --fill-color: #1967D2;\n",
              "      --hover-bg-color: #E2EBFA;\n",
              "      --hover-fill-color: #174EA6;\n",
              "      --disabled-fill-color: #AAA;\n",
              "      --disabled-bg-color: #DDD;\n",
              "  }\n",
              "\n",
              "  [theme=dark] .colab-df-quickchart {\n",
              "      --bg-color: #3B4455;\n",
              "      --fill-color: #D2E3FC;\n",
              "      --hover-bg-color: #434B5C;\n",
              "      --hover-fill-color: #FFFFFF;\n",
              "      --disabled-bg-color: #3B4455;\n",
              "      --disabled-fill-color: #666;\n",
              "  }\n",
              "\n",
              "  .colab-df-quickchart {\n",
              "    background-color: var(--bg-color);\n",
              "    border: none;\n",
              "    border-radius: 50%;\n",
              "    cursor: pointer;\n",
              "    display: none;\n",
              "    fill: var(--fill-color);\n",
              "    height: 32px;\n",
              "    padding: 0;\n",
              "    width: 32px;\n",
              "  }\n",
              "\n",
              "  .colab-df-quickchart:hover {\n",
              "    background-color: var(--hover-bg-color);\n",
              "    box-shadow: 0 1px 2px rgba(60, 64, 67, 0.3), 0 1px 3px 1px rgba(60, 64, 67, 0.15);\n",
              "    fill: var(--button-hover-fill-color);\n",
              "  }\n",
              "\n",
              "  .colab-df-quickchart-complete:disabled,\n",
              "  .colab-df-quickchart-complete:disabled:hover {\n",
              "    background-color: var(--disabled-bg-color);\n",
              "    fill: var(--disabled-fill-color);\n",
              "    box-shadow: none;\n",
              "  }\n",
              "\n",
              "  .colab-df-spinner {\n",
              "    border: 2px solid var(--fill-color);\n",
              "    border-color: transparent;\n",
              "    border-bottom-color: var(--fill-color);\n",
              "    animation:\n",
              "      spin 1s steps(1) infinite;\n",
              "  }\n",
              "\n",
              "  @keyframes spin {\n",
              "    0% {\n",
              "      border-color: transparent;\n",
              "      border-bottom-color: var(--fill-color);\n",
              "      border-left-color: var(--fill-color);\n",
              "    }\n",
              "    20% {\n",
              "      border-color: transparent;\n",
              "      border-left-color: var(--fill-color);\n",
              "      border-top-color: var(--fill-color);\n",
              "    }\n",
              "    30% {\n",
              "      border-color: transparent;\n",
              "      border-left-color: var(--fill-color);\n",
              "      border-top-color: var(--fill-color);\n",
              "      border-right-color: var(--fill-color);\n",
              "    }\n",
              "    40% {\n",
              "      border-color: transparent;\n",
              "      border-right-color: var(--fill-color);\n",
              "      border-top-color: var(--fill-color);\n",
              "    }\n",
              "    60% {\n",
              "      border-color: transparent;\n",
              "      border-right-color: var(--fill-color);\n",
              "    }\n",
              "    80% {\n",
              "      border-color: transparent;\n",
              "      border-right-color: var(--fill-color);\n",
              "      border-bottom-color: var(--fill-color);\n",
              "    }\n",
              "    90% {\n",
              "      border-color: transparent;\n",
              "      border-bottom-color: var(--fill-color);\n",
              "    }\n",
              "  }\n",
              "</style>\n",
              "\n",
              "  <script>\n",
              "    async function quickchart(key) {\n",
              "      const quickchartButtonEl =\n",
              "        document.querySelector('#' + key + ' button');\n",
              "      quickchartButtonEl.disabled = true;  // To prevent multiple clicks.\n",
              "      quickchartButtonEl.classList.add('colab-df-spinner');\n",
              "      try {\n",
              "        const charts = await google.colab.kernel.invokeFunction(\n",
              "            'suggestCharts', [key], {});\n",
              "      } catch (error) {\n",
              "        console.error('Error during call to suggestCharts:', error);\n",
              "      }\n",
              "      quickchartButtonEl.classList.remove('colab-df-spinner');\n",
              "      quickchartButtonEl.classList.add('colab-df-quickchart-complete');\n",
              "    }\n",
              "    (() => {\n",
              "      let quickchartButtonEl =\n",
              "        document.querySelector('#df-e4456fa2-86cd-4292-ae44-5f39e240a06f button');\n",
              "      quickchartButtonEl.style.display =\n",
              "        google.colab.kernel.accessAllowed ? 'block' : 'none';\n",
              "    })();\n",
              "  </script>\n",
              "</div>\n",
              "\n",
              "  <div id=\"id_d7a169bf-85f8-4347-bb18-d16721c37b29\">\n",
              "    <style>\n",
              "      .colab-df-generate {\n",
              "        background-color: #E8F0FE;\n",
              "        border: none;\n",
              "        border-radius: 50%;\n",
              "        cursor: pointer;\n",
              "        display: none;\n",
              "        fill: #1967D2;\n",
              "        height: 32px;\n",
              "        padding: 0 0 0 0;\n",
              "        width: 32px;\n",
              "      }\n",
              "\n",
              "      .colab-df-generate:hover {\n",
              "        background-color: #E2EBFA;\n",
              "        box-shadow: 0px 1px 2px rgba(60, 64, 67, 0.3), 0px 1px 3px 1px rgba(60, 64, 67, 0.15);\n",
              "        fill: #174EA6;\n",
              "      }\n",
              "\n",
              "      [theme=dark] .colab-df-generate {\n",
              "        background-color: #3B4455;\n",
              "        fill: #D2E3FC;\n",
              "      }\n",
              "\n",
              "      [theme=dark] .colab-df-generate:hover {\n",
              "        background-color: #434B5C;\n",
              "        box-shadow: 0px 1px 3px 1px rgba(0, 0, 0, 0.15);\n",
              "        filter: drop-shadow(0px 1px 2px rgba(0, 0, 0, 0.3));\n",
              "        fill: #FFFFFF;\n",
              "      }\n",
              "    </style>\n",
              "    <button class=\"colab-df-generate\" onclick=\"generateWithVariable('dfat2018')\"\n",
              "            title=\"Generate code using this dataframe.\"\n",
              "            style=\"display:none;\">\n",
              "\n",
              "  <svg xmlns=\"http://www.w3.org/2000/svg\" height=\"24px\"viewBox=\"0 0 24 24\"\n",
              "       width=\"24px\">\n",
              "    <path d=\"M7,19H8.4L18.45,9,17,7.55,7,17.6ZM5,21V16.75L18.45,3.32a2,2,0,0,1,2.83,0l1.4,1.43a1.91,1.91,0,0,1,.58,1.4,1.91,1.91,0,0,1-.58,1.4L9.25,21ZM18.45,9,17,7.55Zm-12,3A5.31,5.31,0,0,0,4.9,8.1,5.31,5.31,0,0,0,1,6.5,5.31,5.31,0,0,0,4.9,4.9,5.31,5.31,0,0,0,6.5,1,5.31,5.31,0,0,0,8.1,4.9,5.31,5.31,0,0,0,12,6.5,5.46,5.46,0,0,0,6.5,12Z\"/>\n",
              "  </svg>\n",
              "    </button>\n",
              "    <script>\n",
              "      (() => {\n",
              "      const buttonEl =\n",
              "        document.querySelector('#id_d7a169bf-85f8-4347-bb18-d16721c37b29 button.colab-df-generate');\n",
              "      buttonEl.style.display =\n",
              "        google.colab.kernel.accessAllowed ? 'block' : 'none';\n",
              "\n",
              "      buttonEl.onclick = () => {\n",
              "        google.colab.notebook.generateWithVariable('dfat2018');\n",
              "      }\n",
              "      })();\n",
              "    </script>\n",
              "  </div>\n",
              "\n",
              "    </div>\n",
              "  </div>\n"
            ],
            "application/vnd.google.colaboratory.intrinsic+json": {
              "type": "dataframe",
              "variable_name": "dfat2018",
              "summary": "{\n  \"name\": \"dfat2018\",\n  \"rows\": 56826,\n  \"fields\": [\n    {\n      \"column\": \"Airline\",\n      \"properties\": {\n        \"dtype\": \"category\",\n        \"num_unique_values\": 28,\n        \"samples\": [\n          \"Southwest Airlines Co.\",\n          \"American Airlines Inc.\",\n          \"Empire Airlines Inc.\"\n        ],\n        \"semantic_type\": \"\",\n        \"description\": \"\"\n      }\n    },\n    {\n      \"column\": \"AirTime\",\n      \"properties\": {\n        \"dtype\": \"number\",\n        \"std\": 71.18191793327397,\n        \"min\": 8.0,\n        \"max\": 683.0,\n        \"num_unique_values\": 446,\n        \"samples\": [\n          299.0,\n          313.0,\n          268.0\n        ],\n        \"semantic_type\": \"\",\n        \"description\": \"\"\n      }\n    }\n  ]\n}"
            }
          },
          "metadata": {},
          "execution_count": 9
        }
      ],
      "source": [
        "dfat2018"
      ]
    },
    {
      "cell_type": "code",
      "execution_count": null,
      "metadata": {
        "colab": {
          "base_uri": "https://localhost:8080/"
        },
        "id": "LjI_bz-zMzkW",
        "outputId": "e60c7078-37ab-4dce-ec26-c6a30af7bbee"
      },
      "outputs": [
        {
          "output_type": "execute_result",
          "data": {
            "text/plain": [
              "array(['Endeavor Air Inc.', 'JetBlue Airways', 'ExpressJet Airlines Inc.',\n",
              "       'Allegiant Air', 'Hawaiian Airlines Inc.', 'Spirit Air Lines',\n",
              "       'SkyWest Airlines Inc.', 'Frontier Airlines Inc.',\n",
              "       'Empire Airlines Inc.', 'Southwest Airlines Co.',\n",
              "       'Mesa Airlines Inc.', 'Republic Airlines', 'Delta Air Lines Inc.',\n",
              "       'United Air Lines Inc.', 'Alaska Airlines Inc.',\n",
              "       'Commutair Aka Champlain Enterprises, Inc.',\n",
              "       'Trans States Airlines',\n",
              "       'GoJet Airlines, LLC d/b/a United Express',\n",
              "       'Air Wisconsin Airlines Corp', 'Cape Air', 'Horizon Air',\n",
              "       'Compass Airlines', 'Virgin America', 'Peninsula Airways Inc.',\n",
              "       'Envoy Air', 'American Airlines Inc.', 'Comair Inc.',\n",
              "       'Capital Cargo International'], dtype=object)"
            ]
          },
          "metadata": {},
          "execution_count": 10
        }
      ],
      "source": [
        "dfat2018['Airline'].unique()"
      ]
    },
    {
      "cell_type": "markdown",
      "metadata": {
        "id": "XJliaL0oPHYD"
      },
      "source": [
        "###❗ NaN - para esses valores deve haver uma substituicao por zero, media, moda e mediana. Foram plotados histogramas para entender a distribuicao dos dados e optar pela melhor escolha. Foi feita a substituicao pela MEDIANA."
      ]
    },
    {
      "cell_type": "markdown",
      "metadata": {
        "id": "MgEND1GtTHZt"
      },
      "source": [
        "### ❗ Histogramas - plotados para compreensao da distribuicao dos dados e identificacao de outliers. Para posterior tratamento e substituicao de NaNs."
      ]
    },
    {
      "cell_type": "code",
      "execution_count": null,
      "metadata": {
        "colab": {
          "base_uri": "https://localhost:8080/"
        },
        "id": "_eRnAmVGN3OH",
        "outputId": "e36b80af-76ba-4dd3-9235-254926f46fc6"
      },
      "outputs": [
        {
          "output_type": "execute_result",
          "data": {
            "text/plain": [
              "\"dfat1_2018 = dfat2018[dfat2018['Airline'] == 'Endeavor Air Inc.']\""
            ],
            "application/vnd.google.colaboratory.intrinsic+json": {
              "type": "string"
            }
          },
          "metadata": {},
          "execution_count": 11
        }
      ],
      "source": [
        "'''dfat1_2018 = dfat2018[dfat2018['Airline'] == 'Endeavor Air Inc.']'''"
      ]
    },
    {
      "cell_type": "code",
      "execution_count": null,
      "metadata": {
        "colab": {
          "base_uri": "https://localhost:8080/"
        },
        "id": "kQWqMT9yNY2d",
        "outputId": "4a541f3f-122d-4ebc-ebd2-ee1c2fb2990b"
      },
      "outputs": [
        {
          "output_type": "execute_result",
          "data": {
            "text/plain": [
              "\"# Histograma\\nplt.figure(figsize=(12, 5))\\nplt.subplot(1, 2, 1)\\nsns.histplot(dfat1_2018['Airline'], bins=30, kde=True)\\nplt.title(f'Histograma de {'Airline'}')\\n\""
            ],
            "application/vnd.google.colaboratory.intrinsic+json": {
              "type": "string"
            }
          },
          "metadata": {},
          "execution_count": 12
        }
      ],
      "source": [
        "'''# Histograma\n",
        "plt.figure(figsize=(12, 5))\n",
        "plt.subplot(1, 2, 1)\n",
        "sns.histplot(dfat1_2018['Airline'], bins=30, kde=True)\n",
        "plt.title(f'Histograma de {'Airline'}')\n",
        "'''"
      ]
    },
    {
      "cell_type": "code",
      "execution_count": null,
      "metadata": {
        "colab": {
          "base_uri": "https://localhost:8080/"
        },
        "id": "qlsErcYYOikG",
        "outputId": "0102abcd-0453-4cab-97bc-c3a8323de828"
      },
      "outputs": [
        {
          "output_type": "execute_result",
          "data": {
            "text/plain": [
              "\"dfat2_2018 = dfat2018[dfat2018['Airline'] == 'JetBlue Airways']\""
            ],
            "application/vnd.google.colaboratory.intrinsic+json": {
              "type": "string"
            }
          },
          "metadata": {},
          "execution_count": 13
        }
      ],
      "source": [
        "'''dfat2_2018 = dfat2018[dfat2018['Airline'] == 'JetBlue Airways']'''"
      ]
    },
    {
      "cell_type": "code",
      "execution_count": null,
      "metadata": {
        "colab": {
          "base_uri": "https://localhost:8080/"
        },
        "id": "zQGue7jpOosY",
        "outputId": "599ddf23-8657-40a3-8e10-93fe577fc786"
      },
      "outputs": [
        {
          "output_type": "execute_result",
          "data": {
            "text/plain": [
              "\"# Histograma\\nplt.figure(figsize=(12, 5))\\nsns.histplot(dfat2_2018[var], bins=30, kde=True)\\nplt.title(f'Histograma de {var}')\""
            ],
            "application/vnd.google.colaboratory.intrinsic+json": {
              "type": "string"
            }
          },
          "metadata": {},
          "execution_count": 14
        }
      ],
      "source": [
        "'''# Histograma\n",
        "plt.figure(figsize=(12, 5))\n",
        "sns.histplot(dfat2_2018[var], bins=30, kde=True)\n",
        "plt.title(f'Histograma de {var}')'''"
      ]
    },
    {
      "cell_type": "markdown",
      "metadata": {
        "id": "k-PbbZPbUS_j"
      },
      "source": [
        "### Presenca de muitos outliers"
      ]
    },
    {
      "cell_type": "code",
      "execution_count": null,
      "metadata": {
        "colab": {
          "base_uri": "https://localhost:8080/"
        },
        "id": "37KDC-NXFCdR",
        "outputId": "314697a4-1c48-4b0d-8952-ed09d17787fa"
      },
      "outputs": [
        {
          "output_type": "display_data",
          "data": {
            "text/plain": [
              "<Figure size 640x480 with 1 Axes>"
            ],
            "image/png": "[encoded data removed]"
          },
          "metadata": {}
        }
      ],
      "source": [
        "import seaborn as sns\n",
        "import matplotlib.pyplot as plt\n",
        "\n",
        "# Configurando o estilo para fundo preto\n",
        "plt.style.use('dark_background')\n",
        "\n",
        "# Criando o boxplot\n",
        "sns.boxplot(data=dfat2018)\n",
        "plt.title('Boxplot de AirTime')\n",
        "plt.xlabel('Airline')\n",
        "plt.ylabel('AirTime')\n",
        "plt.show()\n"
      ]
    },
    {
      "cell_type": "code",
      "execution_count": null,
      "metadata": {
        "colab": {
          "base_uri": "https://localhost:8080/"
        },
        "id": "yKHI7yOpYCAm",
        "outputId": "61dad820-48e9-4b89-c637-64314ae8a96b"
      },
      "outputs": [
        {
          "output_type": "execute_result",
          "data": {
            "text/plain": [
              "\"for var in dfat2_2018.columns:\\n    if dfat2_2018[var].dtype in ['int64', 'float64']:  #verificar se a coluna é numérica\\n        plt.figure(figsize=(12, 5))\\n\\n        sns.histplot(dfat2_2018[var], bins=30, kde=True)\\n        plt.title(f'Histograma de {var}')\\n        plt.xlabel(var)\\n        plt.ylabel('Frequência')\\n        plt.show()\""
            ],
            "application/vnd.google.colaboratory.intrinsic+json": {
              "type": "string"
            }
          },
          "metadata": {},
          "execution_count": 16
        }
      ],
      "source": [
        "'''for var in dfat2_2018.columns:\n",
        "    if dfat2_2018[var].dtype in ['int64', 'float64']:  #verificar se a coluna é numérica\n",
        "        plt.figure(figsize=(12, 5))\n",
        "\n",
        "        sns.histplot(dfat2_2018[var], bins=30, kde=True)\n",
        "        plt.title(f'Histograma de {var}')\n",
        "        plt.xlabel(var)\n",
        "        plt.ylabel('Frequência')\n",
        "        plt.show()'''"
      ]
    },
    {
      "cell_type": "markdown",
      "metadata": {
        "id": "nUUI-83kTkYE"
      },
      "source": [
        "### ❗ Substituir NaN PELA MEDIANA dataframes"
      ]
    },
    {
      "cell_type": "code",
      "execution_count": null,
      "metadata": {
        "colab": {
          "base_uri": "https://localhost:8080/"
        },
        "collapsed": true,
        "id": "43m-ZSAFkiEg",
        "outputId": "53f368ed-1cfb-4028-ee98-7885eb166c53"
      },
      "outputs": [
        {
          "output_type": "stream",
          "name": "stdout",
          "text": [
            "        Unnamed: 0  FlightDate            Airline Origin Dest  Cancelled  \\\n",
            "0                0  2018-01-05  Endeavor Air Inc.    ATL  ABY      False   \n",
            "1                1  2018-01-14  Endeavor Air Inc.    ATL  ABY      False   \n",
            "2                2  2018-01-04  Endeavor Air Inc.    EWN  ATL       True   \n",
            "3                3  2018-01-09  Endeavor Air Inc.    FAY  ATL      False   \n",
            "4                4  2018-01-15  Endeavor Air Inc.    CSG  ATL      False   \n",
            "...            ...         ...                ...    ...  ...        ...   \n",
            "292106       40418  2022-03-29  Republic Airlines    IND  EWR      False   \n",
            "292107       40419  2022-03-30  Republic Airlines    CLT  EWR      False   \n",
            "292108       40420  2022-03-30  Republic Airlines    DTW  EWR      False   \n",
            "292109       40421  2022-03-12  Republic Airlines    BNA  ORD      False   \n",
            "292110       40422  2022-03-30  Republic Airlines    PVD  EWR      False   \n",
            "\n",
            "        Diverted  CRSDepTime  DepTime  DepDelayMinutes  DepDelay  ArrTime  \\\n",
            "0          False        1037   1032.0              0.0      -5.0   1124.0   \n",
            "1          False        1037   1031.0              0.0      -6.0   1120.0   \n",
            "2          False        1415      NaN              NaN       NaN      NaN   \n",
            "3          False        1853   1850.0              0.0      -3.0   2021.0   \n",
            "4          False         615    625.0             10.0      10.0    704.0   \n",
            "...          ...         ...      ...              ...       ...      ...   \n",
            "292106     False         735    732.0              0.0      -3.0    942.0   \n",
            "292107     False         600    557.0              0.0      -3.0    756.0   \n",
            "292108     False        1932   1926.0              0.0      -6.0   2148.0   \n",
            "292109     False        1033   1346.0            193.0     193.0   1541.0   \n",
            "292110     False        1413   1447.0             34.0      34.0   1556.0   \n",
            "\n",
            "        ArrDelayMinutes  AirTime  CRSElapsedTime  ActualElapsedTime  Distance  \\\n",
            "0                   0.0     29.0            60.0               52.0     145.0   \n",
            "1                   0.0     30.0            60.0               49.0     145.0   \n",
            "2                   NaN      NaN           110.0                NaN     433.0   \n",
            "3                   0.0     64.0            97.0               91.0     331.0   \n",
            "4                   0.0     22.0            56.0               39.0      83.0   \n",
            "...                 ...      ...             ...                ...       ...   \n",
            "292106              3.0     85.0           124.0              130.0     645.0   \n",
            "292107              0.0     96.0           117.0              119.0     529.0   \n",
            "292108             19.0     71.0           117.0              142.0     488.0   \n",
            "292109            194.0     75.0           114.0              115.0     409.0   \n",
            "292110             24.0     48.0            79.0               69.0     160.0   \n",
            "\n",
            "        Year  Quarter  Month  DayofMonth  DayOfWeek Marketing_Airline_Network  \\\n",
            "0       2018        1      1           5          5                        DL   \n",
            "1       2018        1      1          14          7                        DL   \n",
            "2       2018        1      1           4          4                        DL   \n",
            "3       2018        1      1           9          2                        DL   \n",
            "4       2018        1      1          15          1                        DL   \n",
            "...      ...      ...    ...         ...        ...                       ...   \n",
            "292106  2022        1      3          29          2                        UA   \n",
            "292107  2022        1      3          30          3                        UA   \n",
            "292108  2022        1      3          30          3                        UA   \n",
            "292109  2022        1      3          12          6                        UA   \n",
            "292110  2022        1      3          30          3                        UA   \n",
            "\n",
            "       Operated_or_Branded_Code_Share_Partners  DOT_ID_Marketing_Airline  \\\n",
            "0                                 DL_CODESHARE                     19790   \n",
            "1                                 DL_CODESHARE                     19790   \n",
            "2                                 DL_CODESHARE                     19790   \n",
            "3                                 DL_CODESHARE                     19790   \n",
            "4                                 DL_CODESHARE                     19790   \n",
            "...                                        ...                       ...   \n",
            "292106                            UA_CODESHARE                     19977   \n",
            "292107                            UA_CODESHARE                     19977   \n",
            "292108                            UA_CODESHARE                     19977   \n",
            "292109                            UA_CODESHARE                     19977   \n",
            "292110                            UA_CODESHARE                     19977   \n",
            "\n",
            "       IATA_Code_Marketing_Airline  Flight_Number_Marketing_Airline  \\\n",
            "0                               DL                             3298   \n",
            "1                               DL                             3298   \n",
            "2                               DL                             3301   \n",
            "3                               DL                             3302   \n",
            "4                               DL                             3306   \n",
            "...                            ...                              ...   \n",
            "292106                          UA                             3672   \n",
            "292107                          UA                             3442   \n",
            "292108                          UA                             3542   \n",
            "292109                          UA                             3509   \n",
            "292110                          UA                             3711   \n",
            "\n",
            "       Operating_Airline  DOT_ID_Operating_Airline  \\\n",
            "0                     9E                     20363   \n",
            "1                     9E                     20363   \n",
            "2                     9E                     20363   \n",
            "3                     9E                     20363   \n",
            "4                     9E                     20363   \n",
            "...                  ...                       ...   \n",
            "292106                YX                     20452   \n",
            "292107                YX                     20452   \n",
            "292108                YX                     20452   \n",
            "292109                YX                     20452   \n",
            "292110                YX                     20452   \n",
            "\n",
            "       IATA_Code_Operating_Airline Tail_Number  \\\n",
            "0                               9E      N8877A   \n",
            "1                               9E      N836AY   \n",
            "2                               9E      N836AY   \n",
            "3                               9E      N8869B   \n",
            "4                               9E      N832AY   \n",
            "...                            ...         ...   \n",
            "292106                          YX      N646RW   \n",
            "292107                          YX      N655RW   \n",
            "292108                          YX      N649RW   \n",
            "292109                          YX      N637RW   \n",
            "292110                          YX      N648RW   \n",
            "\n",
            "        Flight_Number_Operating_Airline  OriginAirportID  OriginAirportSeqID  \\\n",
            "0                                  3298            10397             1039707   \n",
            "1                                  3298            10397             1039707   \n",
            "2                                  3301            11617             1161708   \n",
            "3                                  3302            11641             1164102   \n",
            "4                                  3306            11150             1115005   \n",
            "...                                 ...              ...                 ...   \n",
            "292106                             3672            12339             1233904   \n",
            "292107                             3442            11057             1105703   \n",
            "292108                             3542            11433             1143302   \n",
            "292109                             3509            10693             1069302   \n",
            "292110                             3711            14307             1430705   \n",
            "\n",
            "        OriginCityMarketID                  OriginCityName OriginState  \\\n",
            "0                    30397                     Atlanta, GA          GA   \n",
            "1                    30397                     Atlanta, GA          GA   \n",
            "2                    31617  New Bern/Morehead/Beaufort, NC          NC   \n",
            "3                    31641                Fayetteville, NC          NC   \n",
            "4                    31150                    Columbus, GA          GA   \n",
            "...                    ...                             ...         ...   \n",
            "292106               32337                Indianapolis, IN          IN   \n",
            "292107               31057                   Charlotte, NC          NC   \n",
            "292108               31295                     Detroit, MI          MI   \n",
            "292109               30693                   Nashville, TN          TN   \n",
            "292110               30721                  Providence, RI          RI   \n",
            "\n",
            "        OriginStateFips OriginStateName  OriginWac  DestAirportID  \\\n",
            "0                    13         Georgia         34          10146   \n",
            "1                    13         Georgia         34          10146   \n",
            "2                    37  North Carolina         36          10397   \n",
            "3                    37  North Carolina         36          10397   \n",
            "4                    13         Georgia         34          10397   \n",
            "...                 ...             ...        ...            ...   \n",
            "292106               18         Indiana         42          11618   \n",
            "292107               37  North Carolina         36          11618   \n",
            "292108               26        Michigan         43          11618   \n",
            "292109               47       Tennessee         54          13930   \n",
            "292110               44    Rhode Island         15          11618   \n",
            "\n",
            "        DestAirportSeqID  DestCityMarketID DestCityName DestState  \\\n",
            "0                1014602             30146   Albany, GA        GA   \n",
            "1                1014602             30146   Albany, GA        GA   \n",
            "2                1039707             30397  Atlanta, GA        GA   \n",
            "3                1039707             30397  Atlanta, GA        GA   \n",
            "4                1039707             30397  Atlanta, GA        GA   \n",
            "...                  ...               ...          ...       ...   \n",
            "292106           1161802             31703   Newark, NJ        NJ   \n",
            "292107           1161802             31703   Newark, NJ        NJ   \n",
            "292108           1161802             31703   Newark, NJ        NJ   \n",
            "292109           1393007             30977  Chicago, IL        IL   \n",
            "292110           1161802             31703   Newark, NJ        NJ   \n",
            "\n",
            "        DestStateFips DestStateName  DestWac  DepDel15  DepartureDelayGroups  \\\n",
            "0                  13       Georgia       34       0.0                  -1.0   \n",
            "1                  13       Georgia       34       0.0                  -1.0   \n",
            "2                  13       Georgia       34       NaN                   NaN   \n",
            "3                  13       Georgia       34       0.0                  -1.0   \n",
            "4                  13       Georgia       34       0.0                   0.0   \n",
            "...               ...           ...      ...       ...                   ...   \n",
            "292106             34    New Jersey       21       0.0                  -1.0   \n",
            "292107             34    New Jersey       21       0.0                  -1.0   \n",
            "292108             34    New Jersey       21       0.0                  -1.0   \n",
            "292109             17      Illinois       41       1.0                  12.0   \n",
            "292110             34    New Jersey       21       1.0                   2.0   \n",
            "\n",
            "       DepTimeBlk  TaxiOut  WheelsOff  WheelsOn  TaxiIn  CRSArrTime  ArrDelay  \\\n",
            "0       1000-1059     20.0     1052.0    1121.0     3.0        1137     -13.0   \n",
            "1       1000-1059     16.0     1047.0    1117.0     3.0        1137     -17.0   \n",
            "2       1400-1459      NaN        NaN       NaN     NaN        1605       NaN   \n",
            "3       1800-1859     10.0     1900.0    2004.0    17.0        2030      -9.0   \n",
            "4       0600-0659      9.0      634.0     656.0     8.0         711      -7.0   \n",
            "...           ...      ...        ...       ...     ...         ...       ...   \n",
            "292106  0700-0759     14.0      746.0     911.0    31.0         939       3.0   \n",
            "292107  0600-0659     14.0      611.0     747.0     9.0         757      -1.0   \n",
            "292108  1900-1959     11.0     1937.0    2048.0    60.0        2129      19.0   \n",
            "292109  1000-1059     33.0     1419.0    1534.0     7.0        1227     194.0   \n",
            "292110  1400-1459     12.0     1459.0    1547.0     9.0        1532      24.0   \n",
            "\n",
            "        ArrDel15  ArrivalDelayGroups ArrTimeBlk  DistanceGroup  \\\n",
            "0            0.0                -1.0  1100-1159              1   \n",
            "1            0.0                -2.0  1100-1159              1   \n",
            "2            NaN                 NaN  1600-1659              2   \n",
            "3            0.0                -1.0  2000-2059              2   \n",
            "4            0.0                -1.0  0700-0759              1   \n",
            "...          ...                 ...        ...            ...   \n",
            "292106       0.0                 0.0  0900-0959              3   \n",
            "292107       0.0                -1.0  0700-0759              3   \n",
            "292108       1.0                 1.0  2100-2159              2   \n",
            "292109       1.0                12.0  1200-1259              2   \n",
            "292110       1.0                 1.0  1500-1559              1   \n",
            "\n",
            "        DivAirportLandings  \n",
            "0                      0.0  \n",
            "1                      0.0  \n",
            "2                      0.0  \n",
            "3                      0.0  \n",
            "4                      0.0  \n",
            "...                    ...  \n",
            "292106                 0.0  \n",
            "292107                 0.0  \n",
            "292108                 0.0  \n",
            "292109                 0.0  \n",
            "292110                 0.0  \n",
            "\n",
            "[292111 rows x 62 columns]\n"
          ]
        }
      ],
      "source": [
        "# Supondo que 'df_completo' seja o dataframe que contém os dados para calcular a mediana\n",
        "df_completo = df_completo.copy()  # Se necessário, você pode criar uma cópia de df_completo para evitar modificações indesejadas.\n",
        "\n",
        "# Para cada dataframe, substituímos NaN pelas medianas calculadas no df_completo\n",
        "dfs = [df18, df19, df20, df21, df22]\n",
        "\n",
        "for df in dfs:\n",
        "    colunas_numericas = df.select_dtypes(include=['float64', 'int64']).columns\n",
        "    for col in colunas_numericas:\n",
        "        mediana = df_completo[col].median()  # Calculando a mediana usando df_completo\n",
        "        df[col] = df[col].fillna(mediana)  # Substituindo NaN pela mediana calculada\n",
        "\n",
        "print(df_completo)\n"
      ]
    },
    {
      "cell_type": "code",
      "execution_count": null,
      "metadata": {
        "colab": {
          "base_uri": "https://localhost:8080/"
        },
        "collapsed": true,
        "id": "025Zb-ikkzfy",
        "outputId": "24029dee-c024-4a6d-e71b-b7d53c97cce4"
      },
      "outputs": [
        {
          "output_type": "stream",
          "name": "stdout",
          "text": [
            "NaN valores após substituição em ['Unnamed: 0', 'FlightDate', 'Airline', 'Origin', 'Dest', 'Cancelled', 'Diverted', 'CRSDepTime', 'DepTime', 'DepDelayMinutes', 'DepDelay', 'ArrTime', 'ArrDelayMinutes', 'AirTime', 'CRSElapsedTime', 'ActualElapsedTime', 'Distance', 'Year', 'Quarter', 'Month', 'DayofMonth', 'DayOfWeek', 'Marketing_Airline_Network', 'Operated_or_Branded_Code_Share_Partners', 'DOT_ID_Marketing_Airline', 'IATA_Code_Marketing_Airline', 'Flight_Number_Marketing_Airline', 'Operating_Airline', 'DOT_ID_Operating_Airline', 'IATA_Code_Operating_Airline', 'Tail_Number', 'Flight_Number_Operating_Airline', 'OriginAirportID', 'OriginAirportSeqID', 'OriginCityMarketID', 'OriginCityName', 'OriginState', 'OriginStateFips', 'OriginStateName', 'OriginWac', 'DestAirportID', 'DestAirportSeqID', 'DestCityMarketID', 'DestCityName', 'DestState', 'DestStateFips', 'DestStateName', 'DestWac', 'DepDel15', 'DepartureDelayGroups', 'DepTimeBlk', 'TaxiOut', 'WheelsOff', 'WheelsOn', 'TaxiIn', 'CRSArrTime', 'ArrDelay', 'ArrDel15', 'ArrivalDelayGroups', 'ArrTimeBlk', 'DistanceGroup', 'DivAirportLandings']:\n",
            "Unnamed: 0                         0\n",
            "CRSDepTime                         0\n",
            "DepTime                            0\n",
            "DepDelayMinutes                    0\n",
            "DepDelay                           0\n",
            "ArrTime                            0\n",
            "ArrDelayMinutes                    0\n",
            "AirTime                            0\n",
            "CRSElapsedTime                     0\n",
            "ActualElapsedTime                  0\n",
            "Distance                           0\n",
            "Year                               0\n",
            "Quarter                            0\n",
            "Month                              0\n",
            "DayofMonth                         0\n",
            "DayOfWeek                          0\n",
            "DOT_ID_Marketing_Airline           0\n",
            "Flight_Number_Marketing_Airline    0\n",
            "DOT_ID_Operating_Airline           0\n",
            "Flight_Number_Operating_Airline    0\n",
            "OriginAirportID                    0\n",
            "OriginAirportSeqID                 0\n",
            "OriginCityMarketID                 0\n",
            "OriginStateFips                    0\n",
            "OriginWac                          0\n",
            "DestAirportID                      0\n",
            "DestAirportSeqID                   0\n",
            "DestCityMarketID                   0\n",
            "DestStateFips                      0\n",
            "DestWac                            0\n",
            "DepDel15                           0\n",
            "DepartureDelayGroups               0\n",
            "TaxiOut                            0\n",
            "WheelsOff                          0\n",
            "WheelsOn                           0\n",
            "TaxiIn                             0\n",
            "CRSArrTime                         0\n",
            "ArrDelay                           0\n",
            "ArrDel15                           0\n",
            "ArrivalDelayGroups                 0\n",
            "DistanceGroup                      0\n",
            "DivAirportLandings                 0\n",
            "dtype: int64\n"
          ]
        }
      ],
      "source": [
        "# Identificar valores NaN após a substituição\n",
        "nan_values = df[colunas_numericas].isna().sum()  # Conta o número de NaN por coluna\n",
        "print(f\"NaN valores após substituição em {df.columns.tolist()}:\")\n",
        "print(nan_values)\n"
      ]
    },
    {
      "cell_type": "code",
      "execution_count": null,
      "metadata": {
        "colab": {
          "base_uri": "https://localhost:8080/"
        },
        "collapsed": true,
        "id": "HANA6bJ5lSDD",
        "outputId": "661f416e-6200-436c-9020-3521c5ab46d4"
      },
      "outputs": [
        {
          "output_type": "stream",
          "name": "stdout",
          "text": [
            "NaN valores nas colunas categóricas de ['Unnamed: 0', 'FlightDate', 'Airline', 'Origin', 'Dest', 'Cancelled', 'Diverted', 'CRSDepTime', 'DepTime', 'DepDelayMinutes', 'DepDelay', 'ArrTime', 'ArrDelayMinutes', 'AirTime', 'CRSElapsedTime', 'ActualElapsedTime', 'Distance', 'Year', 'Quarter', 'Month', 'DayofMonth', 'DayOfWeek', 'Marketing_Airline_Network', 'Operated_or_Branded_Code_Share_Partners', 'DOT_ID_Marketing_Airline', 'IATA_Code_Marketing_Airline', 'Flight_Number_Marketing_Airline', 'Operating_Airline', 'DOT_ID_Operating_Airline', 'IATA_Code_Operating_Airline', 'Tail_Number', 'Flight_Number_Operating_Airline', 'OriginAirportID', 'OriginAirportSeqID', 'OriginCityMarketID', 'OriginCityName', 'OriginState', 'OriginStateFips', 'OriginStateName', 'OriginWac', 'DestAirportID', 'DestAirportSeqID', 'DestCityMarketID', 'DestCityName', 'DestState', 'DestStateFips', 'DestStateName', 'DestWac', 'DepDel15', 'DepartureDelayGroups', 'DepTimeBlk', 'TaxiOut', 'WheelsOff', 'WheelsOn', 'TaxiIn', 'CRSArrTime', 'ArrDelay', 'ArrDel15', 'ArrivalDelayGroups', 'ArrTimeBlk', 'DistanceGroup', 'DivAirportLandings']:\n",
            "FlightDate                                   0\n",
            "Airline                                      0\n",
            "Origin                                       0\n",
            "Dest                                         0\n",
            "Marketing_Airline_Network                    0\n",
            "Operated_or_Branded_Code_Share_Partners      0\n",
            "IATA_Code_Marketing_Airline                  0\n",
            "Operating_Airline                            0\n",
            "IATA_Code_Operating_Airline                  0\n",
            "Tail_Number                                267\n",
            "OriginCityName                               0\n",
            "OriginState                                  0\n",
            "OriginStateName                              0\n",
            "DestCityName                                 0\n",
            "DestState                                    0\n",
            "DestStateName                                0\n",
            "DepTimeBlk                                   0\n",
            "ArrTimeBlk                                   0\n",
            "dtype: int64\n"
          ]
        }
      ],
      "source": [
        "# Identificar valores NaN nas colunas categóricas\n",
        "colunas_categoricas = df.select_dtypes(include=['object', 'category']).columns\n",
        "nan_values_categoricas = df[colunas_categoricas].isna().sum()  # Conta o número de NaN nas colunas categóricas\n",
        "print(f\"NaN valores nas colunas categóricas de {df.columns.tolist()}:\")\n",
        "print(nan_values_categoricas)"
      ]
    },
    {
      "cell_type": "markdown",
      "metadata": {
        "id": "ED9Bk7qYZWp3"
      },
      "source": [
        "dtype"
      ]
    },
    {
      "cell_type": "code",
      "execution_count": null,
      "metadata": {
        "id": "IXtNdzfYTkIW"
      },
      "outputs": [],
      "source": [
        "dfat18 = df18[['Airline', 'AirTime']]\n",
        "dfat19 = df19[['Airline', 'AirTime']]\n",
        "dfat20 = df20[['Airline', 'AirTime']]\n",
        "dfat21 = df21[['Airline', 'AirTime']]\n",
        "dfat22 = df22[['Airline', 'AirTime']]\n"
      ]
    },
    {
      "cell_type": "code",
      "execution_count": null,
      "metadata": {
        "colab": {
          "base_uri": "https://localhost:8080/"
        },
        "id": "GxKQCM0N0mgX",
        "outputId": "0ebd6b5c-5161-4093-ff07-19b8e4973532"
      },
      "outputs": [
        {
          "output_type": "stream",
          "name": "stdout",
          "text": [
            "   Unnamed: 0  FlightDate            Airline Origin Dest  Cancelled  Diverted  \\\n",
            "0           0  2018-01-05  Endeavor Air Inc.    ATL  ABY      False     False   \n",
            "1           1  2018-01-14  Endeavor Air Inc.    ATL  ABY      False     False   \n",
            "2           2  2018-01-04  Endeavor Air Inc.    EWN  ATL       True     False   \n",
            "3           3  2018-01-09  Endeavor Air Inc.    FAY  ATL      False     False   \n",
            "4           4  2018-01-15  Endeavor Air Inc.    CSG  ATL      False     False   \n",
            "\n",
            "   CRSDepTime  DepTime  DepDelayMinutes  DepDelay  ArrTime  ArrDelayMinutes  \\\n",
            "0        1037   1032.0              0.0      -5.0   1124.0              0.0   \n",
            "1        1037   1031.0              0.0      -6.0   1120.0              0.0   \n",
            "2        1415   1324.0              0.0      -3.0   1507.0              0.0   \n",
            "3        1853   1850.0              0.0      -3.0   2021.0              0.0   \n",
            "4         615    625.0             10.0      10.0    704.0              0.0   \n",
            "\n",
            "   AirTime  CRSElapsedTime  ActualElapsedTime  Distance  Year  Quarter  Month  \\\n",
            "0     29.0            60.0               52.0     145.0  2018        1      1   \n",
            "1     30.0            60.0               49.0     145.0  2018        1      1   \n",
            "2     91.0           110.0              116.0     433.0  2018        1      1   \n",
            "3     64.0            97.0               91.0     331.0  2018        1      1   \n",
            "4     22.0            56.0               39.0      83.0  2018        1      1   \n",
            "\n",
            "   DayofMonth  DayOfWeek Marketing_Airline_Network  \\\n",
            "0           5          5                        DL   \n",
            "1          14          7                        DL   \n",
            "2           4          4                        DL   \n",
            "3           9          2                        DL   \n",
            "4          15          1                        DL   \n",
            "\n",
            "  Operated_or_Branded_Code_Share_Partners  DOT_ID_Marketing_Airline  \\\n",
            "0                            DL_CODESHARE                     19790   \n",
            "1                            DL_CODESHARE                     19790   \n",
            "2                            DL_CODESHARE                     19790   \n",
            "3                            DL_CODESHARE                     19790   \n",
            "4                            DL_CODESHARE                     19790   \n",
            "\n",
            "  IATA_Code_Marketing_Airline  Flight_Number_Marketing_Airline  \\\n",
            "0                          DL                             3298   \n",
            "1                          DL                             3298   \n",
            "2                          DL                             3301   \n",
            "3                          DL                             3302   \n",
            "4                          DL                             3306   \n",
            "\n",
            "  Operating_Airline  DOT_ID_Operating_Airline IATA_Code_Operating_Airline  \\\n",
            "0                9E                     20363                          9E   \n",
            "1                9E                     20363                          9E   \n",
            "2                9E                     20363                          9E   \n",
            "3                9E                     20363                          9E   \n",
            "4                9E                     20363                          9E   \n",
            "\n",
            "  Tail_Number  Flight_Number_Operating_Airline  OriginAirportID  \\\n",
            "0      N8877A                             3298            10397   \n",
            "1      N836AY                             3298            10397   \n",
            "2      N836AY                             3301            11617   \n",
            "3      N8869B                             3302            11641   \n",
            "4      N832AY                             3306            11150   \n",
            "\n",
            "   OriginAirportSeqID  OriginCityMarketID                  OriginCityName  \\\n",
            "0             1039707               30397                     Atlanta, GA   \n",
            "1             1039707               30397                     Atlanta, GA   \n",
            "2             1161708               31617  New Bern/Morehead/Beaufort, NC   \n",
            "3             1164102               31641                Fayetteville, NC   \n",
            "4             1115005               31150                    Columbus, GA   \n",
            "\n",
            "  OriginState  OriginStateFips OriginStateName  OriginWac  DestAirportID  \\\n",
            "0          GA               13         Georgia         34          10146   \n",
            "1          GA               13         Georgia         34          10146   \n",
            "2          NC               37  North Carolina         36          10397   \n",
            "3          NC               37  North Carolina         36          10397   \n",
            "4          GA               13         Georgia         34          10397   \n",
            "\n",
            "   DestAirportSeqID  DestCityMarketID DestCityName DestState  DestStateFips  \\\n",
            "0           1014602             30146   Albany, GA        GA             13   \n",
            "1           1014602             30146   Albany, GA        GA             13   \n",
            "2           1039707             30397  Atlanta, GA        GA             13   \n",
            "3           1039707             30397  Atlanta, GA        GA             13   \n",
            "4           1039707             30397  Atlanta, GA        GA             13   \n",
            "\n",
            "  DestStateName  DestWac  DepDel15  DepartureDelayGroups DepTimeBlk  TaxiOut  \\\n",
            "0       Georgia       34       0.0                  -1.0  1000-1059     20.0   \n",
            "1       Georgia       34       0.0                  -1.0  1000-1059     16.0   \n",
            "2       Georgia       34       0.0                  -1.0  1400-1459     14.0   \n",
            "3       Georgia       34       0.0                  -1.0  1800-1859     10.0   \n",
            "4       Georgia       34       0.0                   0.0  0600-0659      9.0   \n",
            "\n",
            "   WheelsOff  WheelsOn  TaxiIn  CRSArrTime  ArrDelay  ArrDel15  \\\n",
            "0     1052.0    1121.0     3.0        1137     -13.0       0.0   \n",
            "1     1047.0    1117.0     3.0        1137     -17.0       0.0   \n",
            "2     1338.0    1503.0     6.0        1605      -7.0       0.0   \n",
            "3     1900.0    2004.0    17.0        2030      -9.0       0.0   \n",
            "4      634.0     656.0     8.0         711      -7.0       0.0   \n",
            "\n",
            "   ArrivalDelayGroups ArrTimeBlk  DistanceGroup  DivAirportLandings  \n",
            "0                -1.0  1100-1159              1                 0.0  \n",
            "1                -2.0  1100-1159              1                 0.0  \n",
            "2                -1.0  1600-1659              2                 0.0  \n",
            "3                -1.0  2000-2059              2                 0.0  \n",
            "4                -1.0  0700-0759              1                 0.0  \n"
          ]
        }
      ],
      "source": [
        "# Lista dos dataframes\n",
        "dfs = [df18, df19, df20, df21, df22]\n",
        "\n",
        "# Concatenando todos os dataframes\n",
        "df_completo = pd.concat(dfs, ignore_index=True)\n",
        "\n",
        "# Verificando as primeiras linhas do dataframe combinado\n",
        "print(df_completo.head())"
      ]
    },
    {
      "cell_type": "markdown",
      "metadata": {
        "id": "nSXbgYMYWOaQ"
      },
      "source": [
        "### ✅ Resposta"
      ]
    },
    {
      "cell_type": "code",
      "execution_count": null,
      "metadata": {
        "colab": {
          "base_uri": "https://localhost:8080/"
        },
        "id": "vZ98EYFkdB52",
        "outputId": "fa0e3ec1-628d-4925-ee24-e3eb93fbae8b"
      },
      "outputs": [
        {
          "output_type": "stream",
          "name": "stdout",
          "text": [
            "As 5 companhias aéreas com o maior somatório de AirTime em 2018 são:\n",
            "Airline\n",
            "Southwest Airlines Co.    1407547.0\n",
            "United Air Lines Inc.      961049.0\n",
            "Delta Air Lines Inc.       548373.0\n",
            "American Airlines Inc.     522308.0\n",
            "JetBlue Airways            438610.0\n",
            "Name: AirTime, dtype: float64\n",
            "\n",
            "As 5 companhias aéreas com o maior somatório de AirTime em 2019 são:\n",
            "Airline\n",
            "Southwest Airlines Co.    1407639.0\n",
            "American Airlines Inc.    1284792.0\n",
            "Delta Air Lines Inc.      1206701.0\n",
            "United Air Lines Inc.      985510.0\n",
            "SkyWest Airlines Inc.      641895.0\n",
            "Name: AirTime, dtype: float64\n",
            "\n",
            "As 5 companhias aéreas com o maior somatório de AirTime em 2020 são:\n",
            "Airline\n",
            "Southwest Airlines Co.    989392.0\n",
            "American Airlines Inc.    753838.0\n",
            "Delta Air Lines Inc.      709515.0\n",
            "United Air Lines Inc.     476361.0\n",
            "SkyWest Airlines Inc.     459351.0\n",
            "Name: AirTime, dtype: float64\n",
            "\n",
            "As 5 companhias aéreas com o maior somatório de AirTime em 2021 são:\n",
            "Airline\n",
            "Southwest Airlines Co.    1145434.0\n",
            "American Airlines Inc.    1012482.0\n",
            "Delta Air Lines Inc.       951894.0\n",
            "United Air Lines Inc.      702395.0\n",
            "SkyWest Airlines Inc.      608952.0\n",
            "Name: AirTime, dtype: float64\n",
            "\n",
            "As 5 companhias aéreas com o maior somatório de AirTime em 2022 são:\n",
            "Airline\n",
            "Southwest Airlines Co.    733170.0\n",
            "Delta Air Lines Inc.      657823.0\n",
            "American Airlines Inc.    654280.0\n",
            "United Air Lines Inc.     524355.0\n",
            "SkyWest Airlines Inc.     335989.0\n",
            "Name: AirTime, dtype: float64\n",
            "\n"
          ]
        }
      ],
      "source": [
        "def maiores_airtime(df):\n",
        "    # Agrupando por 'Airline' e somando os valores da coluna 'AirTime'\n",
        "    airtime_sum = df.groupby('Airline')['AirTime'].sum()\n",
        "\n",
        "    # Ordenando as companhias aéreas pelo somatório de 'AirTime' em ordem decrescente\n",
        "    top_airlines = airtime_sum.sort_values(ascending=False).head(5)\n",
        "\n",
        "    return top_airlines\n",
        "\n",
        "    # Lista de DataFrames de anos\n",
        "dfs = [df18, df19, df20, df21, df22]\n",
        "anos = [2018, 2019, 2020, 2021, 2022]\n",
        "\n",
        "# Aplicando a função para cada DataFrame de ano\n",
        "for ano, df in zip(anos, dfs):\n",
        "    top_airlines = maiores_airtime(df)\n",
        "    print(f\"As 5 companhias aéreas com o maior somatório de AirTime em {ano} são:\")\n",
        "    print(top_airlines)\n",
        "    print()"
      ]
    },
    {
      "cell_type": "markdown",
      "metadata": {
        "id": "MYNf6Pn68KEp"
      },
      "source": [
        "✅ RESPOSTA FINAL 1.1\n",
        "\n",
        "As principais companhias aéreas que mais voaram durante cada ano:\n",
        "\n",
        "⚡2018:\n",
        "\n",
        "Southwest Airlines Co.\n",
        "\n",
        "United Air Lines Inc.\n",
        "\n",
        "Delta Air Lines Inc.\n",
        "\n",
        "American Airlines Inc.\n",
        "\n",
        "JetBlue Airways\n",
        "\n",
        "⚡2019:\n",
        "\n",
        "Southwest Airlines Co.\n",
        "\n",
        "American Airlines Inc.\n",
        "\n",
        "Delta Air Lines Inc.\n",
        "\n",
        "United Air Lines Inc.\n",
        "\n",
        "SkyWest Airlines Inc.\n",
        "\n",
        "⚡2020:\n",
        "\n",
        "Southwest Airlines Co.\n",
        "\n",
        "American Airlines Inc.\n",
        "\n",
        "Delta Air Lines Inc.\n",
        "\n",
        "United Air Lines Inc.\n",
        "\n",
        "SkyWest Airlines Inc.\n",
        "\n",
        "⚡2021:\n",
        "\n",
        "Southwest Airlines Co.\n",
        "\n",
        "American Airlines Inc.\n",
        "\n",
        "Delta Air Lines Inc.\n",
        "\n",
        "United Air Lines Inc.\n",
        "\n",
        "SkyWest Airlines Inc.\n",
        "\n",
        "⚡2022:\n",
        "\n",
        "Southwest Airlines Co.\n",
        "\n",
        "Delta Air Lines Inc.\n",
        "\n",
        "American Airlines Inc.\n",
        "\n",
        "United Air Lines Inc.\n",
        "\n",
        "SkyWest Airlines Inc.\n",
        "\n",
        "Conclusão: As cinco principais companhias aéreas, incluindo Southwest Airlines Co. e American Airlines Inc., dominaram o volume de voos ao longo dos anos, destacando-se pela ampla conectividade e operação em grandes hubs. A SkyWest Airlines Inc. também se manteve relevante, especialmente em rotas regionais e parcerias."
      ]
    },
    {
      "cell_type": "markdown",
      "metadata": {
        "id": "9-Kn-B1UEYsq"
      },
      "source": [
        "##1.2\n",
        "A pandemia afetou a operação de alguma delas? De que forma?"
      ]
    },
    {
      "cell_type": "code",
      "execution_count": null,
      "metadata": {
        "colab": {
          "background_save": true
        },
        "id": "vuXPFuqceZhw"
      },
      "outputs": [],
      "source": [
        "\n",
        "# Calculando o percentual de nulos para cada coluna\n",
        "percentual_nulos = df_completo.isnull().mean() * 100\n",
        "\n",
        "# Exibindo o percentual de nulos\n",
        "pd.set_option('display.max_rows', 100)\n",
        "percentual_nulos.head(62)\n"
      ]
    },
    {
      "cell_type": "code",
      "execution_count": null,
      "metadata": {
        "id": "gXHTOrJ5mwud"
      },
      "outputs": [],
      "source": [
        "def imputar_valores(df_completo):\n",
        "    for column in df_completo.columns:\n",
        "        if df_completo[column].dtype == 'object' or df_completo[column].dtype == 'category':\n",
        "            # Imputação para colunas categóricas com a moda\n",
        "            moda = df_completo[column].mode()[0]\n",
        "            df_completo[column].fillna(moda, inplace=True)\n",
        "        else:\n",
        "            # Imputação para colunas numéricas com a mediana\n",
        "            mediana = df_completo[column].median()\n",
        "            df_completo[column].fillna(mediana, inplace=True)\n",
        "    return df_completo\n",
        "\n",
        "# Aplicando a função de imputação\n",
        "df_imputado = imputar_valores(df_completo)\n",
        "\n",
        "# Exibindo o DataFrame imputado\n",
        "print(df_imputado)"
      ]
    },
    {
      "cell_type": "code",
      "execution_count": null,
      "metadata": {
        "id": "H3ocMo8SmyaW"
      },
      "outputs": [],
      "source": [
        "# Calculando o percentual de nulos para cada coluna\n",
        "percentual_nulos = df_imputado.isnull().mean() * 100\n",
        "\n",
        "# Exibindo o percentual de nulos\n",
        "pd.set_option('display.max_rows', 100)\n",
        "percentual_nulos.head(62)"
      ]
    },
    {
      "cell_type": "markdown",
      "metadata": {
        "id": "qssQCjVum3Xa"
      },
      "source": [
        "⚡A saída mostra que todas as colunas têm 0 valores nulos."
      ]
    },
    {
      "cell_type": "code",
      "execution_count": null,
      "metadata": {
        "id": "MDglMz-bm6wA"
      },
      "outputs": [],
      "source": [
        "df_completo = df_imputado.copy()"
      ]
    },
    {
      "cell_type": "code",
      "execution_count": null,
      "metadata": {
        "id": "PLFEmYjim8v_"
      },
      "outputs": [],
      "source": [
        "#inspecionar colunas relevantes\n",
        "print(df_completo['FlightDate'].dtype)\n",
        "print(df_completo['ArrDelay'].dtype)"
      ]
    },
    {
      "cell_type": "markdown",
      "metadata": {
        "id": "02pzkX3Sm_Gt"
      },
      "source": [
        "⚡FlightDate: coluna representa a data do voo, essencial para análises temporais, identificar tendências durante a pandemia, verificar sazonalidade ou impactos em períodos específicos.\n",
        "\n",
        "⚡ArrDelay: coluna indica o atraso na chegada em minutos, métrica-chave para avaliar a pontualidade das operações."
      ]
    },
    {
      "cell_type": "code",
      "execution_count": null,
      "metadata": {
        "id": "KIxkR3nQnBx5"
      },
      "outputs": [],
      "source": [
        "#outliers\n",
        "print(df_completo['ArrDelay'].describe())"
      ]
    },
    {
      "cell_type": "markdown",
      "metadata": {
        "id": "gyPYez3inD7a"
      },
      "source": [
        "Total de registros: 292.111.\n",
        "\n",
        "Atraso médio: 3,32 minutos.\n",
        "\n",
        "Desvio padrão: 48,46 minutos (grande variação nos atrasos).\n",
        "\n",
        "Atraso mínimo: 0 minutos.\n",
        "\n",
        "Atraso máximo: 2.322 minutos (mais de 38 horas).\n",
        "\n",
        "25% dos voos chegam com até 15 minutos de antecedência.\n",
        "\n",
        "Mediana do atraso: 0 minutos.\n",
        "\n",
        "75% dos voos chegam com até 5 minutos de atraso."
      ]
    },
    {
      "cell_type": "code",
      "execution_count": null,
      "metadata": {
        "id": "g1-FVjENnHsZ"
      },
      "outputs": [],
      "source": [
        "#filtragem correta por anos\n",
        "print(df_completo['Year'].value_counts())"
      ]
    },
    {
      "cell_type": "code",
      "execution_count": null,
      "metadata": {
        "id": "g5J8l6yXnKPF"
      },
      "outputs": [],
      "source": [
        "# =colunas de df_completo\n",
        "print(df_completo.columns)\n",
        "\n",
        "#dados por períodos desejados\n",
        "df_pandemic = df_completo[df_completo['Year'] == 2020]  # Foco no ano 2020, pico da pandemia\n",
        "df_before_pandemic = df_completo[df_completo['Year'].isin([2018, 2019])]\n",
        "df_after_pandemic = df_completo[df_completo['Year'].isin([2021, 2022])]\n",
        "\n",
        "#média de atraso na chegada (ArrDelay) por companhia aérea cada período\n",
        "df_pandemic_grouped = df_pandemic.groupby('Airline')['ArrDelay'].mean().reset_index()\n",
        "df_before_pandemic_grouped = df_before_pandemic.groupby('Airline')['ArrDelay'].mean().reset_index()\n",
        "df_after_pandemic_grouped = df_after_pandemic.groupby('Airline')['ArrDelay'].mean().reset_index()\n",
        "\n",
        "print(df_pandemic_grouped)\n",
        "print(df_before_pandemic_grouped)\n",
        "print(df_after_pandemic_grouped)"
      ]
    },
    {
      "cell_type": "markdown",
      "metadata": {
        "id": "6ha1hQlCnMQj"
      },
      "source": [
        "⚡Informações Relevantes⚡\n",
        "\n",
        "Companhias com maiores atrasos:\n",
        "\n",
        "Commutair Aka Champlain Enterprises, Inc. apresenta o maior atraso médio de 27,98 minutos, seguido por Peninsula Airways Inc. com 29,79 minutos.\n",
        "\n",
        "Companhias pontuais:\n",
        "\n",
        "Mesa Airlines Inc. tem o menor atraso médio de 1,12 minutos, indicando que frequentemente chega antes do previsto.\n",
        "\n",
        "Delta Air Lines Inc. apresenta atrasos pequenos de 0,43 minutos em uma das listas.\n",
        "\n",
        "Variação significativa: uma grande variação nos atrasos, com algumas companhias aéreas tendo atrasos muito maiores do que outras."
      ]
    },
    {
      "cell_type": "code",
      "execution_count": null,
      "metadata": {
        "id": "MyZWGT0mnU5a"
      },
      "outputs": [],
      "source": [
        "#dados para os períodos desejados\n",
        "df_pandemic = df_completo[df_completo['Year'] == 2020]  # Foco no ano 2020, pico da pandemia\n",
        "df_before_pandemic = df_completo[df_completo['Year'].isin([2018, 2019])]\n",
        "df_after_pandemic = df_completo[df_completo['Year'].isin([2021, 2022])]\n",
        "\n",
        "#média de atraso na chegada (ArrDelay) por companhia aérea cada período\n",
        "df_pandemic_grouped = df_pandemic.groupby('Airline')['ArrDelay'].mean().reset_index()\n",
        "df_before_pandemic_grouped = df_before_pandemic.groupby('Airline')['ArrDelay'].mean().reset_index()\n",
        "df_after_pandemic_grouped = df_after_pandemic.groupby('Airline')['ArrDelay'].mean().reset_index()\n",
        "\n",
        "print(\"Média de atraso na pandemia (2020):\")\n",
        "print(df_pandemic_grouped)\n",
        "\n",
        "print(\"\\nMédia de atraso antes da pandemia (2018, 2019):\")\n",
        "print(df_before_pandemic_grouped)\n",
        "\n",
        "print(\"\\nMédia de atraso após a pandemia (2021, 2022):\")\n",
        "print(df_after_pandemic_grouped)"
      ]
    },
    {
      "cell_type": "markdown",
      "metadata": {
        "id": "CNdRDLz4nXno"
      },
      "source": [
        "⚡\n",
        "\n",
        "Pandemia (2020):\n",
        "\n",
        "Republic Airlines: maior adiantamento (9.86 min)\n",
        "\n",
        "Mesa Airlines Inc.: menor atraso (1.12 min)\n",
        "\n",
        "Antes da Pandemia (2018-2019):\n",
        "\n",
        "Peninsula Airways Inc. e Commutair Aka Champlain Enterprises: maiores atrasos (29.79 min e 27.98 min)\n",
        "\n",
        "Delta Air Lines e Hawaiian Airlines: menores atrasos (0.43 min e 0.18 min)\n",
        "\n",
        "Após a Pandemia (2021-2022):\n",
        "\n",
        "Allegiant Air: maior atraso (19.28 min)\n",
        "\n",
        "Delta Air Lines e Hawaiian Airlines: menores atrasos (0.73 min e 1.09 min)"
      ]
    },
    {
      "cell_type": "code",
      "execution_count": null,
      "metadata": {
        "id": "vLWGJpLHnbj9"
      },
      "outputs": [],
      "source": [
        "#calculo da media\n",
        "print(df_pandemic_grouped)\n",
        "print(df_before_pandemic_grouped)\n",
        "print(df_after_pandemic_grouped)"
      ]
    },
    {
      "cell_type": "markdown",
      "metadata": {
        "id": "rU7VsNndnd_u"
      },
      "source": [
        "⚡\n",
        "\n",
        "Pandemia (2020):\n",
        "\n",
        "Maior atraso: Republic Airlines (9.86 min)\n",
        "\n",
        "Melhor pontualidade: Mesa Airlines Inc. (1.12 min)\n",
        "\n",
        "Antes da Pandemia (2018-2019):\n",
        "\n",
        "Maior atraso: Commutair Aka Champlain Enterprises (27.98 min)\n",
        "\n",
        "Menor atraso: Delta Air Lines\n",
        "\n",
        "Após a Pandemia (2021-2022):\n",
        "\n",
        "Maior atraso: Allegiant Air (19.28 min)\n",
        "\n",
        "Menor atraso: Delta Air Lines"
      ]
    },
    {
      "cell_type": "code",
      "execution_count": null,
      "metadata": {
        "id": "hAaHfPhDngWX"
      },
      "outputs": [],
      "source": [
        "#testar com dados resumidos\n",
        "#calcular manualmente a média de atrasos da Delta Air Lines Inc. no período de pandemia\n",
        "delta_pandemic = df_pandemic[df_pandemic['Airline'] == 'Delta Air Lines Inc.']\n",
        "print(delta_pandemic['ArrDelay'].mean())"
      ]
    },
    {
      "cell_type": "markdown",
      "metadata": {
        "id": "vBvouJeZniqk"
      },
      "source": [
        "**O resultado da média mostra que durante a pandemia (2020) os vôos da Delta chegaram em média cerca de 4 minutos antes do horário previsto.**"
      ]
    },
    {
      "cell_type": "code",
      "execution_count": null,
      "metadata": {
        "id": "icqhORognnxA"
      },
      "outputs": [],
      "source": [
        "#substituir valores ausentes em variáveis categóricas pela moda\n",
        "categorical_cols = df_completo.select_dtypes(include=['object', 'category']).columns\n",
        "for col in categorical_cols:\n",
        "    moda = df_completo[col].mode()[0]  # Calcular a moda\n",
        "    df_completo[col].fillna(moda, inplace=True)\n",
        "\n",
        "#substituir valores ausentes em variáveis numéricas pela mediana\n",
        "numerical_cols = df_completo.select_dtypes(include=['number']).columns\n",
        "for col in numerical_cols:\n",
        "    mediana = df_completo[col].median()  # Calcular a mediana\n",
        "    df_completo[col].fillna(mediana, inplace=True)"
      ]
    },
    {
      "cell_type": "code",
      "execution_count": null,
      "metadata": {
        "id": "hIID6sfjnuls"
      },
      "outputs": [],
      "source": [
        "import pandas as pd\n",
        "import matplotlib.pyplot as plt\n",
        "\n",
        "#cópias dos dataframes\n",
        "df18 = df1.copy()\n",
        "df19 = df2.copy()\n",
        "df20 = df3.copy()\n",
        "df21 = df4.copy()\n",
        "df22 = df5.copy()\n",
        "\n",
        "# Concatenar os dataframes\n",
        "df_completo = pd.concat([df1, df2, df3, df4, df5], ignore_index=True)\n",
        "\n",
        "# Processamento de dados\n",
        "df_completo['FlightDate'] = pd.to_datetime(df_completo['FlightDate'])\n",
        "df_completo['Year'] = df_completo['FlightDate'].dt.year\n",
        "\n",
        "# Filtrar dados por ano\n",
        "df_pandemic = df_completo[df_completo['Year'] == 2020]\n",
        "df_before_pandemic = df_completo[df_completo['Year'].isin([2018, 2019])]\n",
        "df_after_pandemic = df_completo[df_completo['Year'].isin([2021, 2022])]\n",
        "\n",
        "# Agrupar e calcular a média de atraso\n",
        "df_before_pandemic_grouped = df_before_pandemic.groupby('Airline')['ArrDelay'].mean().reset_index()\n",
        "df_pandemic_grouped = df_pandemic.groupby('Airline')['ArrDelay'].mean().reset_index()\n",
        "df_after_pandemic_grouped = df_after_pandemic.groupby('Airline')['ArrDelay'].mean().reset_index()\n",
        "\n",
        "# Plotando o gráfico\n",
        "plt.figure(figsize=(14, 8))\n",
        "plt.bar(df_before_pandemic_grouped['Airline'], df_before_pandemic_grouped['ArrDelay'], color='#1f77b4', alpha=0.8, label='Antes da Pandemia')\n",
        "plt.bar(df_pandemic_grouped['Airline'], df_pandemic_grouped['ArrDelay'], color='#ff7f0e', alpha=0.8, label='Durante a Pandemia')\n",
        "plt.bar(df_after_pandemic_grouped['Airline'], df_after_pandemic_grouped['ArrDelay'], color='#2ca02c', alpha=0.8, label='Após a Pandemia')\n",
        "\n",
        "# Configurações de layout e exibição\n",
        "plt.xlabel('Companhias Aéreas', fontsize=12)\n",
        "plt.ylabel('Atraso Médio na Chegada (minutos)', fontsize=12)\n",
        "plt.title('Impacto da Pandemia nos Atrasos das Companhias Aéreas', fontsize=14)\n",
        "plt.xticks(rotation=45, ha='right', fontsize=10)\n",
        "plt.margins(y=0.1)\n",
        "plt.tight_layout()\n",
        "plt.legend(fontsize=10, loc='upper right')\n",
        "\n",
        "plt.show()\n",
        "\n",
        "# Exibir as médias de atraso por período\n",
        "print(\"Média de Atrasos Antes da Pandemia:\", df_before_pandemic_grouped)\n",
        "print(\"Média de Atrasos Durante a Pandemia:\", df_pandemic_grouped)\n",
        "print(\"Média de Atrasos Após a Pandemia:\", df_after_pandemic_grouped)"
      ]
    },
    {
      "cell_type": "code",
      "execution_count": null,
      "metadata": {
        "id": "teZInXeXnxZl"
      },
      "outputs": [],
      "source": [
        "# Renomear colunas\n",
        "df_before_pandemic_grouped.rename(columns={'ArrDelay': 'ArrDelay_Before'}, inplace=True)\n",
        "df_pandemic_grouped.rename(columns={'ArrDelay': 'ArrDelay_During'}, inplace=True)\n",
        "df_after_pandemic_grouped.rename(columns={'ArrDelay': 'ArrDelay_After'}, inplace=True)\n",
        "\n",
        "# Mesclar dataframes e preencher valores ausentes\n",
        "df_comparison = df_before_pandemic_grouped[['Airline', 'ArrDelay_Before']] \\\n",
        "    .merge(df_pandemic_grouped[['Airline', 'ArrDelay_During']], on='Airline', how='outer') \\\n",
        "    .merge(df_after_pandemic_grouped[['Airline', 'ArrDelay_After']], on='Airline', how='outer')\n",
        "\n",
        "df_comparison.fillna({'ArrDelay_Before': df_comparison['ArrDelay_Before'].median(),\n",
        "                      'ArrDelay_During': df_comparison['ArrDelay_During'].median(),\n",
        "                      'ArrDelay_After': df_comparison['ArrDelay_After'].median(),\n",
        "                      'Airline': df_comparison['Airline'].mode()[0]}, inplace=True)\n",
        "\n",
        "# Calcular as diferenças separadamente\n",
        "df_comparison['Difference_Before_During'] = df_comparison['ArrDelay_During'] - df_comparison['ArrDelay_Before']\n",
        "df_comparison['Difference_Before_After'] = df_comparison['ArrDelay_After'] - df_comparison['ArrDelay_Before']\n",
        "df_comparison['Difference_During_After'] = df_comparison['ArrDelay_After'] - df_comparison['ArrDelay_During']\n",
        "\n",
        "# Ordenar pelas maiores mudanças de atraso\n",
        "df_comparison.sort_values(by='Difference_Before_During', ascending=False, inplace=True)\n",
        "\n",
        "# Top 15 companhias com maiores mudanças\n",
        "print(df_comparison[['Airline', 'Difference_Before_During', 'Difference_Before_After', 'Difference_During_After']].head(15).to_string(index=False))"
      ]
    },
    {
      "cell_type": "markdown",
      "metadata": {
        "id": "0IE55Mtrnz6R"
      },
      "source": [
        "Variação nos atrasos das companhias aéreas antes, durante e após a pandemia:\n",
        "\n",
        "Trans States Airlines e Commutair Aka Champlain Enterprises, reduziram significativamente os atrasos durante a pandemia.\n",
        "\n",
        "Allegiant Air e Southwest Airlines Co., apresentaram aumentos nos atrasos após a pandemia.\n",
        "\n",
        "JetBlue Airways e GoJet Airlines enfrentaram grandes aumentos nos atrasos após a pandemia."
      ]
    },
    {
      "cell_type": "code",
      "execution_count": null,
      "metadata": {
        "id": "ZoXHoTVon60K"
      },
      "outputs": [],
      "source": [
        "import pandas as pd\n",
        "\n",
        "#filtrar os dados cada período antes de agrupar\n",
        "df_before_pandemic = df_completo[df_completo['Year'].isin([2018, 2019])]\n",
        "df_pandemic = df_completo[df_completo['Year'] == 2020]\n",
        "df_after_pandemic = df_completo[df_completo['Year'].isin([2021, 2022])]\n",
        "\n",
        "#agrupar e calcular médias de atraso por companhia aérea cada período\n",
        "df_before_pandemic_grouped = df_before_pandemic.groupby('Airline')['ArrDelay'].mean().reset_index().rename(columns={'ArrDelay': 'ArrDelay_Before'})\n",
        "df_pandemic_grouped = df_pandemic.groupby('Airline')['ArrDelay'].mean().reset_index().rename(columns={'ArrDelay': 'ArrDelay_During'})\n",
        "df_after_pandemic_grouped = df_after_pandemic.groupby('Airline')['ArrDelay'].mean().reset_index().rename(columns={'ArrDelay': 'ArrDelay_After'})\n",
        "\n",
        "#unir dataframes usando junção externa garantir que todas as companhias aéreas sejam mantidas\n",
        "df_combined = pd.merge(df_before_pandemic_grouped, df_pandemic_grouped, on='Airline', how='outer')\n",
        "df_combined = pd.merge(df_combined, df_after_pandemic_grouped, on='Airline', how='outer')\n",
        "\n",
        "#preencher valores ausentes (NaN) com mediana e moda\n",
        "df_combined['ArrDelay_Before'] = df_combined['ArrDelay_Before'].fillna(df_combined['ArrDelay_Before'].median())\n",
        "df_combined['ArrDelay_During'] = df_combined['ArrDelay_During'].fillna(df_combined['ArrDelay_During'].median())\n",
        "df_combined['ArrDelay_After'] = df_combined['ArrDelay_After'].fillna(df_combined['ArrDelay_After'].median())\n",
        "df_combined['Airline'] = df_combined['Airline'].fillna(df_combined['Airline'].mode()[0])\n",
        "\n",
        "#calcular diferenças de atraso entre os períodos\n",
        "df_combined['Difference_Before_During'] = df_combined['ArrDelay_During'] - df_combined['ArrDelay_Before']\n",
        "df_combined['Difference_Before_After'] = df_combined['ArrDelay_After'] - df_combined['ArrDelay_Before']\n",
        "df_combined['Difference_During_After'] = df_combined['ArrDelay_After'] - df_combined['ArrDelay_During']\n",
        "\n",
        "print(df_combined[['Airline', 'ArrDelay_Before', 'ArrDelay_During', 'ArrDelay_After',\n",
        "                   'Difference_Before_During', 'Difference_Before_After', 'Difference_During_After']])\n"
      ]
    },
    {
      "cell_type": "markdown",
      "metadata": {
        "id": "y_E3ZGiVn9Fg"
      },
      "source": [
        "⚡ Commutair: aumento nos atrasos durante e após a pandemia.\n",
        "\n",
        "⚡ Spirit Airlines e JetBlue: aumentaram os atrasos, mas se recuperaram.\n",
        "\n",
        "⚡ Delta Air Lines: estabilidade nos atrasos.\n",
        "\n",
        "⚡ Virgin America: leve redução nos atrasos após a pandemia."
      ]
    },
    {
      "cell_type": "code",
      "execution_count": null,
      "metadata": {
        "id": "KCoeauXwn_lx"
      },
      "outputs": [],
      "source": [
        "import pandas as pd\n",
        "\n",
        "\n",
        "#descrição estatística da coluna 'Difference_Before_During'\n",
        "print(\"Estatísticas Descritivas para a Diferença Antes Durante:\")\n",
        "print(df_combined['Difference_Before_During'].describe())\n",
        "\n",
        "#primeiros 10 valores da coluna 'Difference_Before_During' para ter uma noção do intervalo\n",
        "print(\"\\nPrimeiros 10 valores da Diferença Antes Durante:\")\n",
        "print(df_combined[['Airline', 'Difference_Before_During']].head(10))\n",
        "\n",
        "#filtrar companhias com diferença maior que 0.5\n",
        "df_significant_difference = df_combined[df_combined['Difference_Before_During'] > 0.5]\n",
        "\n",
        "#exibir companhias com diferença significativa\n",
        "print(\"\\nCompanhias com Diferença Significativa de Atraso (maior que 0.5):\")\n",
        "print(df_significant_difference[['Airline', 'Difference_Before_During']])"
      ]
    },
    {
      "cell_type": "markdown",
      "metadata": {
        "id": "Jy4OZ7l5oChk"
      },
      "source": [
        "⚡ A média da diferença foi de 11.03 horas a menos, indicando uma redução nos atrasos durante a pandemia.\n",
        "\n",
        "⚡ O desvio padrão foi de 6.87 horas, sugerindo grande variação nos dados.\n",
        "\n",
        "⚡ O valor mínimo foi de 33.84 horas a menos e o máximo de 0.20 horas a mais, refletindo uma ampla gama de resultados entre as companhias.\n",
        "\n",
        "⚡ A mediana foi de 11.33 horas a menos, confirmando que a maioria das companhias experimentou uma redução significativa nos atrasos.\n",
        "\n",
        "⚡ Os 10 primeiros valores mostram que muitas companhias apresentaram atrasos reduzidos.\n",
        "\n",
        "⚡ Commutair Aka Champlain Enterprises teve uma redução de 22.73 horas a menos, enquanto Cape Air teve uma leve melhoria de 0.20 horas a mais, reforçando que a pandemia teve um impacto negativo na maioria das companhias."
      ]
    },
    {
      "cell_type": "code",
      "execution_count": null,
      "metadata": {
        "id": "8GuBOcVuoGIr"
      },
      "outputs": [],
      "source": [
        "#exibir primeiras linhas do DataFrame com diferenças significativas\n",
        "print(df_significant_difference.head())"
      ]
    },
    {
      "cell_type": "code",
      "execution_count": null,
      "metadata": {
        "id": "BWYSFYOQoHvY"
      },
      "outputs": [],
      "source": [
        "print(df_combined[['Difference_Before_During']].describe())"
      ]
    },
    {
      "cell_type": "markdown",
      "metadata": {
        "id": "Ykao-c_7oKXi"
      },
      "source": [
        "⚡Média de redução nos atrasos: 11,03 horas a menos.\n",
        "\n",
        "⚡Variação nos dados: Reduções de até 33,84 horas.\n",
        "\n",
        "⚡Melhorias pequenas ou sem mudança: Máximo de 20 minutos a mais.\n",
        "\n",
        "⚡Mediana: 11,33 horas a menos.\n",
        "\n",
        "⚡Percentil 25%: 13,45 horas a menos."
      ]
    },
    {
      "cell_type": "code",
      "execution_count": null,
      "metadata": {
        "id": "_X--9vWCoMOP"
      },
      "outputs": [],
      "source": [
        "print(df_combined[['Airline', 'Difference_Before_During']].head())\n",
        "\n",
        "df_significant_difference = df_combined[df_combined['Difference_Before_During'] > 0.1]"
      ]
    },
    {
      "cell_type": "markdown",
      "metadata": {
        "id": "sp0ikMOtoOj-"
      },
      "source": [
        "⚡Air Wisconsin Airlines Corp: Redução de 11,66 horas.\n",
        "\n",
        "⚡Alaska Airlines Inc.: Redução de 7,63 horas.\n",
        "\n",
        "⚡American Airlines Inc.: Redução de 11,26 horas.\n",
        "\n",
        "⚡Cape Air: Pequena melhoria de 0,20 horas."
      ]
    },
    {
      "cell_type": "code",
      "execution_count": null,
      "metadata": {
        "id": "eJHJDLUgoQ3l"
      },
      "outputs": [],
      "source": [
        "df_significant_difference = df_combined[df_combined['Difference_Before_During'] > -1]"
      ]
    },
    {
      "cell_type": "code",
      "execution_count": null,
      "metadata": {
        "id": "t32AgJpDoSw5"
      },
      "outputs": [],
      "source": [
        "#calcular diferenças de atraso entre períodos\n",
        "df_combined['Difference_Before_During'] = df_combined['ArrDelay_During'] - df_combined['ArrDelay_Before']\n",
        "df_combined['Difference_Before_After'] = df_combined['ArrDelay_After'] - df_combined['ArrDelay_Before']\n",
        "df_combined['Difference_During_After'] = df_combined['ArrDelay_After'] - df_combined['ArrDelay_During']\n",
        "\n",
        "#descrição estatística da coluna 'Difference_Before_During'\n",
        "print(df_combined['Difference_Before_During'].describe())\n",
        "\n",
        "#primeiros 10 valores da coluna 'Difference_Before_During' para entender intervalo\n",
        "print(df_combined[['Airline', 'Difference_Before_During']].head(10))\n",
        "\n",
        "#filtro: companhias com diferença maior que -1 (ajustado para valores mais realistas)\n",
        "df_significant_difference = df_combined[df_combined['Difference_Before_During'] > -1]\n",
        "\n",
        "#exibir companhias com diferença significativa\n",
        "print(df_significant_difference[['Airline', 'Difference_Before_During']])"
      ]
    },
    {
      "cell_type": "markdown",
      "metadata": {
        "id": "OiqbPBg5oVUt"
      },
      "source": [
        "⚡A maioria das 28 companhias aéreas apresentou uma diminuição significativa nos atrasos durante a pandemia.\n",
        "\n",
        "⚡Média: Redução de 11,03 horas.\n",
        "\n",
        "⚡Valor mínimo: Redução de 33,84 horas.\n",
        "\n",
        "⚡Valor máximo: Melhoria de 0,20 horas (Cape Air).\n",
        "\n",
        "⚡75% das empresas apresentaram redução entre 6,86 e 13,45 horas."
      ]
    },
    {
      "cell_type": "code",
      "execution_count": null,
      "metadata": {
        "id": "KL4ElbFjoef2"
      },
      "outputs": [],
      "source": [
        "#ordenação por data e hora\n",
        "df_completo = df_completo.sort_values(by=['Airline', 'FlightDate'])"
      ]
    },
    {
      "cell_type": "code",
      "execution_count": null,
      "metadata": {
        "id": "KDL5NknFog9r"
      },
      "outputs": [],
      "source": [
        "#criação da coluna ArrDelay_Before\n",
        "df_completo['ArrDelay_Before'] = df_completo['ArrDelay'].shift(1)"
      ]
    },
    {
      "cell_type": "code",
      "execution_count": null,
      "metadata": {
        "id": "1VRNRUp7ojxL"
      },
      "outputs": [],
      "source": [
        "#preenchendo valores ausentes em ArrDelay_Before com mediana\n",
        "mediana_atraso = df_completo['ArrDelay'].median()  #calcular mediana\n",
        "df_completo['ArrDelay_Before'] = df_completo['ArrDelay_Before'].fillna(mediana_atraso)"
      ]
    },
    {
      "cell_type": "code",
      "execution_count": null,
      "metadata": {
        "id": "SGlUhRfColgZ"
      },
      "outputs": [],
      "source": [
        "#preenchendo valores ausentes em Airline com a moda\n",
        "moda_airline = df_completo['Airline'].mode()[0]\n",
        "df_completo['Airline'] = df_completo['Airline'].fillna(moda_airline)"
      ]
    },
    {
      "cell_type": "code",
      "execution_count": null,
      "metadata": {
        "id": "7xkisQIGoox7"
      },
      "outputs": [],
      "source": [
        "#calculando a diferença entre os atrasos\n",
        "df_completo['Difference_Before_During'] = df_completo['ArrDelay'] - df_completo['ArrDelay_Before']"
      ]
    },
    {
      "cell_type": "code",
      "execution_count": null,
      "metadata": {
        "id": "Y-k5cAgIoqW6"
      },
      "outputs": [],
      "source": [
        "print(df_completo[['Airline', 'FlightDate', 'ArrDelay', 'ArrDelay_Before', 'Difference_Before_During']].head())"
      ]
    },
    {
      "cell_type": "markdown",
      "metadata": {
        "id": "F__znAxqosLX"
      },
      "source": [
        "⚡Grandes variações nos atrasos de chegada.\n",
        "\n",
        "⚡No registro 1566, o atraso foi 303 minutos maior antes do voo.\n",
        "\n",
        "⚡No registro 1567, houve uma redução no atraso de 291 minutos.\n",
        "\n",
        "⚡Essas flutuações sugerem influência de fatores imprevistos nos atrasos."
      ]
    },
    {
      "cell_type": "code",
      "execution_count": null,
      "metadata": {
        "id": "cUA-0rl7ou1P"
      },
      "outputs": [],
      "source": [
        "#calcular diferença de atraso entre o voo atual e o anterior\n",
        "df_completo['Difference_Before_During'] = df_completo['ArrDelay'] - df_completo['ArrDelay_Before']\n",
        "\n",
        "#exibir últimas linhas das colunas selecionadas\n",
        "print(df_completo[['ArrDelay', 'ArrDelay_Before', 'Difference_Before_During']].tail())"
      ]
    },
    {
      "cell_type": "markdown",
      "metadata": {
        "id": "aDtjxfIfowWi"
      },
      "source": [
        "⚡ Registro 28877: redução de 7 minutos.\n",
        "\n",
        "⚡ Registro 28874: redução de 3 minutos.\n",
        "\n",
        "⚡ Registro 28878: aumento de 32 minutos.\n",
        "\n",
        "⚡ Registro 28879: redução de 21 minutos.\n",
        "\n",
        "⚡ Registro 28880: redução de 6 minutos."
      ]
    },
    {
      "cell_type": "code",
      "execution_count": null,
      "metadata": {
        "id": "znQW3WAgozT_"
      },
      "outputs": [],
      "source": [
        "import matplotlib.pyplot as plt\n",
        "import seaborn as sns\n",
        "\n",
        "# Boxplot para identificar outliers\n",
        "plt.figure(figsize=(12, 6))\n",
        "sns.boxplot(x=df_completo['Difference_Before_During'], color='skyblue')\n",
        "plt.title('Boxplot de Difference_Before_During', fontsize=16)\n",
        "plt.xlabel('Difference_Before_During', fontsize=14)\n",
        "plt.tight_layout(pad=5.0)  # Aumenta o espaçamento\n",
        "plt.show()\n",
        "\n",
        "# Histograma para distribuição dos dados\n",
        "plt.figure(figsize=(12, 6))\n",
        "plt.hist(df_completo['Difference_Before_During'], bins=50, color='skyblue', edgecolor='black')\n",
        "plt.title('Histograma de Difference_Before_During', fontsize=16)\n",
        "plt.xlabel('Difference_Before_During', fontsize=14)\n",
        "plt.ylabel('Frequência', fontsize=14)\n",
        "plt.tight_layout(pad=5.0)  # Aumenta o espaçamento\n",
        "plt.show()\n",
        "\n",
        "# Análise de Quartis e identificação de outliers\n",
        "Q1, Q3 = df_completo['Difference_Before_During'].quantile([0.25, 0.75])\n",
        "IQR = Q3 - Q1\n",
        "limite_inferior, limite_superior = Q1 - 1.5 * IQR, Q3 + 1.5 * IQR\n",
        "\n",
        "outliers = df_completo[(df_completo['Difference_Before_During'] < limite_inferior) |\n",
        "                       (df_completo['Difference_Before_During'] > limite_superior)]\n",
        "\n",
        "# Resultados\n",
        "print(f'Número de outliers: {outliers.shape[0]}')\n",
        "print(outliers[['Airline', 'FlightDate', 'ArrDelay', 'ArrDelay_Before', 'Difference_Before_During']])\n",
        "print(f'Limites: Inferior = {limite_inferior}, Superior = {limite_superior}')"
      ]
    },
    {
      "cell_type": "markdown",
      "metadata": {
        "id": "p22X3dDRo2sN"
      },
      "source": [
        "Foram identificados 33.909 outliers no conjunto de dados.\n",
        "\n",
        "Exemplos de Outliers:\n",
        "\n",
        "⚡Air Wisconsin Airlines Corp teve variações de atraso significativas, como no voo de 2018-01-01, com uma diferença de 303 minutos (outlier positivo) e 291 minutos (outlier negativo).\n",
        "\n",
        "⚡Virgin America também teve outliers, com variações de atraso de 102 minutos e 100 minutos."
      ]
    },
    {
      "cell_type": "code",
      "execution_count": null,
      "metadata": {
        "id": "J6Osq-Z6o5rv"
      },
      "outputs": [],
      "source": [
        "#substituir outliers pela mediana dos dados\n",
        "mediana = df_completo['Difference_Before_During'].median()\n",
        "df_completo['Difference_Before_During'] = df_completo['Difference_Before_During'].apply(\n",
        "    lambda x: mediana if (x < limite_inferior) or (x > limite_superior) else x\n",
        ")\n",
        "\n",
        "#verificar se a substituição foi realizada\n",
        "print(df_completo[['Airline', 'FlightDate', 'ArrDelay', 'ArrDelay_Before', 'Difference_Before_During']].head())"
      ]
    },
    {
      "cell_type": "markdown",
      "metadata": {
        "id": "UufMxLlto8EH"
      },
      "source": [
        "Coluna Difference_Before_During mostra a diferença de atraso entre o voo anterior e o atual, com muitos registros com valores 0.0 indicando que o atraso não mudou entre os dois voos consecutivos.\n",
        "\n",
        "O FlightDate varia de 2018-01-01 a 2018-01-02, com atrasos de -9 a 296 minutos.\n",
        "\n",
        "⚡Em 01/01/2018, os voos 1566 a 1569 não tiveram diferença de atraso.\n",
        "\n",
        "⚡Em 02/01/2018, o voo 1560 teve um aumento de 19 minutos no atraso."
      ]
    },
    {
      "cell_type": "code",
      "execution_count": null,
      "metadata": {
        "id": "xndLz4TupAqv"
      },
      "outputs": [],
      "source": [
        "#filtrar voos com grandes diferenças de atraso\n",
        "voos_com_grande_diferenca = df_completo[df_completo['Difference_Before_During'] > 50]\n",
        "print(voos_com_grande_diferenca[['Airline', 'FlightDate', 'ArrDelay', 'ArrDelay_Before', 'Difference_Before_During']])"
      ]
    },
    {
      "cell_type": "markdown",
      "metadata": {
        "id": "TxSfPMqepCoq"
      },
      "source": [
        "A coluna voos_com_grande_diferenca destaca os voos com grandes variações entre o atraso previsto e o real.\n",
        "\n",
        "⚡Air Wisconsin Airlines Corp. (regional) tem variações de atraso entre 53 e 60 minutos.\n",
        "\n",
        "⚡United Air Lines Inc. (nacional e internacional) apresenta variações entre 53 e 59 minutos."
      ]
    },
    {
      "cell_type": "code",
      "execution_count": null,
      "metadata": {
        "id": "odMZJG_4pEyh"
      },
      "outputs": [],
      "source": [
        "#contagem de voos com grandes diferenças por companhia aérea\n",
        "grandes_diferencas_por_companhia = voos_com_grande_diferenca.groupby('Airline').size()\n",
        "print(grandes_diferencas_por_companhia)"
      ]
    },
    {
      "cell_type": "markdown",
      "metadata": {
        "id": "n7puqT0gpG0A"
      },
      "source": [
        "⚡Companhias com mais voos com grandes diferenças de atraso: Southwest Airlines (791 voos), American Airlines (503 voos), SkyWest Airlines (383 voos).\n",
        "\n",
        "⚡Companhias com menos voos com grandes diferenças: Peninsula Airways (1 voo), Compass Airlines (26 voos).\n",
        "\n",
        "⚡Distribuição: A maioria das companhias tem entre 50 e 200 voos com grandes variações, como Alaska Airlines e Delta.\n",
        "\n",
        "⚡Padrões: Companhias grandes tendem a ter mais voos com grandes variações de atraso."
      ]
    },
    {
      "cell_type": "code",
      "execution_count": null,
      "metadata": {
        "id": "9nydzuUspI5d"
      },
      "outputs": [],
      "source": [
        "#verificar se há datas específicas com grandes diferenças\n",
        "voos_com_grande_diferenca['FlightDate'] = pd.to_datetime(voos_com_grande_diferenca['FlightDate'])\n",
        "voos_com_grande_diferenca.groupby(voos_com_grande_diferenca['FlightDate'].dt.month).size()"
      ]
    },
    {
      "cell_type": "markdown",
      "metadata": {
        "id": "SnaNzxMtjJHm"
      },
      "source": [
        "⚡Picos de voos com grandes atrasos: 456 voos no dia 7 e 385 voos no dia 6.\n",
        "\n",
        "⚡Flutuação: Pode ser influenciada por fatores sazonais, mas sem grandes variações, indicando uma distribuição estável."
      ]
    },
    {
      "cell_type": "code",
      "execution_count": null,
      "metadata": {
        "id": "B5kjCOhEpMe9"
      },
      "outputs": [],
      "source": [
        "#boxplot para ver a distribuição de atraso\n",
        "plt.figure(figsize=(10, 6))\n",
        "sns.boxplot(x=df_completo['Difference_Before_During'])\n",
        "plt.title('Boxplot da Diferença de Atraso')\n",
        "plt.xlabel('Difference_Before_During')\n",
        "plt.show()"
      ]
    },
    {
      "cell_type": "code",
      "execution_count": null,
      "metadata": {
        "id": "eNN2F8bepOa7"
      },
      "outputs": [],
      "source": [
        "#investigação dos Outliers por Companhia Aérea\n",
        "import matplotlib.pyplot as plt\n",
        "import seaborn as sns\n",
        "\n",
        "plt.figure(figsize=(12, 6))\n",
        "sns.boxplot(x='Airline', y='Difference_Before_During', data=df_completo)\n",
        "plt.xticks(rotation=90)\n",
        "plt.title('Distribuição das Diferenças de Atraso por Companhia Aérea')\n",
        "plt.xlabel('Companhia Aérea')\n",
        "plt.ylabel('Diferença de Atraso')\n",
        "plt.show()"
      ]
    },
    {
      "cell_type": "code",
      "execution_count": null,
      "metadata": {
        "id": "sZFnXkJxpQe9"
      },
      "outputs": [],
      "source": [
        "#analise temporal\n",
        "df_completo['FlightDate'] = pd.to_datetime(df_completo['FlightDate'])\n",
        "df_completo['Month'] = df_completo['FlightDate'].dt.month\n",
        "\n",
        "#agrupar por mês e calcular a média da diferença de atraso\n",
        "media_diferenca_por_mes = df_completo.groupby('Month')['Difference_Before_During'].mean()\n",
        "\n",
        "plt.figure(figsize=(10, 6))\n",
        "sns.lineplot(x=media_diferenca_por_mes.index, y=media_diferenca_por_mes.values)\n",
        "plt.title('Média da Diferença de Atraso por Mês')\n",
        "plt.xlabel('Mês')\n",
        "plt.ylabel('Média da Diferença de Atraso')\n",
        "plt.show()"
      ]
    },
    {
      "cell_type": "code",
      "execution_count": null,
      "metadata": {
        "id": "LggLOxjppSQS"
      },
      "outputs": [],
      "source": [
        "import matplotlib.pyplot as plt\n",
        "\n",
        "#exibir o histograma da diferença de atraso\n",
        "plt.hist(df_completo['Difference_Before_During'].dropna(), bins=50, edgecolor='k')  # bins=50 pode ser ajustado conforme necessário\n",
        "plt.title(\"Distribuição da Diferença de Atraso\")\n",
        "plt.xlabel(\"Diferença de Atraso (minutos)\")\n",
        "plt.ylabel(\"Frequência\")\n",
        "plt.show()"
      ]
    },
    {
      "cell_type": "code",
      "execution_count": null,
      "metadata": {
        "id": "6MOCbccOpUlV"
      },
      "outputs": [],
      "source": [
        "#quantos valores são zero (diferença de atraso zero)\n",
        "zero_diff_count = (df_completo['Difference_Before_During'] == 0).sum()\n",
        "print(f\"Quantidade de voos com diferença de atraso zero: {zero_diff_count}\")\n",
        "\n",
        "#quantos valores estão próximos de zero (por exemplo, dentro de um intervalo de -5 a 5 minutos)\n",
        "near_zero_count = ((df_completo['Difference_Before_During'] > -5) & (df_completo['Difference_Before_During'] < 5)).sum()\n",
        "print(f\"Quantidade de voos com diferença de atraso entre -5 e 5 minutos: {near_zero_count}\")"
      ]
    },
    {
      "cell_type": "markdown",
      "metadata": {
        "id": "H4y91lwvpWgZ"
      },
      "source": [
        "⚡ 41638 voos: Sem variação significativa, foram pontuais.\n",
        "\n",
        "⚡ 85424 voos: Pequenas flutuações de atraso, dentro da margem de tolerância comum."
      ]
    },
    {
      "cell_type": "code",
      "execution_count": null,
      "metadata": {
        "id": "wTC69opzpamA"
      },
      "outputs": [],
      "source": [
        "import numpy as np\n",
        "\n",
        "#calcular os quartis e o IQR\n",
        "q1 = df_completo['Difference_Before_During'].quantile(0.25)\n",
        "q3 = df_completo['Difference_Before_During'].quantile(0.75)\n",
        "iqr = q3 - q1\n",
        "\n",
        "#calcular os limites inferior e superior\n",
        "lower_bound = q1 - 1.5 * iqr\n",
        "upper_bound = q3 + 1.5 * iqr\n",
        "\n",
        "#filtrar os outliers\n",
        "outliers = df_completo[(df_completo['Difference_Before_During'] < lower_bound) |\n",
        "                       (df_completo['Difference_Before_During'] > upper_bound)]\n",
        "\n",
        "#outliers e o número total\n",
        "print(f\"Total de outliers encontrados: {len(outliers)}\")\n",
        "print(outliers)"
      ]
    },
    {
      "cell_type": "code",
      "execution_count": null,
      "metadata": {
        "id": "VkGHyKlXpfa5"
      },
      "outputs": [],
      "source": [
        "import matplotlib.pyplot as plt\n",
        "import seaborn as sns\n",
        "\n",
        "plt.figure(figsize=(12, 18))\n",
        "\n",
        "#antes da Pandemia\n",
        "plt.subplot(3, 1, 1)\n",
        "sns.histplot(df_comparison['ArrDelay_Before'].dropna(), kde=True, color='blue', bins=30)\n",
        "plt.title('Histograma - Atrasos Antes da Pandemia')\n",
        "plt.xlabel('Atraso (minutos)')\n",
        "plt.ylabel('Frequência')\n",
        "\n",
        "#durante a Pandemia\n",
        "plt.subplot(3, 1, 2)\n",
        "sns.histplot(df_comparison['ArrDelay_During'].dropna(), kde=True, color='orange', bins=30)\n",
        "plt.title('Histograma - Atrasos Durante a Pandemia')\n",
        "plt.xlabel('Atraso (minutos)')\n",
        "plt.ylabel('Frequência')\n",
        "\n",
        "#após a Pandemia\n",
        "plt.subplot(3, 1, 3)\n",
        "sns.histplot(df_comparison['ArrDelay_After'].dropna(), kde=True, color='green', bins=30)\n",
        "plt.title('Histograma - Atrasos Após a Pandemia')\n",
        "plt.xlabel('Atraso (minutos)')\n",
        "plt.ylabel('Frequência')\n",
        "\n",
        "plt.subplots_adjust(hspace=0.4)\n",
        "\n",
        "plt.tight_layout()\n",
        "\n",
        "plt.show()"
      ]
    },
    {
      "cell_type": "code",
      "execution_count": null,
      "metadata": {
        "id": "Y83zPmSWpjhn"
      },
      "outputs": [],
      "source": [
        "import matplotlib.pyplot as plt\n",
        "import seaborn as sns\n",
        "\n",
        "#colunas de atrasos período\n",
        "df_completo['Before_Pandemic'] = df_completo['ArrDelay'].where(df_completo['Year'] < 2020)\n",
        "df_completo['During_Pandemic'] = df_completo['ArrDelay'].where(df_completo['Year'] == 2020)\n",
        "df_completo['After_Pandemic'] = df_completo['ArrDelay'].where(df_completo['Year'] > 2020)\n",
        "\n",
        "#médias atraso companhia cada período\n",
        "df_companhias_aereas = df_completo.groupby('Airline').agg({\n",
        "    'Before_Pandemic': 'mean',\n",
        "    'During_Pandemic': 'mean',\n",
        "    'After_Pandemic': 'mean'\n",
        "}).reset_index()\n",
        "\n",
        "#plotar gráficos\n",
        "def plot_barplot(df, x, y, palette, title, ax):\n",
        "    sns.barplot(x=x, y=y, data=df, color=palette, ax=ax)\n",
        "    ax.set_title(title, fontsize=18, pad=15)\n",
        "    ax.set_xlabel('Companhia Aérea', fontsize=14, labelpad=10)\n",
        "    ax.set_ylabel('Média de Atraso (minutos)', fontsize=14, labelpad=10)\n",
        "    ax.tick_params(axis='x', rotation=90, labelsize=12)\n",
        "\n",
        "#subplots\n",
        "fig, axes = plt.subplots(3, 1, figsize=(16, 20))\n",
        "\n",
        "#plotar gráficos\n",
        "plot_barplot(df_companhias_aereas, 'Airline', 'Before_Pandemic', 'steelblue', 'Atrasos - Antes da Pandemia', axes[0])\n",
        "plot_barplot(df_companhias_aereas, 'Airline', 'During_Pandemic', 'darkorange', 'Atrasos - Durante a Pandemia', axes[1])\n",
        "plot_barplot(df_companhias_aereas, 'Airline', 'After_Pandemic', 'seagreen', 'Atrasos - Após a Pandemia', axes[2])\n",
        "\n",
        "#espaçamento\n",
        "plt.subplots_adjust(hspace=0.5)\n",
        "plt.tight_layout(rect=[0, 0, 1, 0.97])\n",
        "\n",
        "plt.show()"
      ]
    },
    {
      "cell_type": "code",
      "execution_count": null,
      "metadata": {
        "colab": {
          "background_save": true
        },
        "id": "MCIeGUpR8J-F"
      },
      "outputs": [],
      "source": [
        "import plotly.graph_objects as go\n",
        "\n",
        "# Dados\n",
        "before_data = df_comparison['ArrDelay_Before'].dropna()\n",
        "during_data = df_comparison['ArrDelay_During'].dropna()\n",
        "after_data = df_comparison['ArrDelay_After'].dropna()\n",
        "\n",
        "# Criando a figura interativa\n",
        "fig = go.Figure()\n",
        "\n",
        "# Adicionando histograma para 'Antes da Pandemia'\n",
        "fig.add_trace(go.Histogram(\n",
        "    x=before_data,\n",
        "    nbinsx=30,  # Ajuste de bins\n",
        "    name=\"Antes da Pandemia\",\n",
        "    marker=dict(color='blue', opacity=0.7),\n",
        "    histnorm='probability density',  # Normalizando para densidade\n",
        "    legendgroup='1'\n",
        "))\n",
        "\n",
        "# Adicionando histograma para 'Durante a Pandemia'\n",
        "fig.add_trace(go.Histogram(\n",
        "    x=during_data,\n",
        "    nbinsx=30,\n",
        "    name=\"Durante a Pandemia\",\n",
        "    marker=dict(color='orange', opacity=0.7),\n",
        "    histnorm='probability density',\n",
        "    legendgroup='2'\n",
        "))\n",
        "\n",
        "# Adicionando histograma para 'Após a Pandemia'\n",
        "fig.add_trace(go.Histogram(\n",
        "    x=after_data,\n",
        "    nbinsx=30,\n",
        "    name=\"Após a Pandemia\",\n",
        "    marker=dict(color='green', opacity=0.7),\n",
        "    histnorm='probability density',\n",
        "    legendgroup='3'\n",
        "))\n",
        "\n",
        "# Layout da figura\n",
        "fig.update_layout(\n",
        "    title=\"Distribuição dos Atrasos de Voo Antes, Durante e Após a Pandemia\",\n",
        "    xaxis_title=\"Atraso (minutos)\",\n",
        "    yaxis_title=\"Densidade de Probabilidade\",\n",
        "    barmode='overlay',  # Sobreposição das barras\n",
        "    template=\"plotly_dark\",  # Estilo de fundo preto\n",
        "    legend_title=\"Período\",\n",
        "    legend=dict(x=0.7, y=0.95),\n",
        "    hovermode=\"x unified\",  # Exibir informações ao passar o mouse\n",
        "    xaxis=dict(tickmode='linear'),\n",
        "    yaxis=dict(range=[0, 0.1]),  # Ajuste automático de eixo y para visualização limpa\n",
        "    plot_bgcolor=\"black\",  # Cor de fundo do gráfico\n",
        "    paper_bgcolor=\"black\",  # Cor de fundo da área de papel\n",
        "    font=dict(color=\"white\")  # Cor das fontes ajustadas para o fundo escuro\n",
        ")\n",
        "\n",
        "# Exibir o gráfico\n",
        "fig.show()\n"
      ]
    },
    {
      "cell_type": "code",
      "execution_count": null,
      "metadata": {
        "colab": {
          "base_uri": "https://localhost:8080/",
          "height": 221
        },
        "id": "spRqEkAgytey",
        "outputId": "cc2676fc-f66a-405d-98a3-1f46d7dd0449"
      },
      "outputs": [
        {
          "ename": "NameError",
          "evalue": "name 'df_comparison' is not defined",
          "output_type": "error",
          "traceback": [
            "\u001b[0;31m---------------------------------------------------------------------------\u001b[0m",
            "\u001b[0;31mNameError\u001b[0m                                 Traceback (most recent call last)",
            "\u001b[0;32m<ipython-input-3-f5a2606c74e4>\u001b[0m in \u001b[0;36m<cell line: 4>\u001b[0;34m()\u001b[0m\n\u001b[1;32m      2\u001b[0m \u001b[0;34m\u001b[0m\u001b[0m\n\u001b[1;32m      3\u001b[0m \u001b[0;31m# Dados\u001b[0m\u001b[0;34m\u001b[0m\u001b[0;34m\u001b[0m\u001b[0m\n\u001b[0;32m----> 4\u001b[0;31m \u001b[0mbefore_data\u001b[0m \u001b[0;34m=\u001b[0m \u001b[0mdf_comparison\u001b[0m\u001b[0;34m[\u001b[0m\u001b[0;34m'ArrDelay_Before'\u001b[0m\u001b[0;34m]\u001b[0m\u001b[0;34m.\u001b[0m\u001b[0mdropna\u001b[0m\u001b[0;34m(\u001b[0m\u001b[0;34m)\u001b[0m\u001b[0;34m\u001b[0m\u001b[0;34m\u001b[0m\u001b[0m\n\u001b[0m\u001b[1;32m      5\u001b[0m \u001b[0mduring_data\u001b[0m \u001b[0;34m=\u001b[0m \u001b[0mdf_comparison\u001b[0m\u001b[0;34m[\u001b[0m\u001b[0;34m'ArrDelay_During'\u001b[0m\u001b[0;34m]\u001b[0m\u001b[0;34m.\u001b[0m\u001b[0mdropna\u001b[0m\u001b[0;34m(\u001b[0m\u001b[0;34m)\u001b[0m\u001b[0;34m\u001b[0m\u001b[0;34m\u001b[0m\u001b[0m\n\u001b[1;32m      6\u001b[0m \u001b[0mafter_data\u001b[0m \u001b[0;34m=\u001b[0m \u001b[0mdf_comparison\u001b[0m\u001b[0;34m[\u001b[0m\u001b[0;34m'ArrDelay_After'\u001b[0m\u001b[0;34m]\u001b[0m\u001b[0;34m.\u001b[0m\u001b[0mdropna\u001b[0m\u001b[0;34m(\u001b[0m\u001b[0;34m)\u001b[0m\u001b[0;34m\u001b[0m\u001b[0;34m\u001b[0m\u001b[0m\n",
            "\u001b[0;31mNameError\u001b[0m: name 'df_comparison' is not defined"
          ]
        }
      ],
      "source": [
        "import matplotlib.pyplot as plt\n",
        "import seaborn as sns\n",
        "\n",
        "#colunas de atrasos período\n",
        "df_completo['Before_Pandemic'] = df_completo['ArrDelay'].where(df_completo['Year'] < 2020)\n",
        "df_completo['During_Pandemic'] = df_completo['ArrDelay'].where(df_completo['Year'] == 2020)\n",
        "df_completo['After_Pandemic'] = df_completo['ArrDelay'].where(df_completo['Year'] > 2020)\n",
        "\n",
        "#médias atraso companhia cada período\n",
        "df_companhias_aereas = df_completo.groupby('Airline').agg({\n",
        "    'Before_Pandemic': 'mean',\n",
        "    'During_Pandemic': 'mean',\n",
        "    'After_Pandemic': 'mean'\n",
        "}).reset_index()\n",
        "\n",
        "#plotar gráficos\n",
        "def plot_barplot(df, x, y, palette, title, ax):\n",
        "    sns.barplot(x=x, y=y, data=df, color=palette, ax=ax)\n",
        "    ax.set_title(title, fontsize=18, pad=15)\n",
        "    ax.set_xlabel('Companhia Aérea', fontsize=14, labelpad=10)\n",
        "    ax.set_ylabel('Média de Atraso (minutos)', fontsize=14, labelpad=10)\n",
        "    ax.tick_params(axis='x', rotation=90, labelsize=12)\n",
        "\n",
        "#subplots\n",
        "fig, axes = plt.subplots(3, 1, figsize=(16, 20))\n",
        "\n",
        "#plotar gráficos\n",
        "plot_barplot(df_companhias_aereas, 'Airline', 'Before_Pandemic', 'steelblue', 'Atrasos - Antes da Pandemia', axes[0])\n",
        "plot_barplot(df_companhias_aereas, 'Airline', 'During_Pandemic', 'darkorange', 'Atrasos - Durante a Pandemia', axes[1])\n",
        "plot_barplot(df_companhias_aereas, 'Airline', 'After_Pandemic', 'seagreen', 'Atrasos - Após a Pandemia', axes[2])\n",
        "\n",
        "#espaçamento\n",
        "plt.subplots_adjust(hspace=0.5)\n",
        "plt.tight_layout(rect=[0, 0, 1, 0.97])\n",
        "\n",
        "plt.show()\n",
        "\n"
      ]
    },
    {
      "cell_type": "markdown",
      "metadata": {
        "id": "Ss_lv0E-WVhf"
      },
      "source": [
        "\n",
        "\n",
        "---\n",
        "\n"
      ]
    },
    {
      "cell_type": "markdown",
      "metadata": {
        "id": "W6GkGyVXjU8Q"
      },
      "source": [
        "✅ RESPOSTA FINAL 1.2\n",
        "\n",
        "A pandemia afetou as operações das companhias aéreas, resultando em aumentos nos atrasos médios, especialmente durante o pico, com redução no número de voos.\n",
        "\n",
        "Evidências:\n",
        "\n",
        "⚡Redução no número de voos entre 2019 e 2022, durante os períodos críticos da pandemia.\n",
        "\n",
        "⚡Mudanças nos atrasos médios: Durante 2020, muitas companhias tiveram chegadas adiantadas, mas em 2021-2022, houve aumento nos atrasos, como em Allegiant Air e Southwest Airlines. Delta Air Lines e Hawaiian Airlines mantiveram estabilidade.\n",
        "\n",
        "⚡Diferenças estatísticas: A média de diferença de atrasos foi de 11.03 minutos a menos durante a pandemia, com a maioria das companhias mostrando diminuições, exceto Cape Air, que teve um pequeno aumento.\n",
        "\n",
        "⚡Outliers significativos indicaram eventos extremos nos atrasos."
      ]
    },
    {
      "cell_type": "markdown",
      "metadata": {
        "id": "uJPYCuO3feIh"
      },
      "source": [
        "##1.3\n",
        "Quais as companhias que alteraram mais voos durante a pandemia?"
      ]
    },
    {
      "cell_type": "markdown",
      "metadata": {
        "id": "vf8CV1Szhhl3"
      },
      "source": [
        "### ❗Serao consideradas alteracoes cancelamentos e desvios, correspondentes as colunas 'Cancelled, Diverted'\n",
        "❗\n",
        "Os anos considerados para pandemia foram 2020 a 2022"
      ]
    },
    {
      "cell_type": "code",
      "execution_count": null,
      "metadata": {
        "colab": {
          "background_save": true
        },
        "id": "PQyy-N3Kfd50"
      },
      "outputs": [],
      "source": [
        "# Criar df com os 3 anos\n",
        "df_pandemia = pd.concat([df20, df21, df22])"
      ]
    },
    {
      "cell_type": "code",
      "execution_count": null,
      "metadata": {
        "colab": {
          "background_save": true
        },
        "id": "UVc9RevQiF9E"
      },
      "outputs": [],
      "source": [
        "# Criar df desses so com as colunas Airline, Cancelled, Diverted\n",
        "df_pand_alt = df_pandemia[['Airline', 'Cancelled', 'Diverted']]"
      ]
    },
    {
      "cell_type": "code",
      "execution_count": null,
      "metadata": {
        "colab": {
          "background_save": true
        },
        "id": "6z7r7TFyieB2"
      },
      "outputs": [],
      "source": [
        "df_pand_alt.head()"
      ]
    },
    {
      "cell_type": "code",
      "execution_count": null,
      "metadata": {
        "colab": {
          "background_save": true
        },
        "id": "pNeKsZSumlW-"
      },
      "outputs": [],
      "source": [
        "dtypes = df_pand_alt['Cancelled'].dtypes\n",
        "print(dtypes)"
      ]
    },
    {
      "cell_type": "code",
      "execution_count": null,
      "metadata": {
        "colab": {
          "background_save": true
        },
        "id": "jITcuUqMmpxp"
      },
      "outputs": [],
      "source": [
        "dtypes = df_pand_alt['Diverted'].dtypes\n",
        "print(dtypes)"
      ]
    },
    {
      "cell_type": "code",
      "execution_count": null,
      "metadata": {
        "colab": {
          "background_save": true
        },
        "id": "uS1bCuH3iVSt"
      },
      "outputs": [],
      "source": [
        "# Convertendo os valores booleanos para numéricos (1 para True e 0 para False)\n",
        "df_pand_alt['Cancelled'] = df_pand_alt['Cancelled'].astype(int)\n",
        "df_pand_alt['Diverted'] = df_pand_alt['Diverted'].astype(int)\n",
        "\n",
        "# Agora, você pode filtrar os voos cancelados ou desviados com valores numéricos\n",
        "df_filtrado = df_pand_alt[(df_pand_alt['Cancelled'] == 1) | (df_pand_alt['Diverted'] == 1)]\n",
        "\n",
        "# Exibindo as companhias aéreas que tiveram voos cancelados ou desviados\n",
        "companias_aereas = df_filtrado['Airline'].unique()\n",
        "print(companias_aereas)\n"
      ]
    },
    {
      "cell_type": "markdown",
      "metadata": {
        "id": "7U-ME6hErnfT"
      },
      "source": [
        "### ✅Resposta"
      ]
    },
    {
      "cell_type": "code",
      "execution_count": null,
      "metadata": {
        "colab": {
          "background_save": true
        },
        "id": "ImZtT_FjqHmK"
      },
      "outputs": [],
      "source": [
        "# Contando o número de ocorrências de cada companhia aérea que teve voos cancelados ou desviados\n",
        "companhias_aereas_count = df_filtrado['Airline'].value_counts().reset_index()\n",
        "\n",
        "# Renomeando as colunas para melhor entendimento\n",
        "companhias_aereas_count.columns = ['Airline', 'Count']\n",
        "\n",
        "# Ordenando os resultados de forma decrescente\n",
        "companhias_aereas_count_sorted = companhias_aereas_count.sort_values(by='Count', ascending=False)\n",
        "\n",
        "# 5 maiores companhias aéreas\n",
        "top_5_companhias = companhias_aereas_count_sorted.head(5)\n",
        "\n",
        "print(top_5_companhias)"
      ]
    },
    {
      "cell_type": "markdown",
      "metadata": {
        "id": "hPt21kwu8fH2"
      },
      "source": [
        "✅ RESPOSTA FINAL 1.3\n",
        "\n",
        "⚡As principais companhias que mais alteraram voos durante a pandemia foram Comair Inc., Horizon Air, Southwest Airlines Co., GoJet Airlines, LLC d/b/a United Express, e Mesa Airlines Inc., entre outras."
      ]
    },
    {
      "cell_type": "markdown",
      "metadata": {
        "id": "Pw91ENrLutoc"
      },
      "source": [
        "##1.4\n",
        "Quais as principais rotas aéreas das principais companhias?"
      ]
    },
    {
      "cell_type": "markdown",
      "metadata": {
        "id": "reezlKAWwjKd"
      },
      "source": [
        "Consideramos como principais companhias as 5 abaixo, pois apresentam maior tempo de voo como calculado na questao 1.1\n",
        "\n",
        "Southwest Airlines Co.    \n",
        "American Airlines Inc.   \n",
        "Delta Air Lines Inc.      \n",
        "United Air Lines Inc.      \n",
        "SkyWest Airlines Inc.      "
      ]
    },
    {
      "cell_type": "code",
      "execution_count": null,
      "metadata": {
        "colab": {
          "background_save": true
        },
        "id": "hcsVwYi-v7YN"
      },
      "outputs": [],
      "source": [
        "#usar df_completo\n",
        "df1_4 = df_completo[['Airline', 'Origin', 'Dest']]"
      ]
    },
    {
      "cell_type": "code",
      "execution_count": null,
      "metadata": {
        "colab": {
          "background_save": true
        },
        "collapsed": true,
        "id": "-yb-XA2DxWRY"
      },
      "outputs": [],
      "source": [
        "df1_4.head()"
      ]
    },
    {
      "cell_type": "code",
      "execution_count": null,
      "metadata": {
        "colab": {
          "background_save": true
        },
        "id": "txAGL4kP00oB"
      },
      "outputs": [],
      "source": [
        "dtypes = df1_4['Dest'].dtypes\n",
        "print(dtypes)"
      ]
    },
    {
      "cell_type": "code",
      "execution_count": null,
      "metadata": {
        "colab": {
          "background_save": true
        },
        "id": "_U6ClaXSxpwc"
      },
      "outputs": [],
      "source": [
        "df1_4_top5 = df1_4[df1_4['Airline'].isin(['Southwest Airlines Co.', 'American Airlines Inc.', 'Delta Air Lines Inc.', 'United Air Lines Inc.', 'SkyWest Airlines Inc.'])]\n",
        "df1_4_top5.head()"
      ]
    },
    {
      "cell_type": "markdown",
      "metadata": {
        "id": "5e59U2Mj2_8D"
      },
      "source": [
        "\n",
        "\n",
        "---\n",
        "\n"
      ]
    },
    {
      "cell_type": "markdown",
      "metadata": {
        "id": "8kSQr5SFVj7q"
      },
      "source": [
        "### ✅ Resposta"
      ]
    },
    {
      "cell_type": "code",
      "execution_count": null,
      "metadata": {
        "colab": {
          "background_save": true
        },
        "id": "T6On2jj512w0"
      },
      "outputs": [],
      "source": [
        "#Agrupar por companhia e rota (origem e destino)\n",
        "rotas_por_companhia = df1_4_top5.groupby(['Airline', 'Origin', 'Dest']).size().reset_index(name='Voos')\n",
        "\n",
        "#Selecionar as rotas mais frequentes\n",
        "rotas_por_companhia.sort_values(by='Voos', ascending=False).head(10)\n",
        "rotas_mais_frequentes = rotas_por_companhia.loc[rotas_por_companhia.groupby('Airline')['Voos'].idxmax()]\n",
        "\n",
        "rotas_mais_frequentes_crescente = rotas_mais_frequentes.sort_values(by='Voos', ascending=False)\n",
        "print(rotas_mais_frequentes_crescente)"
      ]
    },
    {
      "cell_type": "code",
      "execution_count": null,
      "metadata": {
        "colab": {
          "background_save": true
        },
        "id": "e93tzNRMWj8A"
      },
      "outputs": [],
      "source": [
        "import matplotlib.pyplot as plt\n",
        "import seaborn as sns\n",
        "import pandas as pd\n",
        "\n",
        "# Criar o DataFrame com os dados fornecidos\n",
        "data = {\n",
        "    'Airline': [\n",
        "        'Southwest Airlines Co.',\n",
        "        'Delta Air Lines Inc.',\n",
        "        'American Airlines Inc.',\n",
        "        'United Air Lines Inc.',\n",
        "        'SkyWest Airlines Inc.'\n",
        "    ],\n",
        "    'Voos': [253, 211, 170, 168, 137]\n",
        "}\n",
        "df = pd.DataFrame(data)\n",
        "\n",
        "# Configuração do gráfico\n",
        "plt.figure(figsize=(10, 6))  # Aumentar o tamanho para melhor visualização\n",
        "sns.barplot(x='Airline', y='Voos', data=df, palette='viridis')\n",
        "\n",
        "# Adicionar rótulos e título\n",
        "plt.title('Número de Voos por Companhia Aérea', fontsize=16)\n",
        "plt.xlabel('Companhia Aérea', fontsize=12)\n",
        "plt.ylabel('Número de Voos', fontsize=12)\n",
        "\n",
        "# Rotação dos rótulos do eixo X\n",
        "plt.xticks(rotation=45, ha='right', fontsize=10)  # Rotação e alinhamento à direita\n",
        "\n",
        "# Mostrar os valores no topo das barras\n",
        "for index, value in enumerate(df['Voos']):\n",
        "    plt.text(index, value + 5, str(value), ha='center', fontsize=10)\n",
        "\n",
        "# Mostrar o gráfico\n",
        "plt.tight_layout()\n",
        "plt.show()\n"
      ]
    },
    {
      "cell_type": "markdown",
      "metadata": {
        "id": "GaxmcT3Z8lnn"
      },
      "source": [
        "✅ RESPOSTA FINAL 1.4\n",
        "\n",
        "Como não tínhamos uma definição clara de como determinar a \"rota principal\", inicialmente consideramos o volume de voos realizados por cada companhia.\n",
        "\n",
        "⚡Southwest Airlines Co.: Líder em volume de voos, com principais rotas em hubs como Los Angeles (LAX), Denver (DEN) e Chicago (MDW).\n",
        "\n",
        "⚡American Airlines Inc.: Destaca-se por rotas de longa distância, como Dallas/Fort Worth (DFW) para Miami (MIA) e transcontinentais.\n",
        "\n",
        "⚡Delta Air Lines Inc.: Foca em conexões entre seus hubs principais, como Atlanta (ATL) e Nova York (JFK).\n",
        "\n",
        "⚡United Air Lines Inc.: Notável por rotas internacionais e domésticas importantes, como Chicago (ORD) para San Francisco (SFO).\n",
        "\n",
        "⚡SkyWest Airlines Inc.: Opera rotas regionais de curto a médio alcance, conectando cidades menores a grandes hubs como Salt Lake City (SLC) e Los Angeles (LAX)."
      ]
    },
    {
      "cell_type": "markdown",
      "metadata": {
        "id": "POYI-2a83GTf"
      },
      "source": [
        "##1.5\n",
        "Qual é a companhia que tem maior % de cancelamento de voos e atraso?"
      ]
    },
    {
      "cell_type": "markdown",
      "metadata": {
        "id": "4LZDWy283Mmh"
      },
      "source": [
        "Usar as colunas: Cancelled, DepDelay, ArrDelay"
      ]
    },
    {
      "cell_type": "code",
      "execution_count": null,
      "metadata": {
        "colab": {
          "background_save": true
        },
        "id": "VvB_3oQB4aPH"
      },
      "outputs": [],
      "source": [
        "#df_completo"
      ]
    },
    {
      "cell_type": "code",
      "execution_count": null,
      "metadata": {
        "colab": {
          "background_save": true
        },
        "id": "vhkjH-0K3ArX"
      },
      "outputs": [],
      "source": [
        "dtypes = df_completo['Cancelled'].dtypes\n",
        "print(dtypes)"
      ]
    },
    {
      "cell_type": "code",
      "execution_count": null,
      "metadata": {
        "colab": {
          "background_save": true
        },
        "id": "xBQhmiKc4Puj"
      },
      "outputs": [],
      "source": [
        "dtypes = df_completo['ArrDelay'].dtypes\n",
        "print(dtypes)"
      ]
    },
    {
      "cell_type": "code",
      "execution_count": null,
      "metadata": {
        "colab": {
          "background_save": true
        },
        "id": "Je-tbjmk6Gj9"
      },
      "outputs": [],
      "source": [
        "df1_5 = df_completo[['Airline', 'Cancelled', 'DepDelay', 'ArrDelay']]\n",
        "df1_5.head()"
      ]
    },
    {
      "cell_type": "code",
      "execution_count": null,
      "metadata": {
        "colab": {
          "background_save": true
        },
        "id": "x3dQive962_V"
      },
      "outputs": [],
      "source": [
        "# Excluir valores negativos pois eles representam adiantamentos"
      ]
    },
    {
      "cell_type": "code",
      "execution_count": null,
      "metadata": {
        "colab": {
          "background_save": true
        },
        "id": "VMaW6MVNZyEM"
      },
      "outputs": [],
      "source": [
        "df1_5_positivos = df1_5[(df1_5['DepDelay']>= 0) | (df1_5['ArrDelay'] >= 0)]\n",
        "df1_5_positivos.head()"
      ]
    },
    {
      "cell_type": "code",
      "execution_count": null,
      "metadata": {
        "colab": {
          "background_save": true
        },
        "id": "9oYSd_RK5FDj"
      },
      "outputs": [],
      "source": [
        "# Selecionar cancelados true"
      ]
    },
    {
      "cell_type": "code",
      "execution_count": null,
      "metadata": {
        "colab": {
          "background_save": true
        },
        "id": "Rtm0hONe5JWo"
      },
      "outputs": [],
      "source": [
        "df1_5_cancel_true = df1_5[df1_5['Cancelled'] == True]\n",
        "df1_5_cancel_true.head()"
      ]
    },
    {
      "cell_type": "code",
      "execution_count": null,
      "metadata": {
        "colab": {
          "background_save": true
        },
        "id": "st5Yb8Pw7xnC"
      },
      "outputs": [],
      "source": [
        "# ATRASOS\n",
        "\n",
        "# Contando o número de ocorrências de cada companhia aérea que teve voos atrasados\n",
        "companhias_aereas_count = df1_5_positivos['Airline'].value_counts().reset_index()\n",
        "\n",
        "# Renomeando as colunas para melhor entendimento\n",
        "companhias_aereas_count.columns = ['Airline', 'Count']\n",
        "\n",
        "# Ordenando os resultados de forma decrescente\n",
        "companhias_aereas_count_sorted = companhias_aereas_count.sort_values(by='Count', ascending=False)\n",
        "\n",
        "# 5 maiores companhias aéreas\n",
        "top_5_companhias = companhias_aereas_count_sorted.head(5)\n",
        "\n",
        "print(top_5_companhias)"
      ]
    },
    {
      "cell_type": "code",
      "execution_count": null,
      "metadata": {
        "colab": {
          "background_save": true
        },
        "id": "ypbjQ67Pa_-5"
      },
      "outputs": [],
      "source": [
        "import matplotlib.pyplot as plt\n",
        "import seaborn as sns\n",
        "\n",
        "# Criar o gráfico para as 5 maiores companhias com atrasos\n",
        "plt.figure(figsize=(8, 5))\n",
        "sns.barplot(x='Airline', y='Count', data=top_5_companhias, palette='coolwarm')\n",
        "\n",
        "# Adicionar rótulos e título\n",
        "plt.title('Top 5 Companhias Aéreas com Maior Número de Atrasos', fontsize=16)\n",
        "plt.xlabel('Companhia Aérea', fontsize=12)\n",
        "plt.ylabel('Número de Atrasos', fontsize=12)\n",
        "\n",
        "# Rotacionar os rótulos do eixo X para melhorar a leitura\n",
        "plt.xticks(rotation=45, ha='right', fontsize=10)\n",
        "\n",
        "# Mostrar os valores no topo das barras\n",
        "for index, value in enumerate(top_5_companhias['Count']):\n",
        "    plt.text(index, value + 5, str(value), ha='center', fontsize=10)\n",
        "\n",
        "# Ajustar layout e exibir o gráfico\n",
        "plt.tight_layout()\n",
        "plt.show()\n"
      ]
    },
    {
      "cell_type": "code",
      "execution_count": null,
      "metadata": {
        "colab": {
          "background_save": true
        },
        "id": "FpC8uo_5-iiL"
      },
      "outputs": [],
      "source": [
        "# teste"
      ]
    },
    {
      "cell_type": "code",
      "execution_count": null,
      "metadata": {
        "colab": {
          "background_save": true
        },
        "id": "MtkRsMOP-kYm"
      },
      "outputs": [],
      "source": [
        "import plotly.express as px\n",
        "import pandas as pd\n",
        "\n",
        "# Criando um exemplo de DataFrame similar ao seu (substitua por seu DataFrame real)\n",
        "data = {\n",
        "    'Airline': [\n",
        "        'Southwest Airlines Co.',\n",
        "        'Delta Air Lines Inc.',\n",
        "        'American Airlines Inc.',\n",
        "        'United Air Lines Inc.',\n",
        "        'SkyWest Airlines Inc.'\n",
        "    ],\n",
        "    'Count': [50, 40, 35, 30, 25]  # Exemplo de número de atrasos\n",
        "}\n",
        "top_5_companhias = pd.DataFrame(data)\n",
        "\n",
        "# Criando o gráfico interativo com fundo preto\n",
        "fig = px.bar(top_5_companhias,\n",
        "             x='Airline',\n",
        "             y='Count',\n",
        "             title='Top 5 Companhias Aéreas com Maior Número de Atrasos',\n",
        "             labels={'Airline': 'Companhia Aérea', 'Count': 'Número de Atrasos'},\n",
        "             color='Count',\n",
        "             color_continuous_scale='Blues')\n",
        "\n",
        "# Atualizando o gráfico para exibir o número de atrasos ao passar o mouse\n",
        "fig.update_traces(text=top_5_companhias['Count'], textposition='outside', hoverinfo='x+text')\n",
        "\n",
        "# Personalizando o layout para fundo preto e fonte branca\n",
        "fig.update_layout(\n",
        "    xaxis_tickangle=-45,  # Rotaciona os rótulos para melhor leitura\n",
        "    template='plotly_dark',  # Fundo preto\n",
        "    plot_bgcolor='black',  # Fundo do gráfico preto\n",
        "    paper_bgcolor='black',  # Fundo geral preto\n",
        "    font=dict(color='white'),  # Cor da fonte branca\n",
        "    title_text='Top 5 Companhias Aéreas com Maior Número de Atrasos',\n",
        "    title_font=dict(size=16),\n",
        ")\n",
        "\n",
        "# Exibindo o gráfico\n",
        "fig.show()\n"
      ]
    },
    {
      "cell_type": "code",
      "execution_count": null,
      "metadata": {
        "colab": {
          "background_save": true
        },
        "id": "1ZQ-1DFb8HM1"
      },
      "outputs": [],
      "source": [
        "#CANCELAMENTOS\n",
        "# Contando o número de ocorrências de cada companhia aérea que teve voos cancelados\n",
        "companhias_aereas_count = df1_5_cancel_true['Airline'].value_counts().reset_index()\n",
        "\n",
        "# Renomeando as colunas para melhor entendimento\n",
        "companhias_aereas_count.columns = ['Airline', 'Count']\n",
        "\n",
        "# Ordenando os resultados de forma decrescente\n",
        "companhias_aereas_count_sorted = companhias_aereas_count.sort_values(by='Count', ascending=False)\n",
        "\n",
        "# 5 maiores companhias aéreas\n",
        "top_5_companhias = companhias_aereas_count_sorted.head(5)\n",
        "\n",
        "print(top_5_companhias)"
      ]
    },
    {
      "cell_type": "code",
      "execution_count": null,
      "metadata": {
        "colab": {
          "background_save": true
        },
        "id": "awrZpPzJbVL9"
      },
      "outputs": [],
      "source": [
        "import matplotlib.pyplot as plt\n",
        "import seaborn as sns\n",
        "\n",
        "# Criar o gráfico para as 5 principais companhias com cancelamentos\n",
        "plt.figure(figsize=(10, 6))\n",
        "sns.barplot(x='Airline', y='Count', data=top_5_companhias, palette='flare')\n",
        "\n",
        "# Adicionar rótulos e título\n",
        "plt.title('Top 5 Companhias Aéreas com Maior Número de Cancelamentos', fontsize=16)\n",
        "plt.xlabel('Companhia Aérea', fontsize=12)\n",
        "plt.ylabel('Número de Cancelamentos', fontsize=12)\n",
        "\n",
        "# Rotacionar os rótulos do eixo X para melhorar a leitura\n",
        "plt.xticks(rotation=45, ha='right', fontsize=10)\n",
        "\n",
        "# Mostrar os valores no topo das barras\n",
        "for index, value in enumerate(top_5_companhias['Count']):\n",
        "    plt.text(index, value + 5, str(value), ha='center', fontsize=10)\n",
        "\n",
        "# Ajustar layout e exibir o gráfico\n",
        "plt.tight_layout()\n",
        "plt.show()\n"
      ]
    },
    {
      "cell_type": "code",
      "execution_count": null,
      "metadata": {
        "colab": {
          "background_save": true
        },
        "id": "YAe103-D-7vN"
      },
      "outputs": [],
      "source": [
        "import plotly.express as px\n",
        "import pandas as pd\n",
        "\n",
        "# Criando um exemplo de DataFrame similar ao seu (substitua por seu DataFrame real)\n",
        "data = {\n",
        "    'Airline': [\n",
        "        'Southwest Airlines Co.',\n",
        "        'Delta Air Lines Inc.',\n",
        "        'American Airlines Inc.',\n",
        "        'United Air Lines Inc.',\n",
        "        'SkyWest Airlines Inc.'\n",
        "    ],\n",
        "    'Count': [20, 15, 18, 12, 10]  # Exemplo de número de cancelamentos\n",
        "}\n",
        "top_5_companhias = pd.DataFrame(data)\n",
        "\n",
        "# Criando o gráfico interativo com fundo preto\n",
        "fig = px.bar(top_5_companhias,\n",
        "             x='Airline',\n",
        "             y='Count',\n",
        "             title='Top 5 Companhias Aéreas com Maior Número de Cancelamentos',\n",
        "             labels={'Airline': 'Companhia Aérea', 'Count': 'Número de Cancelamentos'},\n",
        "             color='Count',\n",
        "             color_continuous_scale='Viridis')  # Usando 'Viridis' como escala de cores válida\n",
        "\n",
        "# Atualizando o gráfico para exibir o número de cancelamentos ao passar o mouse\n",
        "fig.update_traces(text=top_5_companhias['Count'], textposition='outside', hoverinfo='x+text')\n",
        "\n",
        "# Personalizando o layout para fundo preto e fonte branca\n",
        "fig.update_layout(\n",
        "    xaxis_tickangle=-45,  # Rotaciona os rótulos para melhor leitura\n",
        "    template='plotly_dark',  # Fundo preto\n",
        "    plot_bgcolor='black',  # Fundo do gráfico preto\n",
        "    paper_bgcolor='black',  # Fundo geral preto\n",
        "    font=dict(color='white'),  # Cor da fonte branca\n",
        "    title_text='Top 5 Companhias Aéreas com Maior Número de Cancelamentos',\n",
        "    title_font=dict(size=16),\n",
        ")\n",
        "\n",
        "# Exibindo o gráfico\n",
        "fig.show()"
      ]
    },
    {
      "cell_type": "code",
      "execution_count": null,
      "metadata": {
        "colab": {
          "background_save": true
        },
        "collapsed": true,
        "id": "L1fIKurS9t6M"
      },
      "outputs": [],
      "source": [
        "#DATAFRAME DA COMPANHIA COM MAIS ATRASOS E CANCELAMENTOS\n",
        "# Southwest Airlines Co.\n",
        "\n",
        "df1_5_SWA = df1_5[df1_5['Airline'] == 'Southwest Airlines Co.']\n",
        "df1_5_SWA.head()"
      ]
    },
    {
      "cell_type": "code",
      "execution_count": null,
      "metadata": {
        "colab": {
          "background_save": true
        },
        "id": "mp3nJ43O-SPB"
      },
      "outputs": [],
      "source": [
        "num_linhas = len(df1_5_SWA)\n",
        "print(\"Número de linhas:\", num_linhas)"
      ]
    },
    {
      "cell_type": "code",
      "execution_count": null,
      "metadata": {
        "colab": {
          "background_save": true
        },
        "id": "6FGscz6B_9NE"
      },
      "outputs": [],
      "source": [
        "#Total\n",
        "total = 54761"
      ]
    },
    {
      "cell_type": "code",
      "execution_count": null,
      "metadata": {
        "colab": {
          "background_save": true
        },
        "id": "YKu40HKB-9T8"
      },
      "outputs": [],
      "source": [
        "#Cancelados\n",
        "cancelados = 1733"
      ]
    },
    {
      "cell_type": "code",
      "execution_count": null,
      "metadata": {
        "colab": {
          "background_save": true
        },
        "id": "of6hJ8sS_PSB"
      },
      "outputs": [],
      "source": [
        "#Atrasados\n",
        "atrasados = 35836"
      ]
    },
    {
      "cell_type": "markdown",
      "metadata": {
        "id": "LKtyXq5k8fwr"
      },
      "source": [
        "### ✅ Resposta"
      ]
    },
    {
      "cell_type": "code",
      "execution_count": null,
      "metadata": {
        "colab": {
          "background_save": true
        },
        "id": "rywdHoYk-aEn"
      },
      "outputs": [],
      "source": [
        "# ((ATRASADOS + CANCELADOS)/ TOTAL)*100\n",
        "taxa_de_cancelamentos = cancelados/total\n",
        "taxa_de_atrasos = atrasados/total\n",
        "taxa_total = (atrasados+cancelados)/total\n",
        "\n",
        "print(f\"A taxa de cancelamento é de: {taxa_de_cancelamentos*100:.2f}%\")\n",
        "print(f\"A taxa de atrasos é de: {taxa_de_atrasos*100:.2f}%\")\n",
        "print(f\"A taxa total é de: {taxa_total*100:.2f}%. Esse taxa representa a taxa total de atrasos E cancelamentos da companhia Southwest Airlines Co. onde estes acontecem em maior numero.\")"
      ]
    },
    {
      "cell_type": "code",
      "execution_count": null,
      "metadata": {
        "colab": {
          "background_save": true
        },
        "id": "ACtvqhdPb_zp"
      },
      "outputs": [],
      "source": [
        "import matplotlib.pyplot as plt\n",
        "\n",
        "# Dados das taxas\n",
        "labels = ['Cancelamentos', 'Atrasos', 'Total']\n",
        "values = [taxa_de_cancelamentos * 100, taxa_de_atrasos * 100, taxa_total * 100]\n",
        "\n",
        "# Configuração do gráfico\n",
        "plt.figure(figsize=(8, 5))\n",
        "plt.barh(labels, values, color=['#FF6F61', '#FFA07A', '#87CEFA'])\n",
        "\n",
        "# Adicionar valores nas barras\n",
        "for index, value in enumerate(values):\n",
        "    plt.text(value + 1, index, f'{value:.2f}%', va='center', fontsize=10)\n",
        "\n",
        "# Adicionar rótulos e título\n",
        "plt.title('Taxas de Cancelamentos, Atrasos e Total (%)', fontsize=16)\n",
        "plt.xlabel('Taxa (%)', fontsize=12)\n",
        "plt.ylabel('Categorias', fontsize=12)\n",
        "\n",
        "# Ajustar layout e exibir o gráfico\n",
        "plt.tight_layout()\n",
        "plt.show()\n"
      ]
    },
    {
      "cell_type": "code",
      "execution_count": null,
      "metadata": {
        "colab": {
          "background_save": true
        },
        "id": "UwVv5CBl_ibY"
      },
      "outputs": [],
      "source": [
        "#teste"
      ]
    },
    {
      "cell_type": "code",
      "execution_count": null,
      "metadata": {
        "colab": {
          "background_save": true
        },
        "id": "pZHZDSnw_kYb"
      },
      "outputs": [],
      "source": [
        "import plotly.graph_objects as go\n",
        "\n",
        "# Dados das taxas\n",
        "labels = ['Cancelamentos', 'Atrasos', 'Total']\n",
        "values = [taxa_de_cancelamentos * 100, taxa_de_atrasos * 100, taxa_total * 100]\n",
        "\n",
        "# Criando o gráfico de barras horizontais com Plotly\n",
        "fig = go.Figure(go.Bar(\n",
        "    x=values,\n",
        "    y=labels,\n",
        "    orientation='h',\n",
        "    marker=dict(color=['#FF6F61', '#FFA07A', '#87CEFA']),\n",
        "    text=[f'{value:.2f}%' for value in values],\n",
        "    textposition='inside',\n",
        "))\n",
        "\n",
        "# Adicionando título e rótulos\n",
        "fig.update_layout(\n",
        "    title='Taxas de Cancelamentos, Atrasos e Total (%)',\n",
        "    xaxis_title='Taxa (%)',\n",
        "    yaxis_title='Categorias',\n",
        "    font=dict(size=12),\n",
        "    template='plotly_dark',  # Usando fundo escuro\n",
        "    showlegend=False\n",
        ")\n",
        "\n",
        "# Exibir o gráfico interativo\n",
        "fig.show()\n"
      ]
    },
    {
      "cell_type": "markdown",
      "metadata": {
        "id": "GPrsXWyN8qzG"
      },
      "source": [
        "✅ RESPOSTA FINAL 1.5\n",
        "\n",
        "A companhia que tem maior % de cancelamento de voos e atraso:\n",
        "\n",
        "⚡Entre as 5 maiores em número total de voos, lidera em percentual de cancelamentos e atrasos, apesar de um volume de operações menor comparado a Southwest Airlines Co. e American Airlines Inc.\n",
        "\n",
        "Outras análises importantes:\n",
        "\n",
        "⚡Alta frequência de cancelamentos, frequentemente marcados como True. Atrasos no embarque (DepDelay):\n",
        "\n",
        "⚡Atrasos médios elevados, chegando a 314 minutos. Atrasos na chegada (ArrDelay):\n",
        "\n",
        "⚡Atrasos significativos, alcançando até 296 minutos. Comparação geral com outras companhias:"
      ]
    },
    {
      "cell_type": "markdown",
      "metadata": {
        "id": "c4vy6LmqSj0S"
      },
      "source": [
        "\n",
        "\n",
        "---\n",
        "\n"
      ]
    },
    {
      "cell_type": "markdown",
      "metadata": {
        "id": "GvcauZiCSp99"
      },
      "source": [
        "#2) Análise da eficiência das rotas\n",
        "Análise da eficiência das rotas.\n",
        "\n",
        " 1- Quais as principais rotas de voos?\n",
        "\n",
        "2- Quais as rotas em que temos maior tempo de atraso?\n",
        "\n",
        "3- Quais as rotas em que temos maior índice de cancelamento de voos?\n",
        "\n",
        "4- Quais são as rotas mais eficientes e as menos eficientes?\n"
      ]
    },
    {
      "cell_type": "markdown",
      "metadata": {
        "id": "wmzVZa_6HU7T"
      },
      "source": [
        "##2.1\n",
        "Quais as principais rotas de voos?"
      ]
    },
    {
      "cell_type": "code",
      "execution_count": null,
      "metadata": {
        "colab": {
          "base_uri": "https://localhost:8080/",
          "height": 399
        },
        "id": "EcUYMaLrk2ju",
        "outputId": "ad943014-a16f-47bd-81d9-caa631db48e8"
      },
      "outputs": [
        {
          "output_type": "execute_result",
          "data": {
            "text/plain": [
              "   Unnamed: 0  FlightDate            Airline Origin Dest  Cancelled  Diverted  \\\n",
              "0           0  2018-01-05  Endeavor Air Inc.    ATL  ABY      False     False   \n",
              "1           1  2018-01-14  Endeavor Air Inc.    ATL  ABY      False     False   \n",
              "2           2  2018-01-04  Endeavor Air Inc.    EWN  ATL       True     False   \n",
              "3           3  2018-01-09  Endeavor Air Inc.    FAY  ATL      False     False   \n",
              "4           4  2018-01-15  Endeavor Air Inc.    CSG  ATL      False     False   \n",
              "\n",
              "   CRSDepTime  DepTime  DepDelayMinutes  DepDelay  ArrTime  ArrDelayMinutes  \\\n",
              "0        1037   1032.0              0.0      -5.0   1124.0              0.0   \n",
              "1        1037   1031.0              0.0      -6.0   1120.0              0.0   \n",
              "2        1415   1324.0              0.0      -3.0   1507.0              0.0   \n",
              "3        1853   1850.0              0.0      -3.0   2021.0              0.0   \n",
              "4         615    625.0             10.0      10.0    704.0              0.0   \n",
              "\n",
              "   AirTime  CRSElapsedTime  ActualElapsedTime  Distance  Year  Quarter  Month  \\\n",
              "0     29.0            60.0               52.0     145.0  2018        1      1   \n",
              "1     30.0            60.0               49.0     145.0  2018        1      1   \n",
              "2     91.0           110.0              116.0     433.0  2018        1      1   \n",
              "3     64.0            97.0               91.0     331.0  2018        1      1   \n",
              "4     22.0            56.0               39.0      83.0  2018        1      1   \n",
              "\n",
              "   DayofMonth  DayOfWeek Marketing_Airline_Network  \\\n",
              "0           5          5                        DL   \n",
              "1          14          7                        DL   \n",
              "2           4          4                        DL   \n",
              "3           9          2                        DL   \n",
              "4          15          1                        DL   \n",
              "\n",
              "  Operated_or_Branded_Code_Share_Partners  DOT_ID_Marketing_Airline  \\\n",
              "0                            DL_CODESHARE                     19790   \n",
              "1                            DL_CODESHARE                     19790   \n",
              "2                            DL_CODESHARE                     19790   \n",
              "3                            DL_CODESHARE                     19790   \n",
              "4                            DL_CODESHARE                     19790   \n",
              "\n",
              "  IATA_Code_Marketing_Airline  Flight_Number_Marketing_Airline  \\\n",
              "0                          DL                             3298   \n",
              "1                          DL                             3298   \n",
              "2                          DL                             3301   \n",
              "3                          DL                             3302   \n",
              "4                          DL                             3306   \n",
              "\n",
              "  Operating_Airline  DOT_ID_Operating_Airline IATA_Code_Operating_Airline  \\\n",
              "0                9E                     20363                          9E   \n",
              "1                9E                     20363                          9E   \n",
              "2                9E                     20363                          9E   \n",
              "3                9E                     20363                          9E   \n",
              "4                9E                     20363                          9E   \n",
              "\n",
              "  Tail_Number  Flight_Number_Operating_Airline  OriginAirportID  \\\n",
              "0      N8877A                             3298            10397   \n",
              "1      N836AY                             3298            10397   \n",
              "2      N836AY                             3301            11617   \n",
              "3      N8869B                             3302            11641   \n",
              "4      N832AY                             3306            11150   \n",
              "\n",
              "   OriginAirportSeqID  OriginCityMarketID                  OriginCityName  \\\n",
              "0             1039707               30397                     Atlanta, GA   \n",
              "1             1039707               30397                     Atlanta, GA   \n",
              "2             1161708               31617  New Bern/Morehead/Beaufort, NC   \n",
              "3             1164102               31641                Fayetteville, NC   \n",
              "4             1115005               31150                    Columbus, GA   \n",
              "\n",
              "  OriginState  OriginStateFips OriginStateName  OriginWac  DestAirportID  \\\n",
              "0          GA               13         Georgia         34          10146   \n",
              "1          GA               13         Georgia         34          10146   \n",
              "2          NC               37  North Carolina         36          10397   \n",
              "3          NC               37  North Carolina         36          10397   \n",
              "4          GA               13         Georgia         34          10397   \n",
              "\n",
              "   DestAirportSeqID  DestCityMarketID DestCityName DestState  DestStateFips  \\\n",
              "0           1014602             30146   Albany, GA        GA             13   \n",
              "1           1014602             30146   Albany, GA        GA             13   \n",
              "2           1039707             30397  Atlanta, GA        GA             13   \n",
              "3           1039707             30397  Atlanta, GA        GA             13   \n",
              "4           1039707             30397  Atlanta, GA        GA             13   \n",
              "\n",
              "  DestStateName  DestWac  DepDel15  DepartureDelayGroups DepTimeBlk  TaxiOut  \\\n",
              "0       Georgia       34       0.0                  -1.0  1000-1059     20.0   \n",
              "1       Georgia       34       0.0                  -1.0  1000-1059     16.0   \n",
              "2       Georgia       34       0.0                  -1.0  1400-1459     14.0   \n",
              "3       Georgia       34       0.0                  -1.0  1800-1859     10.0   \n",
              "4       Georgia       34       0.0                   0.0  0600-0659      9.0   \n",
              "\n",
              "   WheelsOff  WheelsOn  TaxiIn  CRSArrTime  ArrDelay  ArrDel15  \\\n",
              "0     1052.0    1121.0     3.0        1137     -13.0       0.0   \n",
              "1     1047.0    1117.0     3.0        1137     -17.0       0.0   \n",
              "2     1338.0    1503.0     6.0        1605      -7.0       0.0   \n",
              "3     1900.0    2004.0    17.0        2030      -9.0       0.0   \n",
              "4      634.0     656.0     8.0         711      -7.0       0.0   \n",
              "\n",
              "   ArrivalDelayGroups ArrTimeBlk  DistanceGroup  DivAirportLandings  \\\n",
              "0                -1.0  1100-1159              1                 0.0   \n",
              "1                -2.0  1100-1159              1                 0.0   \n",
              "2                -1.0  1600-1659              2                 0.0   \n",
              "3                -1.0  2000-2059              2                 0.0   \n",
              "4                -1.0  0700-0759              1                 0.0   \n",
              "\n",
              "        Route  \n",
              "0  ATL -> ABY  \n",
              "1  ATL -> ABY  \n",
              "2  EWN -> ATL  \n",
              "3  FAY -> ATL  \n",
              "4  CSG -> ATL  "
            ],
            "text/html": [
              "\n",
              "  <div id=\"df-04303b90-9adc-43bd-8458-88e396308e82\" class=\"colab-df-container\">\n",
              "    <div>\n",
              "<style scoped>\n",
              "    .dataframe tbody tr th:only-of-type {\n",
              "        vertical-align: middle;\n",
              "    }\n",
              "\n",
              "    .dataframe tbody tr th {\n",
              "        vertical-align: top;\n",
              "    }\n",
              "\n",
              "    .dataframe thead th {\n",
              "        text-align: right;\n",
              "    }\n",
              "</style>\n",
              "<table border=\"1\" class=\"dataframe\">\n",
              "  <thead>\n",
              "    <tr style=\"text-align: right;\">\n",
              "      <th></th>\n",
              "      <th>Unnamed: 0</th>\n",
              "      <th>FlightDate</th>\n",
              "      <th>Airline</th>\n",
              "      <th>Origin</th>\n",
              "      <th>Dest</th>\n",
              "      <th>Cancelled</th>\n",
              "      <th>Diverted</th>\n",
              "      <th>CRSDepTime</th>\n",
              "      <th>DepTime</th>\n",
              "      <th>DepDelayMinutes</th>\n",
              "      <th>DepDelay</th>\n",
              "      <th>ArrTime</th>\n",
              "      <th>ArrDelayMinutes</th>\n",
              "      <th>AirTime</th>\n",
              "      <th>CRSElapsedTime</th>\n",
              "      <th>ActualElapsedTime</th>\n",
              "      <th>Distance</th>\n",
              "      <th>Year</th>\n",
              "      <th>Quarter</th>\n",
              "      <th>Month</th>\n",
              "      <th>DayofMonth</th>\n",
              "      <th>DayOfWeek</th>\n",
              "      <th>Marketing_Airline_Network</th>\n",
              "      <th>Operated_or_Branded_Code_Share_Partners</th>\n",
              "      <th>DOT_ID_Marketing_Airline</th>\n",
              "      <th>IATA_Code_Marketing_Airline</th>\n",
              "      <th>Flight_Number_Marketing_Airline</th>\n",
              "      <th>Operating_Airline</th>\n",
              "      <th>DOT_ID_Operating_Airline</th>\n",
              "      <th>IATA_Code_Operating_Airline</th>\n",
              "      <th>Tail_Number</th>\n",
              "      <th>Flight_Number_Operating_Airline</th>\n",
              "      <th>OriginAirportID</th>\n",
              "      <th>OriginAirportSeqID</th>\n",
              "      <th>OriginCityMarketID</th>\n",
              "      <th>OriginCityName</th>\n",
              "      <th>OriginState</th>\n",
              "      <th>OriginStateFips</th>\n",
              "      <th>OriginStateName</th>\n",
              "      <th>OriginWac</th>\n",
              "      <th>DestAirportID</th>\n",
              "      <th>DestAirportSeqID</th>\n",
              "      <th>DestCityMarketID</th>\n",
              "      <th>DestCityName</th>\n",
              "      <th>DestState</th>\n",
              "      <th>DestStateFips</th>\n",
              "      <th>DestStateName</th>\n",
              "      <th>DestWac</th>\n",
              "      <th>DepDel15</th>\n",
              "      <th>DepartureDelayGroups</th>\n",
              "      <th>DepTimeBlk</th>\n",
              "      <th>TaxiOut</th>\n",
              "      <th>WheelsOff</th>\n",
              "      <th>WheelsOn</th>\n",
              "      <th>TaxiIn</th>\n",
              "      <th>CRSArrTime</th>\n",
              "      <th>ArrDelay</th>\n",
              "      <th>ArrDel15</th>\n",
              "      <th>ArrivalDelayGroups</th>\n",
              "      <th>ArrTimeBlk</th>\n",
              "      <th>DistanceGroup</th>\n",
              "      <th>DivAirportLandings</th>\n",
              "      <th>Route</th>\n",
              "    </tr>\n",
              "  </thead>\n",
              "  <tbody>\n",
              "    <tr>\n",
              "      <th>0</th>\n",
              "      <td>0</td>\n",
              "      <td>2018-01-05</td>\n",
              "      <td>Endeavor Air Inc.</td>\n",
              "      <td>ATL</td>\n",
              "      <td>ABY</td>\n",
              "      <td>False</td>\n",
              "      <td>False</td>\n",
              "      <td>1037</td>\n",
              "      <td>1032.0</td>\n",
              "      <td>0.0</td>\n",
              "      <td>-5.0</td>\n",
              "      <td>1124.0</td>\n",
              "      <td>0.0</td>\n",
              "      <td>29.0</td>\n",
              "      <td>60.0</td>\n",
              "      <td>52.0</td>\n",
              "      <td>145.0</td>\n",
              "      <td>2018</td>\n",
              "      <td>1</td>\n",
              "      <td>1</td>\n",
              "      <td>5</td>\n",
              "      <td>5</td>\n",
              "      <td>DL</td>\n",
              "      <td>DL_CODESHARE</td>\n",
              "      <td>19790</td>\n",
              "      <td>DL</td>\n",
              "      <td>3298</td>\n",
              "      <td>9E</td>\n",
              "      <td>20363</td>\n",
              "      <td>9E</td>\n",
              "      <td>N8877A</td>\n",
              "      <td>3298</td>\n",
              "      <td>10397</td>\n",
              "      <td>1039707</td>\n",
              "      <td>30397</td>\n",
              "      <td>Atlanta, GA</td>\n",
              "      <td>GA</td>\n",
              "      <td>13</td>\n",
              "      <td>Georgia</td>\n",
              "      <td>34</td>\n",
              "      <td>10146</td>\n",
              "      <td>1014602</td>\n",
              "      <td>30146</td>\n",
              "      <td>Albany, GA</td>\n",
              "      <td>GA</td>\n",
              "      <td>13</td>\n",
              "      <td>Georgia</td>\n",
              "      <td>34</td>\n",
              "      <td>0.0</td>\n",
              "      <td>-1.0</td>\n",
              "      <td>1000-1059</td>\n",
              "      <td>20.0</td>\n",
              "      <td>1052.0</td>\n",
              "      <td>1121.0</td>\n",
              "      <td>3.0</td>\n",
              "      <td>1137</td>\n",
              "      <td>-13.0</td>\n",
              "      <td>0.0</td>\n",
              "      <td>-1.0</td>\n",
              "      <td>1100-1159</td>\n",
              "      <td>1</td>\n",
              "      <td>0.0</td>\n",
              "      <td>ATL -&gt; ABY</td>\n",
              "    </tr>\n",
              "    <tr>\n",
              "      <th>1</th>\n",
              "      <td>1</td>\n",
              "      <td>2018-01-14</td>\n",
              "      <td>Endeavor Air Inc.</td>\n",
              "      <td>ATL</td>\n",
              "      <td>ABY</td>\n",
              "      <td>False</td>\n",
              "      <td>False</td>\n",
              "      <td>1037</td>\n",
              "      <td>1031.0</td>\n",
              "      <td>0.0</td>\n",
              "      <td>-6.0</td>\n",
              "      <td>1120.0</td>\n",
              "      <td>0.0</td>\n",
              "      <td>30.0</td>\n",
              "      <td>60.0</td>\n",
              "      <td>49.0</td>\n",
              "      <td>145.0</td>\n",
              "      <td>2018</td>\n",
              "      <td>1</td>\n",
              "      <td>1</td>\n",
              "      <td>14</td>\n",
              "      <td>7</td>\n",
              "      <td>DL</td>\n",
              "      <td>DL_CODESHARE</td>\n",
              "      <td>19790</td>\n",
              "      <td>DL</td>\n",
              "      <td>3298</td>\n",
              "      <td>9E</td>\n",
              "      <td>20363</td>\n",
              "      <td>9E</td>\n",
              "      <td>N836AY</td>\n",
              "      <td>3298</td>\n",
              "      <td>10397</td>\n",
              "      <td>1039707</td>\n",
              "      <td>30397</td>\n",
              "      <td>Atlanta, GA</td>\n",
              "      <td>GA</td>\n",
              "      <td>13</td>\n",
              "      <td>Georgia</td>\n",
              "      <td>34</td>\n",
              "      <td>10146</td>\n",
              "      <td>1014602</td>\n",
              "      <td>30146</td>\n",
              "      <td>Albany, GA</td>\n",
              "      <td>GA</td>\n",
              "      <td>13</td>\n",
              "      <td>Georgia</td>\n",
              "      <td>34</td>\n",
              "      <td>0.0</td>\n",
              "      <td>-1.0</td>\n",
              "      <td>1000-1059</td>\n",
              "      <td>16.0</td>\n",
              "      <td>1047.0</td>\n",
              "      <td>1117.0</td>\n",
              "      <td>3.0</td>\n",
              "      <td>1137</td>\n",
              "      <td>-17.0</td>\n",
              "      <td>0.0</td>\n",
              "      <td>-2.0</td>\n",
              "      <td>1100-1159</td>\n",
              "      <td>1</td>\n",
              "      <td>0.0</td>\n",
              "      <td>ATL -&gt; ABY</td>\n",
              "    </tr>\n",
              "    <tr>\n",
              "      <th>2</th>\n",
              "      <td>2</td>\n",
              "      <td>2018-01-04</td>\n",
              "      <td>Endeavor Air Inc.</td>\n",
              "      <td>EWN</td>\n",
              "      <td>ATL</td>\n",
              "      <td>True</td>\n",
              "      <td>False</td>\n",
              "      <td>1415</td>\n",
              "      <td>1324.0</td>\n",
              "      <td>0.0</td>\n",
              "      <td>-3.0</td>\n",
              "      <td>1507.0</td>\n",
              "      <td>0.0</td>\n",
              "      <td>91.0</td>\n",
              "      <td>110.0</td>\n",
              "      <td>116.0</td>\n",
              "      <td>433.0</td>\n",
              "      <td>2018</td>\n",
              "      <td>1</td>\n",
              "      <td>1</td>\n",
              "      <td>4</td>\n",
              "      <td>4</td>\n",
              "      <td>DL</td>\n",
              "      <td>DL_CODESHARE</td>\n",
              "      <td>19790</td>\n",
              "      <td>DL</td>\n",
              "      <td>3301</td>\n",
              "      <td>9E</td>\n",
              "      <td>20363</td>\n",
              "      <td>9E</td>\n",
              "      <td>N836AY</td>\n",
              "      <td>3301</td>\n",
              "      <td>11617</td>\n",
              "      <td>1161708</td>\n",
              "      <td>31617</td>\n",
              "      <td>New Bern/Morehead/Beaufort, NC</td>\n",
              "      <td>NC</td>\n",
              "      <td>37</td>\n",
              "      <td>North Carolina</td>\n",
              "      <td>36</td>\n",
              "      <td>10397</td>\n",
              "      <td>1039707</td>\n",
              "      <td>30397</td>\n",
              "      <td>Atlanta, GA</td>\n",
              "      <td>GA</td>\n",
              "      <td>13</td>\n",
              "      <td>Georgia</td>\n",
              "      <td>34</td>\n",
              "      <td>0.0</td>\n",
              "      <td>-1.0</td>\n",
              "      <td>1400-1459</td>\n",
              "      <td>14.0</td>\n",
              "      <td>1338.0</td>\n",
              "      <td>1503.0</td>\n",
              "      <td>6.0</td>\n",
              "      <td>1605</td>\n",
              "      <td>-7.0</td>\n",
              "      <td>0.0</td>\n",
              "      <td>-1.0</td>\n",
              "      <td>1600-1659</td>\n",
              "      <td>2</td>\n",
              "      <td>0.0</td>\n",
              "      <td>EWN -&gt; ATL</td>\n",
              "    </tr>\n",
              "    <tr>\n",
              "      <th>3</th>\n",
              "      <td>3</td>\n",
              "      <td>2018-01-09</td>\n",
              "      <td>Endeavor Air Inc.</td>\n",
              "      <td>FAY</td>\n",
              "      <td>ATL</td>\n",
              "      <td>False</td>\n",
              "      <td>False</td>\n",
              "      <td>1853</td>\n",
              "      <td>1850.0</td>\n",
              "      <td>0.0</td>\n",
              "      <td>-3.0</td>\n",
              "      <td>2021.0</td>\n",
              "      <td>0.0</td>\n",
              "      <td>64.0</td>\n",
              "      <td>97.0</td>\n",
              "      <td>91.0</td>\n",
              "      <td>331.0</td>\n",
              "      <td>2018</td>\n",
              "      <td>1</td>\n",
              "      <td>1</td>\n",
              "      <td>9</td>\n",
              "      <td>2</td>\n",
              "      <td>DL</td>\n",
              "      <td>DL_CODESHARE</td>\n",
              "      <td>19790</td>\n",
              "      <td>DL</td>\n",
              "      <td>3302</td>\n",
              "      <td>9E</td>\n",
              "      <td>20363</td>\n",
              "      <td>9E</td>\n",
              "      <td>N8869B</td>\n",
              "      <td>3302</td>\n",
              "      <td>11641</td>\n",
              "      <td>1164102</td>\n",
              "      <td>31641</td>\n",
              "      <td>Fayetteville, NC</td>\n",
              "      <td>NC</td>\n",
              "      <td>37</td>\n",
              "      <td>North Carolina</td>\n",
              "      <td>36</td>\n",
              "      <td>10397</td>\n",
              "      <td>1039707</td>\n",
              "      <td>30397</td>\n",
              "      <td>Atlanta, GA</td>\n",
              "      <td>GA</td>\n",
              "      <td>13</td>\n",
              "      <td>Georgia</td>\n",
              "      <td>34</td>\n",
              "      <td>0.0</td>\n",
              "      <td>-1.0</td>\n",
              "      <td>1800-1859</td>\n",
              "      <td>10.0</td>\n",
              "      <td>1900.0</td>\n",
              "      <td>2004.0</td>\n",
              "      <td>17.0</td>\n",
              "      <td>2030</td>\n",
              "      <td>-9.0</td>\n",
              "      <td>0.0</td>\n",
              "      <td>-1.0</td>\n",
              "      <td>2000-2059</td>\n",
              "      <td>2</td>\n",
              "      <td>0.0</td>\n",
              "      <td>FAY -&gt; ATL</td>\n",
              "    </tr>\n",
              "    <tr>\n",
              "      <th>4</th>\n",
              "      <td>4</td>\n",
              "      <td>2018-01-15</td>\n",
              "      <td>Endeavor Air Inc.</td>\n",
              "      <td>CSG</td>\n",
              "      <td>ATL</td>\n",
              "      <td>False</td>\n",
              "      <td>False</td>\n",
              "      <td>615</td>\n",
              "      <td>625.0</td>\n",
              "      <td>10.0</td>\n",
              "      <td>10.0</td>\n",
              "      <td>704.0</td>\n",
              "      <td>0.0</td>\n",
              "      <td>22.0</td>\n",
              "      <td>56.0</td>\n",
              "      <td>39.0</td>\n",
              "      <td>83.0</td>\n",
              "      <td>2018</td>\n",
              "      <td>1</td>\n",
              "      <td>1</td>\n",
              "      <td>15</td>\n",
              "      <td>1</td>\n",
              "      <td>DL</td>\n",
              "      <td>DL_CODESHARE</td>\n",
              "      <td>19790</td>\n",
              "      <td>DL</td>\n",
              "      <td>3306</td>\n",
              "      <td>9E</td>\n",
              "      <td>20363</td>\n",
              "      <td>9E</td>\n",
              "      <td>N832AY</td>\n",
              "      <td>3306</td>\n",
              "      <td>11150</td>\n",
              "      <td>1115005</td>\n",
              "      <td>31150</td>\n",
              "      <td>Columbus, GA</td>\n",
              "      <td>GA</td>\n",
              "      <td>13</td>\n",
              "      <td>Georgia</td>\n",
              "      <td>34</td>\n",
              "      <td>10397</td>\n",
              "      <td>1039707</td>\n",
              "      <td>30397</td>\n",
              "      <td>Atlanta, GA</td>\n",
              "      <td>GA</td>\n",
              "      <td>13</td>\n",
              "      <td>Georgia</td>\n",
              "      <td>34</td>\n",
              "      <td>0.0</td>\n",
              "      <td>0.0</td>\n",
              "      <td>0600-0659</td>\n",
              "      <td>9.0</td>\n",
              "      <td>634.0</td>\n",
              "      <td>656.0</td>\n",
              "      <td>8.0</td>\n",
              "      <td>711</td>\n",
              "      <td>-7.0</td>\n",
              "      <td>0.0</td>\n",
              "      <td>-1.0</td>\n",
              "      <td>0700-0759</td>\n",
              "      <td>1</td>\n",
              "      <td>0.0</td>\n",
              "      <td>CSG -&gt; ATL</td>\n",
              "    </tr>\n",
              "  </tbody>\n",
              "</table>\n",
              "</div>\n",
              "    <div class=\"colab-df-buttons\">\n",
              "\n",
              "  <div class=\"colab-df-container\">\n",
              "    <button class=\"colab-df-convert\" onclick=\"convertToInteractive('df-04303b90-9adc-43bd-8458-88e396308e82')\"\n",
              "            title=\"Convert this dataframe to an interactive table.\"\n",
              "            style=\"display:none;\">\n",
              "\n",
              "  <svg xmlns=\"http://www.w3.org/2000/svg\" height=\"24px\" viewBox=\"0 -960 960 960\">\n",
              "    <path d=\"M120-120v-720h720v720H120Zm60-500h600v-160H180v160Zm220 220h160v-160H400v160Zm0 220h160v-160H400v160ZM180-400h160v-160H180v160Zm440 0h160v-160H620v160ZM180-180h160v-160H180v160Zm440 0h160v-160H620v160Z\"/>\n",
              "  </svg>\n",
              "    </button>\n",
              "\n",
              "  <style>\n",
              "    .colab-df-container {\n",
              "      display:flex;\n",
              "      gap: 12px;\n",
              "    }\n",
              "\n",
              "    .colab-df-convert {\n",
              "      background-color: #E8F0FE;\n",
              "      border: none;\n",
              "      border-radius: 50%;\n",
              "      cursor: pointer;\n",
              "      display: none;\n",
              "      fill: #1967D2;\n",
              "      height: 32px;\n",
              "      padding: 0 0 0 0;\n",
              "      width: 32px;\n",
              "    }\n",
              "\n",
              "    .colab-df-convert:hover {\n",
              "      background-color: #E2EBFA;\n",
              "      box-shadow: 0px 1px 2px rgba(60, 64, 67, 0.3), 0px 1px 3px 1px rgba(60, 64, 67, 0.15);\n",
              "      fill: #174EA6;\n",
              "    }\n",
              "\n",
              "    .colab-df-buttons div {\n",
              "      margin-bottom: 4px;\n",
              "    }\n",
              "\n",
              "    [theme=dark] .colab-df-convert {\n",
              "      background-color: #3B4455;\n",
              "      fill: #D2E3FC;\n",
              "    }\n",
              "\n",
              "    [theme=dark] .colab-df-convert:hover {\n",
              "      background-color: #434B5C;\n",
              "      box-shadow: 0px 1px 3px 1px rgba(0, 0, 0, 0.15);\n",
              "      filter: drop-shadow(0px 1px 2px rgba(0, 0, 0, 0.3));\n",
              "      fill: #FFFFFF;\n",
              "    }\n",
              "  </style>\n",
              "\n",
              "    <script>\n",
              "      const buttonEl =\n",
              "        document.querySelector('#df-04303b90-9adc-43bd-8458-88e396308e82 button.colab-df-convert');\n",
              "      buttonEl.style.display =\n",
              "        google.colab.kernel.accessAllowed ? 'block' : 'none';\n",
              "\n",
              "      async function convertToInteractive(key) {\n",
              "        const element = document.querySelector('#df-04303b90-9adc-43bd-8458-88e396308e82');\n",
              "        const dataTable =\n",
              "          await google.colab.kernel.invokeFunction('convertToInteractive',\n",
              "                                                    [key], {});\n",
              "        if (!dataTable) return;\n",
              "\n",
              "        const docLinkHtml = 'Like what you see? Visit the ' +\n",
              "          '<a target=\"_blank\" href=https://colab.research.google.com/notebooks/data_table.ipynb>data table notebook</a>'\n",
              "          + ' to learn more about interactive tables.';\n",
              "        element.innerHTML = '';\n",
              "        dataTable['output_type'] = 'display_data';\n",
              "        await google.colab.output.renderOutput(dataTable, element);\n",
              "        const docLink = document.createElement('div');\n",
              "        docLink.innerHTML = docLinkHtml;\n",
              "        element.appendChild(docLink);\n",
              "      }\n",
              "    </script>\n",
              "  </div>\n",
              "\n",
              "\n",
              "<div id=\"df-99228a13-2b08-4efe-b75a-dbf4d7660c07\">\n",
              "  <button class=\"colab-df-quickchart\" onclick=\"quickchart('df-99228a13-2b08-4efe-b75a-dbf4d7660c07')\"\n",
              "            title=\"Suggest charts\"\n",
              "            style=\"display:none;\">\n",
              "\n",
              "<svg xmlns=\"http://www.w3.org/2000/svg\" height=\"24px\"viewBox=\"0 0 24 24\"\n",
              "     width=\"24px\">\n",
              "    <g>\n",
              "        <path d=\"M19 3H5c-1.1 0-2 .9-2 2v14c0 1.1.9 2 2 2h14c1.1 0 2-.9 2-2V5c0-1.1-.9-2-2-2zM9 17H7v-7h2v7zm4 0h-2V7h2v10zm4 0h-2v-4h2v4z\"/>\n",
              "    </g>\n",
              "</svg>\n",
              "  </button>\n",
              "\n",
              "<style>\n",
              "  .colab-df-quickchart {\n",
              "      --bg-color: #E8F0FE;\n",
              "      --fill-color: #1967D2;\n",
              "      --hover-bg-color: #E2EBFA;\n",
              "      --hover-fill-color: #174EA6;\n",
              "      --disabled-fill-color: #AAA;\n",
              "      --disabled-bg-color: #DDD;\n",
              "  }\n",
              "\n",
              "  [theme=dark] .colab-df-quickchart {\n",
              "      --bg-color: #3B4455;\n",
              "      --fill-color: #D2E3FC;\n",
              "      --hover-bg-color: #434B5C;\n",
              "      --hover-fill-color: #FFFFFF;\n",
              "      --disabled-bg-color: #3B4455;\n",
              "      --disabled-fill-color: #666;\n",
              "  }\n",
              "\n",
              "  .colab-df-quickchart {\n",
              "    background-color: var(--bg-color);\n",
              "    border: none;\n",
              "    border-radius: 50%;\n",
              "    cursor: pointer;\n",
              "    display: none;\n",
              "    fill: var(--fill-color);\n",
              "    height: 32px;\n",
              "    padding: 0;\n",
              "    width: 32px;\n",
              "  }\n",
              "\n",
              "  .colab-df-quickchart:hover {\n",
              "    background-color: var(--hover-bg-color);\n",
              "    box-shadow: 0 1px 2px rgba(60, 64, 67, 0.3), 0 1px 3px 1px rgba(60, 64, 67, 0.15);\n",
              "    fill: var(--button-hover-fill-color);\n",
              "  }\n",
              "\n",
              "  .colab-df-quickchart-complete:disabled,\n",
              "  .colab-df-quickchart-complete:disabled:hover {\n",
              "    background-color: var(--disabled-bg-color);\n",
              "    fill: var(--disabled-fill-color);\n",
              "    box-shadow: none;\n",
              "  }\n",
              "\n",
              "  .colab-df-spinner {\n",
              "    border: 2px solid var(--fill-color);\n",
              "    border-color: transparent;\n",
              "    border-bottom-color: var(--fill-color);\n",
              "    animation:\n",
              "      spin 1s steps(1) infinite;\n",
              "  }\n",
              "\n",
              "  @keyframes spin {\n",
              "    0% {\n",
              "      border-color: transparent;\n",
              "      border-bottom-color: var(--fill-color);\n",
              "      border-left-color: var(--fill-color);\n",
              "    }\n",
              "    20% {\n",
              "      border-color: transparent;\n",
              "      border-left-color: var(--fill-color);\n",
              "      border-top-color: var(--fill-color);\n",
              "    }\n",
              "    30% {\n",
              "      border-color: transparent;\n",
              "      border-left-color: var(--fill-color);\n",
              "      border-top-color: var(--fill-color);\n",
              "      border-right-color: var(--fill-color);\n",
              "    }\n",
              "    40% {\n",
              "      border-color: transparent;\n",
              "      border-right-color: var(--fill-color);\n",
              "      border-top-color: var(--fill-color);\n",
              "    }\n",
              "    60% {\n",
              "      border-color: transparent;\n",
              "      border-right-color: var(--fill-color);\n",
              "    }\n",
              "    80% {\n",
              "      border-color: transparent;\n",
              "      border-right-color: var(--fill-color);\n",
              "      border-bottom-color: var(--fill-color);\n",
              "    }\n",
              "    90% {\n",
              "      border-color: transparent;\n",
              "      border-bottom-color: var(--fill-color);\n",
              "    }\n",
              "  }\n",
              "</style>\n",
              "\n",
              "  <script>\n",
              "    async function quickchart(key) {\n",
              "      const quickchartButtonEl =\n",
              "        document.querySelector('#' + key + ' button');\n",
              "      quickchartButtonEl.disabled = true;  // To prevent multiple clicks.\n",
              "      quickchartButtonEl.classList.add('colab-df-spinner');\n",
              "      try {\n",
              "        const charts = await google.colab.kernel.invokeFunction(\n",
              "            'suggestCharts', [key], {});\n",
              "      } catch (error) {\n",
              "        console.error('Error during call to suggestCharts:', error);\n",
              "      }\n",
              "      quickchartButtonEl.classList.remove('colab-df-spinner');\n",
              "      quickchartButtonEl.classList.add('colab-df-quickchart-complete');\n",
              "    }\n",
              "    (() => {\n",
              "      let quickchartButtonEl =\n",
              "        document.querySelector('#df-99228a13-2b08-4efe-b75a-dbf4d7660c07 button');\n",
              "      quickchartButtonEl.style.display =\n",
              "        google.colab.kernel.accessAllowed ? 'block' : 'none';\n",
              "    })();\n",
              "  </script>\n",
              "</div>\n",
              "\n",
              "    </div>\n",
              "  </div>\n"
            ],
            "application/vnd.google.colaboratory.intrinsic+json": {
              "type": "dataframe",
              "variable_name": "df_completo"
            }
          },
          "metadata": {},
          "execution_count": 23
        }
      ],
      "source": [
        "#Criar uma coluna para rotas\n",
        "df_completo['Route'] = df_completo['Origin'] + ' -> ' + df_completo['Dest']\n",
        "df_completo.head()"
      ]
    },
    {
      "cell_type": "markdown",
      "metadata": {
        "id": "MMt0mpkUiln-"
      },
      "source": [
        "### ✅ Resposta"
      ]
    },
    {
      "cell_type": "code",
      "execution_count": null,
      "metadata": {
        "id": "3YcNbtyUF46B"
      },
      "outputs": [],
      "source": [
        "# Agrupar e contar as rotas\n",
        "route_counts = df_completo['Route'].value_counts().head(10)"
      ]
    },
    {
      "cell_type": "code",
      "execution_count": null,
      "metadata": {
        "colab": {
          "base_uri": "https://localhost:8080/",
          "height": 542
        },
        "id": "Fij9MkOHBsh2",
        "outputId": "39e7ceeb-31fe-4551-ac10-bcf0faa16a76"
      },
      "outputs": [
        {
          "output_type": "display_data",
          "data": {
            "text/html": [
              "<html>\n",
              "<head><meta charset=\"utf-8\" /></head>\n",
              "<body>\n",
              "    <div>            <script src=\"https://cdnjs.cloudflare.com/ajax/libs/mathjax/2.7.5/MathJax.js?config=TeX-AMS-MML_SVG\"></script><script type=\"text/javascript\">if (window.MathJax && window.MathJax.Hub && window.MathJax.Hub.Config) {window.MathJax.Hub.Config({SVG: {font: \"STIX-Web\"}});}</script>                <script type=\"text/javascript\">window.PlotlyConfig = {MathJaxConfig: 'local'};</script>\n",
              "        <script charset=\"utf-8\" src=\"https://cdn.plot.ly/plotly-2.35.2.min.js\"></script>                <div id=\"f476abed-3f9e-4650-ba0d-ed44a7aa4f9a\" class=\"plotly-graph-div\" style=\"height:525px; width:100%;\"></div>            <script type=\"text/javascript\">                                    window.PLOTLYENV=window.PLOTLYENV || {};                                    if (document.getElementById(\"f476abed-3f9e-4650-ba0d-ed44a7aa4f9a\")) {                    Plotly.newPlot(                        \"f476abed-3f9e-4650-ba0d-ed44a7aa4f9a\",                        [{\"alignmentgroup\":\"True\",\"hovertemplate\":\"Número de Voos=%{x}\\u003cbr\\u003eRotas=%{y}\\u003cbr\\u003ecolor=%{marker.color}\\u003cextra\\u003e\\u003c\\u002fextra\\u003e\",\"legendgroup\":\"\",\"marker\":{\"color\":[530,522,451,450,450,416,410,405,384,383],\"coloraxis\":\"coloraxis\",\"pattern\":{\"shape\":\"\"}},\"name\":\"\",\"offsetgroup\":\"\",\"orientation\":\"h\",\"showlegend\":false,\"textposition\":\"auto\",\"x\":[530,522,451,450,450,416,410,405,384,383],\"xaxis\":\"x\",\"y\":[\"LAX -\\u003e SFO\",\"SFO -\\u003e LAX\",\"ORD -\\u003e LGA\",\"LAS -\\u003e LAX\",\"LAX -\\u003e LAS\",\"LGA -\\u003e ORD\",\"LAX -\\u003e JFK\",\"HNL -\\u003e OGG\",\"SEA -\\u003e PDX\",\"JFK -\\u003e LAX\"],\"yaxis\":\"y\",\"type\":\"bar\"}],                        {\"template\":{\"data\":{\"barpolar\":[{\"marker\":{\"line\":{\"color\":\"rgb(17,17,17)\",\"width\":0.5},\"pattern\":{\"fillmode\":\"overlay\",\"size\":10,\"solidity\":0.2}},\"type\":\"barpolar\"}],\"bar\":[{\"error_x\":{\"color\":\"#f2f5fa\"},\"error_y\":{\"color\":\"#f2f5fa\"},\"marker\":{\"line\":{\"color\":\"rgb(17,17,17)\",\"width\":0.5},\"pattern\":{\"fillmode\":\"overlay\",\"size\":10,\"solidity\":0.2}},\"type\":\"bar\"}],\"carpet\":[{\"aaxis\":{\"endlinecolor\":\"#A2B1C6\",\"gridcolor\":\"#506784\",\"linecolor\":\"#506784\",\"minorgridcolor\":\"#506784\",\"startlinecolor\":\"#A2B1C6\"},\"baxis\":{\"endlinecolor\":\"#A2B1C6\",\"gridcolor\":\"#506784\",\"linecolor\":\"#506784\",\"minorgridcolor\":\"#506784\",\"startlinecolor\":\"#A2B1C6\"},\"type\":\"carpet\"}],\"choropleth\":[{\"colorbar\":{\"outlinewidth\":0,\"ticks\":\"\"},\"type\":\"choropleth\"}],\"contourcarpet\":[{\"colorbar\":{\"outlinewidth\":0,\"ticks\":\"\"},\"type\":\"contourcarpet\"}],\"contour\":[{\"colorbar\":{\"outlinewidth\":0,\"ticks\":\"\"},\"colorscale\":[[0.0,\"#0d0887\"],[0.1111111111111111,\"#46039f\"],[0.2222222222222222,\"#7201a8\"],[0.3333333333333333,\"#9c179e\"],[0.4444444444444444,\"#bd3786\"],[0.5555555555555556,\"#d8576b\"],[0.6666666666666666,\"#ed7953\"],[0.7777777777777778,\"#fb9f3a\"],[0.8888888888888888,\"#fdca26\"],[1.0,\"#f0f921\"]],\"type\":\"contour\"}],\"heatmapgl\":[{\"colorbar\":{\"outlinewidth\":0,\"ticks\":\"\"},\"colorscale\":[[0.0,\"#0d0887\"],[0.1111111111111111,\"#46039f\"],[0.2222222222222222,\"#7201a8\"],[0.3333333333333333,\"#9c179e\"],[0.4444444444444444,\"#bd3786\"],[0.5555555555555556,\"#d8576b\"],[0.6666666666666666,\"#ed7953\"],[0.7777777777777778,\"#fb9f3a\"],[0.8888888888888888,\"#fdca26\"],[1.0,\"#f0f921\"]],\"type\":\"heatmapgl\"}],\"heatmap\":[{\"colorbar\":{\"outlinewidth\":0,\"ticks\":\"\"},\"colorscale\":[[0.0,\"#0d0887\"],[0.1111111111111111,\"#46039f\"],[0.2222222222222222,\"#7201a8\"],[0.3333333333333333,\"#9c179e\"],[0.4444444444444444,\"#bd3786\"],[0.5555555555555556,\"#d8576b\"],[0.6666666666666666,\"#ed7953\"],[0.7777777777777778,\"#fb9f3a\"],[0.8888888888888888,\"#fdca26\"],[1.0,\"#f0f921\"]],\"type\":\"heatmap\"}],\"histogram2dcontour\":[{\"colorbar\":{\"outlinewidth\":0,\"ticks\":\"\"},\"colorscale\":[[0.0,\"#0d0887\"],[0.1111111111111111,\"#46039f\"],[0.2222222222222222,\"#7201a8\"],[0.3333333333333333,\"#9c179e\"],[0.4444444444444444,\"#bd3786\"],[0.5555555555555556,\"#d8576b\"],[0.6666666666666666,\"#ed7953\"],[0.7777777777777778,\"#fb9f3a\"],[0.8888888888888888,\"#fdca26\"],[1.0,\"#f0f921\"]],\"type\":\"histogram2dcontour\"}],\"histogram2d\":[{\"colorbar\":{\"outlinewidth\":0,\"ticks\":\"\"},\"colorscale\":[[0.0,\"#0d0887\"],[0.1111111111111111,\"#46039f\"],[0.2222222222222222,\"#7201a8\"],[0.3333333333333333,\"#9c179e\"],[0.4444444444444444,\"#bd3786\"],[0.5555555555555556,\"#d8576b\"],[0.6666666666666666,\"#ed7953\"],[0.7777777777777778,\"#fb9f3a\"],[0.8888888888888888,\"#fdca26\"],[1.0,\"#f0f921\"]],\"type\":\"histogram2d\"}],\"histogram\":[{\"marker\":{\"pattern\":{\"fillmode\":\"overlay\",\"size\":10,\"solidity\":0.2}},\"type\":\"histogram\"}],\"mesh3d\":[{\"colorbar\":{\"outlinewidth\":0,\"ticks\":\"\"},\"type\":\"mesh3d\"}],\"parcoords\":[{\"line\":{\"colorbar\":{\"outlinewidth\":0,\"ticks\":\"\"}},\"type\":\"parcoords\"}],\"pie\":[{\"automargin\":true,\"type\":\"pie\"}],\"scatter3d\":[{\"line\":{\"colorbar\":{\"outlinewidth\":0,\"ticks\":\"\"}},\"marker\":{\"colorbar\":{\"outlinewidth\":0,\"ticks\":\"\"}},\"type\":\"scatter3d\"}],\"scattercarpet\":[{\"marker\":{\"colorbar\":{\"outlinewidth\":0,\"ticks\":\"\"}},\"type\":\"scattercarpet\"}],\"scattergeo\":[{\"marker\":{\"colorbar\":{\"outlinewidth\":0,\"ticks\":\"\"}},\"type\":\"scattergeo\"}],\"scattergl\":[{\"marker\":{\"line\":{\"color\":\"#283442\"}},\"type\":\"scattergl\"}],\"scattermapbox\":[{\"marker\":{\"colorbar\":{\"outlinewidth\":0,\"ticks\":\"\"}},\"type\":\"scattermapbox\"}],\"scatterpolargl\":[{\"marker\":{\"colorbar\":{\"outlinewidth\":0,\"ticks\":\"\"}},\"type\":\"scatterpolargl\"}],\"scatterpolar\":[{\"marker\":{\"colorbar\":{\"outlinewidth\":0,\"ticks\":\"\"}},\"type\":\"scatterpolar\"}],\"scatter\":[{\"marker\":{\"line\":{\"color\":\"#283442\"}},\"type\":\"scatter\"}],\"scatterternary\":[{\"marker\":{\"colorbar\":{\"outlinewidth\":0,\"ticks\":\"\"}},\"type\":\"scatterternary\"}],\"surface\":[{\"colorbar\":{\"outlinewidth\":0,\"ticks\":\"\"},\"colorscale\":[[0.0,\"#0d0887\"],[0.1111111111111111,\"#46039f\"],[0.2222222222222222,\"#7201a8\"],[0.3333333333333333,\"#9c179e\"],[0.4444444444444444,\"#bd3786\"],[0.5555555555555556,\"#d8576b\"],[0.6666666666666666,\"#ed7953\"],[0.7777777777777778,\"#fb9f3a\"],[0.8888888888888888,\"#fdca26\"],[1.0,\"#f0f921\"]],\"type\":\"surface\"}],\"table\":[{\"cells\":{\"fill\":{\"color\":\"#506784\"},\"line\":{\"color\":\"rgb(17,17,17)\"}},\"header\":{\"fill\":{\"color\":\"#2a3f5f\"},\"line\":{\"color\":\"rgb(17,17,17)\"}},\"type\":\"table\"}]},\"layout\":{\"annotationdefaults\":{\"arrowcolor\":\"#f2f5fa\",\"arrowhead\":0,\"arrowwidth\":1},\"autotypenumbers\":\"strict\",\"coloraxis\":{\"colorbar\":{\"outlinewidth\":0,\"ticks\":\"\"}},\"colorscale\":{\"diverging\":[[0,\"#8e0152\"],[0.1,\"#c51b7d\"],[0.2,\"#de77ae\"],[0.3,\"#f1b6da\"],[0.4,\"#fde0ef\"],[0.5,\"#f7f7f7\"],[0.6,\"#e6f5d0\"],[0.7,\"#b8e186\"],[0.8,\"#7fbc41\"],[0.9,\"#4d9221\"],[1,\"#276419\"]],\"sequential\":[[0.0,\"#0d0887\"],[0.1111111111111111,\"#46039f\"],[0.2222222222222222,\"#7201a8\"],[0.3333333333333333,\"#9c179e\"],[0.4444444444444444,\"#bd3786\"],[0.5555555555555556,\"#d8576b\"],[0.6666666666666666,\"#ed7953\"],[0.7777777777777778,\"#fb9f3a\"],[0.8888888888888888,\"#fdca26\"],[1.0,\"#f0f921\"]],\"sequentialminus\":[[0.0,\"#0d0887\"],[0.1111111111111111,\"#46039f\"],[0.2222222222222222,\"#7201a8\"],[0.3333333333333333,\"#9c179e\"],[0.4444444444444444,\"#bd3786\"],[0.5555555555555556,\"#d8576b\"],[0.6666666666666666,\"#ed7953\"],[0.7777777777777778,\"#fb9f3a\"],[0.8888888888888888,\"#fdca26\"],[1.0,\"#f0f921\"]]},\"colorway\":[\"#636efa\",\"#EF553B\",\"#00cc96\",\"#ab63fa\",\"#FFA15A\",\"#19d3f3\",\"#FF6692\",\"#B6E880\",\"#FF97FF\",\"#FECB52\"],\"font\":{\"color\":\"#f2f5fa\"},\"geo\":{\"bgcolor\":\"rgb(17,17,17)\",\"lakecolor\":\"rgb(17,17,17)\",\"landcolor\":\"rgb(17,17,17)\",\"showlakes\":true,\"showland\":true,\"subunitcolor\":\"#506784\"},\"hoverlabel\":{\"align\":\"left\"},\"hovermode\":\"closest\",\"mapbox\":{\"style\":\"dark\"},\"paper_bgcolor\":\"rgb(17,17,17)\",\"plot_bgcolor\":\"rgb(17,17,17)\",\"polar\":{\"angularaxis\":{\"gridcolor\":\"#506784\",\"linecolor\":\"#506784\",\"ticks\":\"\"},\"bgcolor\":\"rgb(17,17,17)\",\"radialaxis\":{\"gridcolor\":\"#506784\",\"linecolor\":\"#506784\",\"ticks\":\"\"}},\"scene\":{\"xaxis\":{\"backgroundcolor\":\"rgb(17,17,17)\",\"gridcolor\":\"#506784\",\"gridwidth\":2,\"linecolor\":\"#506784\",\"showbackground\":true,\"ticks\":\"\",\"zerolinecolor\":\"#C8D4E3\"},\"yaxis\":{\"backgroundcolor\":\"rgb(17,17,17)\",\"gridcolor\":\"#506784\",\"gridwidth\":2,\"linecolor\":\"#506784\",\"showbackground\":true,\"ticks\":\"\",\"zerolinecolor\":\"#C8D4E3\"},\"zaxis\":{\"backgroundcolor\":\"rgb(17,17,17)\",\"gridcolor\":\"#506784\",\"gridwidth\":2,\"linecolor\":\"#506784\",\"showbackground\":true,\"ticks\":\"\",\"zerolinecolor\":\"#C8D4E3\"}},\"shapedefaults\":{\"line\":{\"color\":\"#f2f5fa\"}},\"sliderdefaults\":{\"bgcolor\":\"#C8D4E3\",\"bordercolor\":\"rgb(17,17,17)\",\"borderwidth\":1,\"tickwidth\":0},\"ternary\":{\"aaxis\":{\"gridcolor\":\"#506784\",\"linecolor\":\"#506784\",\"ticks\":\"\"},\"baxis\":{\"gridcolor\":\"#506784\",\"linecolor\":\"#506784\",\"ticks\":\"\"},\"bgcolor\":\"rgb(17,17,17)\",\"caxis\":{\"gridcolor\":\"#506784\",\"linecolor\":\"#506784\",\"ticks\":\"\"}},\"title\":{\"x\":0.05},\"updatemenudefaults\":{\"bgcolor\":\"#506784\",\"borderwidth\":0},\"xaxis\":{\"automargin\":true,\"gridcolor\":\"#283442\",\"linecolor\":\"#506784\",\"ticks\":\"\",\"title\":{\"standoff\":15},\"zerolinecolor\":\"#283442\",\"zerolinewidth\":2},\"yaxis\":{\"automargin\":true,\"gridcolor\":\"#283442\",\"linecolor\":\"#506784\",\"ticks\":\"\",\"title\":{\"standoff\":15},\"zerolinecolor\":\"#283442\",\"zerolinewidth\":2}}},\"xaxis\":{\"anchor\":\"y\",\"domain\":[0.0,1.0],\"title\":{\"text\":\"Número de Voos\"}},\"yaxis\":{\"anchor\":\"x\",\"domain\":[0.0,1.0],\"title\":{\"text\":\"Rotas\"}},\"coloraxis\":{\"colorbar\":{\"title\":{\"text\":\"color\"}},\"colorscale\":[[0.0,\"#440154\"],[0.1111111111111111,\"#482878\"],[0.2222222222222222,\"#3e4989\"],[0.3333333333333333,\"#31688e\"],[0.4444444444444444,\"#26828e\"],[0.5555555555555556,\"#1f9e89\"],[0.6666666666666666,\"#35b779\"],[0.7777777777777778,\"#6ece58\"],[0.8888888888888888,\"#b5de2b\"],[1.0,\"#fde725\"]]},\"legend\":{\"tracegroupgap\":0},\"title\":{\"text\":\"Principais Rotas de Voos\"},\"barmode\":\"relative\",\"font\":{\"size\":14}},                        {\"responsive\": true}                    ).then(function(){\n",
              "                            \n",
              "var gd = document.getElementById('f476abed-3f9e-4650-ba0d-ed44a7aa4f9a');\n",
              "var x = new MutationObserver(function (mutations, observer) {{\n",
              "        var display = window.getComputedStyle(gd).display;\n",
              "        if (!display || display === 'none') {{\n",
              "            console.log([gd, 'removed!']);\n",
              "            Plotly.purge(gd);\n",
              "            observer.disconnect();\n",
              "        }}\n",
              "}});\n",
              "\n",
              "// Listen for the removal of the full notebook cells\n",
              "var notebookContainer = gd.closest('#notebook-container');\n",
              "if (notebookContainer) {{\n",
              "    x.observe(notebookContainer, {childList: true});\n",
              "}}\n",
              "\n",
              "// Listen for the clearing of the current output cell\n",
              "var outputEl = gd.closest('.output');\n",
              "if (outputEl) {{\n",
              "    x.observe(outputEl, {childList: true});\n",
              "}}\n",
              "\n",
              "                        })                };                            </script>        </div>\n",
              "</body>\n",
              "</html>"
            ]
          },
          "metadata": {}
        }
      ],
      "source": [
        "import plotly.express as px\n",
        "\n",
        "# Criar o gráfico interativo com Plotly\n",
        "fig = px.bar(\n",
        "    x=route_counts.values,\n",
        "    y=route_counts.index,\n",
        "    orientation='h',\n",
        "    labels={'x': 'Número de Voos', 'y': 'Rotas'},\n",
        "    title=\"Principais Rotas de Voos\",\n",
        "    color=route_counts.values,  # Cor das barras baseada no número de voos\n",
        "    color_continuous_scale='Viridis'  # Escala de cores\n",
        ")\n",
        "\n",
        "# Exibir o gráfico interativo\n",
        "fig.update_layout(\n",
        "    template='plotly_dark',  # Fundo escuro para o gráfico\n",
        "    font=dict(size=14),\n",
        ")\n",
        "\n",
        "fig.show()\n"
      ]
    },
    {
      "cell_type": "markdown",
      "metadata": {
        "id": "IbVsTnGQKMFP"
      },
      "source": [
        "##2.2\n",
        "Quais as rotas em que temos maior tempo de atraso?"
      ]
    },
    {
      "cell_type": "markdown",
      "metadata": {
        "id": "_1RKANYciidj"
      },
      "source": [
        "### ✅ Resposta"
      ]
    },
    {
      "cell_type": "code",
      "execution_count": null,
      "metadata": {
        "id": "UKhLV8ZadvJI"
      },
      "outputs": [],
      "source": [
        "# Agrupar por rota e calcular o atraso médio\n",
        "delay_by_route = df_completo.groupby('Route')['DepDelayMinutes'].mean().sort_values(ascending=False).head(10)"
      ]
    },
    {
      "cell_type": "code",
      "execution_count": null,
      "metadata": {
        "colab": {
          "base_uri": "https://localhost:8080/",
          "height": 542
        },
        "id": "MPV4tWHTCUZv",
        "outputId": "6e7601c4-3acd-4dfe-e2f1-990563555444"
      },
      "outputs": [
        {
          "output_type": "display_data",
          "data": {
            "text/html": [
              "<html>\n",
              "<head><meta charset=\"utf-8\" /></head>\n",
              "<body>\n",
              "    <div>            <script src=\"https://cdnjs.cloudflare.com/ajax/libs/mathjax/2.7.5/MathJax.js?config=TeX-AMS-MML_SVG\"></script><script type=\"text/javascript\">if (window.MathJax && window.MathJax.Hub && window.MathJax.Hub.Config) {window.MathJax.Hub.Config({SVG: {font: \"STIX-Web\"}});}</script>                <script type=\"text/javascript\">window.PlotlyConfig = {MathJaxConfig: 'local'};</script>\n",
              "        <script charset=\"utf-8\" src=\"https://cdn.plot.ly/plotly-2.35.2.min.js\"></script>                <div id=\"b89d2b0e-31d1-4ee6-92b7-96a991049336\" class=\"plotly-graph-div\" style=\"height:525px; width:100%;\"></div>            <script type=\"text/javascript\">                                    window.PLOTLYENV=window.PLOTLYENV || {};                                    if (document.getElementById(\"b89d2b0e-31d1-4ee6-92b7-96a991049336\")) {                    Plotly.newPlot(                        \"b89d2b0e-31d1-4ee6-92b7-96a991049336\",                        [{\"alignmentgroup\":\"True\",\"hovertemplate\":\"Atraso Médio (minutos)=%{x}\\u003cbr\\u003eRotas=%{y}\\u003cbr\\u003ecolor=%{marker.color}\\u003cextra\\u003e\\u003c\\u002fextra\\u003e\",\"legendgroup\":\"\",\"marker\":{\"color\":[710.0,484.0,479.5,464.0,388.0,335.0,289.5,264.5,247.66666666666666,247.2],\"coloraxis\":\"coloraxis\",\"pattern\":{\"shape\":\"\"}},\"name\":\"\",\"offsetgroup\":\"\",\"orientation\":\"h\",\"showlegend\":false,\"textposition\":\"auto\",\"x\":[710.0,484.0,479.5,464.0,388.0,335.0,289.5,264.5,247.66666666666666,247.2],\"xaxis\":\"x\",\"y\":[\"RKS -\\u003e RIW\",\"MSY -\\u003e GRR\",\"CRW -\\u003e IAH\",\"SGU -\\u003e AZA\",\"EWR -\\u003e FWA\",\"HTS -\\u003e MYR\",\"PAH -\\u003e CGI\",\"AVL -\\u003e BOS\",\"FNT -\\u003e MSP\",\"HDN -\\u003e ORD\"],\"yaxis\":\"y\",\"type\":\"bar\"}],                        {\"template\":{\"data\":{\"barpolar\":[{\"marker\":{\"line\":{\"color\":\"rgb(17,17,17)\",\"width\":0.5},\"pattern\":{\"fillmode\":\"overlay\",\"size\":10,\"solidity\":0.2}},\"type\":\"barpolar\"}],\"bar\":[{\"error_x\":{\"color\":\"#f2f5fa\"},\"error_y\":{\"color\":\"#f2f5fa\"},\"marker\":{\"line\":{\"color\":\"rgb(17,17,17)\",\"width\":0.5},\"pattern\":{\"fillmode\":\"overlay\",\"size\":10,\"solidity\":0.2}},\"type\":\"bar\"}],\"carpet\":[{\"aaxis\":{\"endlinecolor\":\"#A2B1C6\",\"gridcolor\":\"#506784\",\"linecolor\":\"#506784\",\"minorgridcolor\":\"#506784\",\"startlinecolor\":\"#A2B1C6\"},\"baxis\":{\"endlinecolor\":\"#A2B1C6\",\"gridcolor\":\"#506784\",\"linecolor\":\"#506784\",\"minorgridcolor\":\"#506784\",\"startlinecolor\":\"#A2B1C6\"},\"type\":\"carpet\"}],\"choropleth\":[{\"colorbar\":{\"outlinewidth\":0,\"ticks\":\"\"},\"type\":\"choropleth\"}],\"contourcarpet\":[{\"colorbar\":{\"outlinewidth\":0,\"ticks\":\"\"},\"type\":\"contourcarpet\"}],\"contour\":[{\"colorbar\":{\"outlinewidth\":0,\"ticks\":\"\"},\"colorscale\":[[0.0,\"#0d0887\"],[0.1111111111111111,\"#46039f\"],[0.2222222222222222,\"#7201a8\"],[0.3333333333333333,\"#9c179e\"],[0.4444444444444444,\"#bd3786\"],[0.5555555555555556,\"#d8576b\"],[0.6666666666666666,\"#ed7953\"],[0.7777777777777778,\"#fb9f3a\"],[0.8888888888888888,\"#fdca26\"],[1.0,\"#f0f921\"]],\"type\":\"contour\"}],\"heatmapgl\":[{\"colorbar\":{\"outlinewidth\":0,\"ticks\":\"\"},\"colorscale\":[[0.0,\"#0d0887\"],[0.1111111111111111,\"#46039f\"],[0.2222222222222222,\"#7201a8\"],[0.3333333333333333,\"#9c179e\"],[0.4444444444444444,\"#bd3786\"],[0.5555555555555556,\"#d8576b\"],[0.6666666666666666,\"#ed7953\"],[0.7777777777777778,\"#fb9f3a\"],[0.8888888888888888,\"#fdca26\"],[1.0,\"#f0f921\"]],\"type\":\"heatmapgl\"}],\"heatmap\":[{\"colorbar\":{\"outlinewidth\":0,\"ticks\":\"\"},\"colorscale\":[[0.0,\"#0d0887\"],[0.1111111111111111,\"#46039f\"],[0.2222222222222222,\"#7201a8\"],[0.3333333333333333,\"#9c179e\"],[0.4444444444444444,\"#bd3786\"],[0.5555555555555556,\"#d8576b\"],[0.6666666666666666,\"#ed7953\"],[0.7777777777777778,\"#fb9f3a\"],[0.8888888888888888,\"#fdca26\"],[1.0,\"#f0f921\"]],\"type\":\"heatmap\"}],\"histogram2dcontour\":[{\"colorbar\":{\"outlinewidth\":0,\"ticks\":\"\"},\"colorscale\":[[0.0,\"#0d0887\"],[0.1111111111111111,\"#46039f\"],[0.2222222222222222,\"#7201a8\"],[0.3333333333333333,\"#9c179e\"],[0.4444444444444444,\"#bd3786\"],[0.5555555555555556,\"#d8576b\"],[0.6666666666666666,\"#ed7953\"],[0.7777777777777778,\"#fb9f3a\"],[0.8888888888888888,\"#fdca26\"],[1.0,\"#f0f921\"]],\"type\":\"histogram2dcontour\"}],\"histogram2d\":[{\"colorbar\":{\"outlinewidth\":0,\"ticks\":\"\"},\"colorscale\":[[0.0,\"#0d0887\"],[0.1111111111111111,\"#46039f\"],[0.2222222222222222,\"#7201a8\"],[0.3333333333333333,\"#9c179e\"],[0.4444444444444444,\"#bd3786\"],[0.5555555555555556,\"#d8576b\"],[0.6666666666666666,\"#ed7953\"],[0.7777777777777778,\"#fb9f3a\"],[0.8888888888888888,\"#fdca26\"],[1.0,\"#f0f921\"]],\"type\":\"histogram2d\"}],\"histogram\":[{\"marker\":{\"pattern\":{\"fillmode\":\"overlay\",\"size\":10,\"solidity\":0.2}},\"type\":\"histogram\"}],\"mesh3d\":[{\"colorbar\":{\"outlinewidth\":0,\"ticks\":\"\"},\"type\":\"mesh3d\"}],\"parcoords\":[{\"line\":{\"colorbar\":{\"outlinewidth\":0,\"ticks\":\"\"}},\"type\":\"parcoords\"}],\"pie\":[{\"automargin\":true,\"type\":\"pie\"}],\"scatter3d\":[{\"line\":{\"colorbar\":{\"outlinewidth\":0,\"ticks\":\"\"}},\"marker\":{\"colorbar\":{\"outlinewidth\":0,\"ticks\":\"\"}},\"type\":\"scatter3d\"}],\"scattercarpet\":[{\"marker\":{\"colorbar\":{\"outlinewidth\":0,\"ticks\":\"\"}},\"type\":\"scattercarpet\"}],\"scattergeo\":[{\"marker\":{\"colorbar\":{\"outlinewidth\":0,\"ticks\":\"\"}},\"type\":\"scattergeo\"}],\"scattergl\":[{\"marker\":{\"line\":{\"color\":\"#283442\"}},\"type\":\"scattergl\"}],\"scattermapbox\":[{\"marker\":{\"colorbar\":{\"outlinewidth\":0,\"ticks\":\"\"}},\"type\":\"scattermapbox\"}],\"scatterpolargl\":[{\"marker\":{\"colorbar\":{\"outlinewidth\":0,\"ticks\":\"\"}},\"type\":\"scatterpolargl\"}],\"scatterpolar\":[{\"marker\":{\"colorbar\":{\"outlinewidth\":0,\"ticks\":\"\"}},\"type\":\"scatterpolar\"}],\"scatter\":[{\"marker\":{\"line\":{\"color\":\"#283442\"}},\"type\":\"scatter\"}],\"scatterternary\":[{\"marker\":{\"colorbar\":{\"outlinewidth\":0,\"ticks\":\"\"}},\"type\":\"scatterternary\"}],\"surface\":[{\"colorbar\":{\"outlinewidth\":0,\"ticks\":\"\"},\"colorscale\":[[0.0,\"#0d0887\"],[0.1111111111111111,\"#46039f\"],[0.2222222222222222,\"#7201a8\"],[0.3333333333333333,\"#9c179e\"],[0.4444444444444444,\"#bd3786\"],[0.5555555555555556,\"#d8576b\"],[0.6666666666666666,\"#ed7953\"],[0.7777777777777778,\"#fb9f3a\"],[0.8888888888888888,\"#fdca26\"],[1.0,\"#f0f921\"]],\"type\":\"surface\"}],\"table\":[{\"cells\":{\"fill\":{\"color\":\"#506784\"},\"line\":{\"color\":\"rgb(17,17,17)\"}},\"header\":{\"fill\":{\"color\":\"#2a3f5f\"},\"line\":{\"color\":\"rgb(17,17,17)\"}},\"type\":\"table\"}]},\"layout\":{\"annotationdefaults\":{\"arrowcolor\":\"#f2f5fa\",\"arrowhead\":0,\"arrowwidth\":1},\"autotypenumbers\":\"strict\",\"coloraxis\":{\"colorbar\":{\"outlinewidth\":0,\"ticks\":\"\"}},\"colorscale\":{\"diverging\":[[0,\"#8e0152\"],[0.1,\"#c51b7d\"],[0.2,\"#de77ae\"],[0.3,\"#f1b6da\"],[0.4,\"#fde0ef\"],[0.5,\"#f7f7f7\"],[0.6,\"#e6f5d0\"],[0.7,\"#b8e186\"],[0.8,\"#7fbc41\"],[0.9,\"#4d9221\"],[1,\"#276419\"]],\"sequential\":[[0.0,\"#0d0887\"],[0.1111111111111111,\"#46039f\"],[0.2222222222222222,\"#7201a8\"],[0.3333333333333333,\"#9c179e\"],[0.4444444444444444,\"#bd3786\"],[0.5555555555555556,\"#d8576b\"],[0.6666666666666666,\"#ed7953\"],[0.7777777777777778,\"#fb9f3a\"],[0.8888888888888888,\"#fdca26\"],[1.0,\"#f0f921\"]],\"sequentialminus\":[[0.0,\"#0d0887\"],[0.1111111111111111,\"#46039f\"],[0.2222222222222222,\"#7201a8\"],[0.3333333333333333,\"#9c179e\"],[0.4444444444444444,\"#bd3786\"],[0.5555555555555556,\"#d8576b\"],[0.6666666666666666,\"#ed7953\"],[0.7777777777777778,\"#fb9f3a\"],[0.8888888888888888,\"#fdca26\"],[1.0,\"#f0f921\"]]},\"colorway\":[\"#636efa\",\"#EF553B\",\"#00cc96\",\"#ab63fa\",\"#FFA15A\",\"#19d3f3\",\"#FF6692\",\"#B6E880\",\"#FF97FF\",\"#FECB52\"],\"font\":{\"color\":\"#f2f5fa\"},\"geo\":{\"bgcolor\":\"rgb(17,17,17)\",\"lakecolor\":\"rgb(17,17,17)\",\"landcolor\":\"rgb(17,17,17)\",\"showlakes\":true,\"showland\":true,\"subunitcolor\":\"#506784\"},\"hoverlabel\":{\"align\":\"left\"},\"hovermode\":\"closest\",\"mapbox\":{\"style\":\"dark\"},\"paper_bgcolor\":\"rgb(17,17,17)\",\"plot_bgcolor\":\"rgb(17,17,17)\",\"polar\":{\"angularaxis\":{\"gridcolor\":\"#506784\",\"linecolor\":\"#506784\",\"ticks\":\"\"},\"bgcolor\":\"rgb(17,17,17)\",\"radialaxis\":{\"gridcolor\":\"#506784\",\"linecolor\":\"#506784\",\"ticks\":\"\"}},\"scene\":{\"xaxis\":{\"backgroundcolor\":\"rgb(17,17,17)\",\"gridcolor\":\"#506784\",\"gridwidth\":2,\"linecolor\":\"#506784\",\"showbackground\":true,\"ticks\":\"\",\"zerolinecolor\":\"#C8D4E3\"},\"yaxis\":{\"backgroundcolor\":\"rgb(17,17,17)\",\"gridcolor\":\"#506784\",\"gridwidth\":2,\"linecolor\":\"#506784\",\"showbackground\":true,\"ticks\":\"\",\"zerolinecolor\":\"#C8D4E3\"},\"zaxis\":{\"backgroundcolor\":\"rgb(17,17,17)\",\"gridcolor\":\"#506784\",\"gridwidth\":2,\"linecolor\":\"#506784\",\"showbackground\":true,\"ticks\":\"\",\"zerolinecolor\":\"#C8D4E3\"}},\"shapedefaults\":{\"line\":{\"color\":\"#f2f5fa\"}},\"sliderdefaults\":{\"bgcolor\":\"#C8D4E3\",\"bordercolor\":\"rgb(17,17,17)\",\"borderwidth\":1,\"tickwidth\":0},\"ternary\":{\"aaxis\":{\"gridcolor\":\"#506784\",\"linecolor\":\"#506784\",\"ticks\":\"\"},\"baxis\":{\"gridcolor\":\"#506784\",\"linecolor\":\"#506784\",\"ticks\":\"\"},\"bgcolor\":\"rgb(17,17,17)\",\"caxis\":{\"gridcolor\":\"#506784\",\"linecolor\":\"#506784\",\"ticks\":\"\"}},\"title\":{\"x\":0.05},\"updatemenudefaults\":{\"bgcolor\":\"#506784\",\"borderwidth\":0},\"xaxis\":{\"automargin\":true,\"gridcolor\":\"#283442\",\"linecolor\":\"#506784\",\"ticks\":\"\",\"title\":{\"standoff\":15},\"zerolinecolor\":\"#283442\",\"zerolinewidth\":2},\"yaxis\":{\"automargin\":true,\"gridcolor\":\"#283442\",\"linecolor\":\"#506784\",\"ticks\":\"\",\"title\":{\"standoff\":15},\"zerolinecolor\":\"#283442\",\"zerolinewidth\":2}}},\"xaxis\":{\"anchor\":\"y\",\"domain\":[0.0,1.0],\"title\":{\"text\":\"Atraso Médio (minutos)\"}},\"yaxis\":{\"anchor\":\"x\",\"domain\":[0.0,1.0],\"title\":{\"text\":\"Rotas\"}},\"coloraxis\":{\"colorbar\":{\"title\":{\"text\":\"color\"}},\"colorscale\":[[0.0,\"#440154\"],[0.1111111111111111,\"#482878\"],[0.2222222222222222,\"#3e4989\"],[0.3333333333333333,\"#31688e\"],[0.4444444444444444,\"#26828e\"],[0.5555555555555556,\"#1f9e89\"],[0.6666666666666666,\"#35b779\"],[0.7777777777777778,\"#6ece58\"],[0.8888888888888888,\"#b5de2b\"],[1.0,\"#fde725\"]]},\"legend\":{\"tracegroupgap\":0},\"title\":{\"text\":\"Rotas com Maior Tempo Médio de Atraso (Partida)\"},\"barmode\":\"relative\",\"font\":{\"size\":14}},                        {\"responsive\": true}                    ).then(function(){\n",
              "                            \n",
              "var gd = document.getElementById('b89d2b0e-31d1-4ee6-92b7-96a991049336');\n",
              "var x = new MutationObserver(function (mutations, observer) {{\n",
              "        var display = window.getComputedStyle(gd).display;\n",
              "        if (!display || display === 'none') {{\n",
              "            console.log([gd, 'removed!']);\n",
              "            Plotly.purge(gd);\n",
              "            observer.disconnect();\n",
              "        }}\n",
              "}});\n",
              "\n",
              "// Listen for the removal of the full notebook cells\n",
              "var notebookContainer = gd.closest('#notebook-container');\n",
              "if (notebookContainer) {{\n",
              "    x.observe(notebookContainer, {childList: true});\n",
              "}}\n",
              "\n",
              "// Listen for the clearing of the current output cell\n",
              "var outputEl = gd.closest('.output');\n",
              "if (outputEl) {{\n",
              "    x.observe(outputEl, {childList: true});\n",
              "}}\n",
              "\n",
              "                        })                };                            </script>        </div>\n",
              "</body>\n",
              "</html>"
            ]
          },
          "metadata": {}
        }
      ],
      "source": [
        "# Criar o gráfico interativo com Plotly\n",
        "fig = px.bar(\n",
        "    x=delay_by_route.values,\n",
        "    y=delay_by_route.index,\n",
        "    orientation='h',\n",
        "    labels={'x': 'Atraso Médio (minutos)', 'y': 'Rotas'},\n",
        "    title=\"Rotas com Maior Tempo Médio de Atraso (Partida)\",\n",
        "    color=delay_by_route.values,  # Cor das barras baseada no atraso médio\n",
        "    color_continuous_scale='Viridis'  # Escala de cores\n",
        ")\n",
        "\n",
        "# Exibir o gráfico interativo\n",
        "fig.update_layout(\n",
        "    template='plotly_dark',  # Fundo escuro para o gráfico\n",
        "    font=dict(size=14),\n",
        ")\n",
        "\n",
        "fig.show()\n"
      ]
    },
    {
      "cell_type": "code",
      "execution_count": null,
      "metadata": {
        "id": "rrox1gAwF8Gc"
      },
      "outputs": [],
      "source": [
        "# Agrupar por rota e calcular o atraso médio\n",
        "delay_by_route = df_completo.groupby('Route')['ArrDelayMinutes'].mean().sort_values(ascending=False).head(10)"
      ]
    },
    {
      "cell_type": "code",
      "execution_count": null,
      "metadata": {
        "colab": {
          "base_uri": "https://localhost:8080/",
          "height": 542
        },
        "id": "uiqXdBp1Craw",
        "outputId": "e203b814-5c02-497c-ab31-f5de47562264"
      },
      "outputs": [
        {
          "output_type": "display_data",
          "data": {
            "text/html": [
              "<html>\n",
              "<head><meta charset=\"utf-8\" /></head>\n",
              "<body>\n",
              "    <div>            <script src=\"https://cdnjs.cloudflare.com/ajax/libs/mathjax/2.7.5/MathJax.js?config=TeX-AMS-MML_SVG\"></script><script type=\"text/javascript\">if (window.MathJax && window.MathJax.Hub && window.MathJax.Hub.Config) {window.MathJax.Hub.Config({SVG: {font: \"STIX-Web\"}});}</script>                <script type=\"text/javascript\">window.PlotlyConfig = {MathJaxConfig: 'local'};</script>\n",
              "        <script charset=\"utf-8\" src=\"https://cdn.plot.ly/plotly-2.35.2.min.js\"></script>                <div id=\"1ed34406-1565-4660-8e2e-5ac216626211\" class=\"plotly-graph-div\" style=\"height:525px; width:100%;\"></div>            <script type=\"text/javascript\">                                    window.PLOTLYENV=window.PLOTLYENV || {};                                    if (document.getElementById(\"1ed34406-1565-4660-8e2e-5ac216626211\")) {                    Plotly.newPlot(                        \"1ed34406-1565-4660-8e2e-5ac216626211\",                        [{\"alignmentgroup\":\"True\",\"hovertemplate\":\"Atraso Médio (minutos)=%{x}\\u003cbr\\u003eRotas=%{y}\\u003cbr\\u003ecolor=%{marker.color}\\u003cextra\\u003e\\u003c\\u002fextra\\u003e\",\"legendgroup\":\"\",\"marker\":{\"color\":[714.0,487.5,466.0,465.0,383.5,332.0,287.75,264.0,251.0,249.66666666666666],\"coloraxis\":\"coloraxis\",\"pattern\":{\"shape\":\"\"}},\"name\":\"\",\"offsetgroup\":\"\",\"orientation\":\"h\",\"showlegend\":false,\"textposition\":\"auto\",\"x\":[714.0,487.5,466.0,465.0,383.5,332.0,287.75,264.0,251.0,249.66666666666666],\"xaxis\":\"x\",\"y\":[\"RKS -\\u003e RIW\",\"CRW -\\u003e IAH\",\"SGU -\\u003e AZA\",\"MSY -\\u003e GRR\",\"EWR -\\u003e FWA\",\"HTS -\\u003e MYR\",\"PAH -\\u003e CGI\",\"AVL -\\u003e BOS\",\"HDN -\\u003e ORD\",\"FNT -\\u003e MSP\"],\"yaxis\":\"y\",\"type\":\"bar\"}],                        {\"template\":{\"data\":{\"barpolar\":[{\"marker\":{\"line\":{\"color\":\"rgb(17,17,17)\",\"width\":0.5},\"pattern\":{\"fillmode\":\"overlay\",\"size\":10,\"solidity\":0.2}},\"type\":\"barpolar\"}],\"bar\":[{\"error_x\":{\"color\":\"#f2f5fa\"},\"error_y\":{\"color\":\"#f2f5fa\"},\"marker\":{\"line\":{\"color\":\"rgb(17,17,17)\",\"width\":0.5},\"pattern\":{\"fillmode\":\"overlay\",\"size\":10,\"solidity\":0.2}},\"type\":\"bar\"}],\"carpet\":[{\"aaxis\":{\"endlinecolor\":\"#A2B1C6\",\"gridcolor\":\"#506784\",\"linecolor\":\"#506784\",\"minorgridcolor\":\"#506784\",\"startlinecolor\":\"#A2B1C6\"},\"baxis\":{\"endlinecolor\":\"#A2B1C6\",\"gridcolor\":\"#506784\",\"linecolor\":\"#506784\",\"minorgridcolor\":\"#506784\",\"startlinecolor\":\"#A2B1C6\"},\"type\":\"carpet\"}],\"choropleth\":[{\"colorbar\":{\"outlinewidth\":0,\"ticks\":\"\"},\"type\":\"choropleth\"}],\"contourcarpet\":[{\"colorbar\":{\"outlinewidth\":0,\"ticks\":\"\"},\"type\":\"contourcarpet\"}],\"contour\":[{\"colorbar\":{\"outlinewidth\":0,\"ticks\":\"\"},\"colorscale\":[[0.0,\"#0d0887\"],[0.1111111111111111,\"#46039f\"],[0.2222222222222222,\"#7201a8\"],[0.3333333333333333,\"#9c179e\"],[0.4444444444444444,\"#bd3786\"],[0.5555555555555556,\"#d8576b\"],[0.6666666666666666,\"#ed7953\"],[0.7777777777777778,\"#fb9f3a\"],[0.8888888888888888,\"#fdca26\"],[1.0,\"#f0f921\"]],\"type\":\"contour\"}],\"heatmapgl\":[{\"colorbar\":{\"outlinewidth\":0,\"ticks\":\"\"},\"colorscale\":[[0.0,\"#0d0887\"],[0.1111111111111111,\"#46039f\"],[0.2222222222222222,\"#7201a8\"],[0.3333333333333333,\"#9c179e\"],[0.4444444444444444,\"#bd3786\"],[0.5555555555555556,\"#d8576b\"],[0.6666666666666666,\"#ed7953\"],[0.7777777777777778,\"#fb9f3a\"],[0.8888888888888888,\"#fdca26\"],[1.0,\"#f0f921\"]],\"type\":\"heatmapgl\"}],\"heatmap\":[{\"colorbar\":{\"outlinewidth\":0,\"ticks\":\"\"},\"colorscale\":[[0.0,\"#0d0887\"],[0.1111111111111111,\"#46039f\"],[0.2222222222222222,\"#7201a8\"],[0.3333333333333333,\"#9c179e\"],[0.4444444444444444,\"#bd3786\"],[0.5555555555555556,\"#d8576b\"],[0.6666666666666666,\"#ed7953\"],[0.7777777777777778,\"#fb9f3a\"],[0.8888888888888888,\"#fdca26\"],[1.0,\"#f0f921\"]],\"type\":\"heatmap\"}],\"histogram2dcontour\":[{\"colorbar\":{\"outlinewidth\":0,\"ticks\":\"\"},\"colorscale\":[[0.0,\"#0d0887\"],[0.1111111111111111,\"#46039f\"],[0.2222222222222222,\"#7201a8\"],[0.3333333333333333,\"#9c179e\"],[0.4444444444444444,\"#bd3786\"],[0.5555555555555556,\"#d8576b\"],[0.6666666666666666,\"#ed7953\"],[0.7777777777777778,\"#fb9f3a\"],[0.8888888888888888,\"#fdca26\"],[1.0,\"#f0f921\"]],\"type\":\"histogram2dcontour\"}],\"histogram2d\":[{\"colorbar\":{\"outlinewidth\":0,\"ticks\":\"\"},\"colorscale\":[[0.0,\"#0d0887\"],[0.1111111111111111,\"#46039f\"],[0.2222222222222222,\"#7201a8\"],[0.3333333333333333,\"#9c179e\"],[0.4444444444444444,\"#bd3786\"],[0.5555555555555556,\"#d8576b\"],[0.6666666666666666,\"#ed7953\"],[0.7777777777777778,\"#fb9f3a\"],[0.8888888888888888,\"#fdca26\"],[1.0,\"#f0f921\"]],\"type\":\"histogram2d\"}],\"histogram\":[{\"marker\":{\"pattern\":{\"fillmode\":\"overlay\",\"size\":10,\"solidity\":0.2}},\"type\":\"histogram\"}],\"mesh3d\":[{\"colorbar\":{\"outlinewidth\":0,\"ticks\":\"\"},\"type\":\"mesh3d\"}],\"parcoords\":[{\"line\":{\"colorbar\":{\"outlinewidth\":0,\"ticks\":\"\"}},\"type\":\"parcoords\"}],\"pie\":[{\"automargin\":true,\"type\":\"pie\"}],\"scatter3d\":[{\"line\":{\"colorbar\":{\"outlinewidth\":0,\"ticks\":\"\"}},\"marker\":{\"colorbar\":{\"outlinewidth\":0,\"ticks\":\"\"}},\"type\":\"scatter3d\"}],\"scattercarpet\":[{\"marker\":{\"colorbar\":{\"outlinewidth\":0,\"ticks\":\"\"}},\"type\":\"scattercarpet\"}],\"scattergeo\":[{\"marker\":{\"colorbar\":{\"outlinewidth\":0,\"ticks\":\"\"}},\"type\":\"scattergeo\"}],\"scattergl\":[{\"marker\":{\"line\":{\"color\":\"#283442\"}},\"type\":\"scattergl\"}],\"scattermapbox\":[{\"marker\":{\"colorbar\":{\"outlinewidth\":0,\"ticks\":\"\"}},\"type\":\"scattermapbox\"}],\"scatterpolargl\":[{\"marker\":{\"colorbar\":{\"outlinewidth\":0,\"ticks\":\"\"}},\"type\":\"scatterpolargl\"}],\"scatterpolar\":[{\"marker\":{\"colorbar\":{\"outlinewidth\":0,\"ticks\":\"\"}},\"type\":\"scatterpolar\"}],\"scatter\":[{\"marker\":{\"line\":{\"color\":\"#283442\"}},\"type\":\"scatter\"}],\"scatterternary\":[{\"marker\":{\"colorbar\":{\"outlinewidth\":0,\"ticks\":\"\"}},\"type\":\"scatterternary\"}],\"surface\":[{\"colorbar\":{\"outlinewidth\":0,\"ticks\":\"\"},\"colorscale\":[[0.0,\"#0d0887\"],[0.1111111111111111,\"#46039f\"],[0.2222222222222222,\"#7201a8\"],[0.3333333333333333,\"#9c179e\"],[0.4444444444444444,\"#bd3786\"],[0.5555555555555556,\"#d8576b\"],[0.6666666666666666,\"#ed7953\"],[0.7777777777777778,\"#fb9f3a\"],[0.8888888888888888,\"#fdca26\"],[1.0,\"#f0f921\"]],\"type\":\"surface\"}],\"table\":[{\"cells\":{\"fill\":{\"color\":\"#506784\"},\"line\":{\"color\":\"rgb(17,17,17)\"}},\"header\":{\"fill\":{\"color\":\"#2a3f5f\"},\"line\":{\"color\":\"rgb(17,17,17)\"}},\"type\":\"table\"}]},\"layout\":{\"annotationdefaults\":{\"arrowcolor\":\"#f2f5fa\",\"arrowhead\":0,\"arrowwidth\":1},\"autotypenumbers\":\"strict\",\"coloraxis\":{\"colorbar\":{\"outlinewidth\":0,\"ticks\":\"\"}},\"colorscale\":{\"diverging\":[[0,\"#8e0152\"],[0.1,\"#c51b7d\"],[0.2,\"#de77ae\"],[0.3,\"#f1b6da\"],[0.4,\"#fde0ef\"],[0.5,\"#f7f7f7\"],[0.6,\"#e6f5d0\"],[0.7,\"#b8e186\"],[0.8,\"#7fbc41\"],[0.9,\"#4d9221\"],[1,\"#276419\"]],\"sequential\":[[0.0,\"#0d0887\"],[0.1111111111111111,\"#46039f\"],[0.2222222222222222,\"#7201a8\"],[0.3333333333333333,\"#9c179e\"],[0.4444444444444444,\"#bd3786\"],[0.5555555555555556,\"#d8576b\"],[0.6666666666666666,\"#ed7953\"],[0.7777777777777778,\"#fb9f3a\"],[0.8888888888888888,\"#fdca26\"],[1.0,\"#f0f921\"]],\"sequentialminus\":[[0.0,\"#0d0887\"],[0.1111111111111111,\"#46039f\"],[0.2222222222222222,\"#7201a8\"],[0.3333333333333333,\"#9c179e\"],[0.4444444444444444,\"#bd3786\"],[0.5555555555555556,\"#d8576b\"],[0.6666666666666666,\"#ed7953\"],[0.7777777777777778,\"#fb9f3a\"],[0.8888888888888888,\"#fdca26\"],[1.0,\"#f0f921\"]]},\"colorway\":[\"#636efa\",\"#EF553B\",\"#00cc96\",\"#ab63fa\",\"#FFA15A\",\"#19d3f3\",\"#FF6692\",\"#B6E880\",\"#FF97FF\",\"#FECB52\"],\"font\":{\"color\":\"#f2f5fa\"},\"geo\":{\"bgcolor\":\"rgb(17,17,17)\",\"lakecolor\":\"rgb(17,17,17)\",\"landcolor\":\"rgb(17,17,17)\",\"showlakes\":true,\"showland\":true,\"subunitcolor\":\"#506784\"},\"hoverlabel\":{\"align\":\"left\"},\"hovermode\":\"closest\",\"mapbox\":{\"style\":\"dark\"},\"paper_bgcolor\":\"rgb(17,17,17)\",\"plot_bgcolor\":\"rgb(17,17,17)\",\"polar\":{\"angularaxis\":{\"gridcolor\":\"#506784\",\"linecolor\":\"#506784\",\"ticks\":\"\"},\"bgcolor\":\"rgb(17,17,17)\",\"radialaxis\":{\"gridcolor\":\"#506784\",\"linecolor\":\"#506784\",\"ticks\":\"\"}},\"scene\":{\"xaxis\":{\"backgroundcolor\":\"rgb(17,17,17)\",\"gridcolor\":\"#506784\",\"gridwidth\":2,\"linecolor\":\"#506784\",\"showbackground\":true,\"ticks\":\"\",\"zerolinecolor\":\"#C8D4E3\"},\"yaxis\":{\"backgroundcolor\":\"rgb(17,17,17)\",\"gridcolor\":\"#506784\",\"gridwidth\":2,\"linecolor\":\"#506784\",\"showbackground\":true,\"ticks\":\"\",\"zerolinecolor\":\"#C8D4E3\"},\"zaxis\":{\"backgroundcolor\":\"rgb(17,17,17)\",\"gridcolor\":\"#506784\",\"gridwidth\":2,\"linecolor\":\"#506784\",\"showbackground\":true,\"ticks\":\"\",\"zerolinecolor\":\"#C8D4E3\"}},\"shapedefaults\":{\"line\":{\"color\":\"#f2f5fa\"}},\"sliderdefaults\":{\"bgcolor\":\"#C8D4E3\",\"bordercolor\":\"rgb(17,17,17)\",\"borderwidth\":1,\"tickwidth\":0},\"ternary\":{\"aaxis\":{\"gridcolor\":\"#506784\",\"linecolor\":\"#506784\",\"ticks\":\"\"},\"baxis\":{\"gridcolor\":\"#506784\",\"linecolor\":\"#506784\",\"ticks\":\"\"},\"bgcolor\":\"rgb(17,17,17)\",\"caxis\":{\"gridcolor\":\"#506784\",\"linecolor\":\"#506784\",\"ticks\":\"\"}},\"title\":{\"x\":0.05},\"updatemenudefaults\":{\"bgcolor\":\"#506784\",\"borderwidth\":0},\"xaxis\":{\"automargin\":true,\"gridcolor\":\"#283442\",\"linecolor\":\"#506784\",\"ticks\":\"\",\"title\":{\"standoff\":15},\"zerolinecolor\":\"#283442\",\"zerolinewidth\":2},\"yaxis\":{\"automargin\":true,\"gridcolor\":\"#283442\",\"linecolor\":\"#506784\",\"ticks\":\"\",\"title\":{\"standoff\":15},\"zerolinecolor\":\"#283442\",\"zerolinewidth\":2}}},\"xaxis\":{\"anchor\":\"y\",\"domain\":[0.0,1.0],\"title\":{\"text\":\"Atraso Médio (minutos)\"}},\"yaxis\":{\"anchor\":\"x\",\"domain\":[0.0,1.0],\"title\":{\"text\":\"Rotas\"}},\"coloraxis\":{\"colorbar\":{\"title\":{\"text\":\"color\"}},\"colorscale\":[[0.0,\"#440154\"],[0.1111111111111111,\"#482878\"],[0.2222222222222222,\"#3e4989\"],[0.3333333333333333,\"#31688e\"],[0.4444444444444444,\"#26828e\"],[0.5555555555555556,\"#1f9e89\"],[0.6666666666666666,\"#35b779\"],[0.7777777777777778,\"#6ece58\"],[0.8888888888888888,\"#b5de2b\"],[1.0,\"#fde725\"]]},\"legend\":{\"tracegroupgap\":0},\"title\":{\"text\":\"Rotas com Maior Tempo Médio de Atraso (Chegada)\",\"font\":{\"size\":18}},\"barmode\":\"relative\",\"font\":{\"size\":14}},                        {\"responsive\": true}                    ).then(function(){\n",
              "                            \n",
              "var gd = document.getElementById('1ed34406-1565-4660-8e2e-5ac216626211');\n",
              "var x = new MutationObserver(function (mutations, observer) {{\n",
              "        var display = window.getComputedStyle(gd).display;\n",
              "        if (!display || display === 'none') {{\n",
              "            console.log([gd, 'removed!']);\n",
              "            Plotly.purge(gd);\n",
              "            observer.disconnect();\n",
              "        }}\n",
              "}});\n",
              "\n",
              "// Listen for the removal of the full notebook cells\n",
              "var notebookContainer = gd.closest('#notebook-container');\n",
              "if (notebookContainer) {{\n",
              "    x.observe(notebookContainer, {childList: true});\n",
              "}}\n",
              "\n",
              "// Listen for the clearing of the current output cell\n",
              "var outputEl = gd.closest('.output');\n",
              "if (outputEl) {{\n",
              "    x.observe(outputEl, {childList: true});\n",
              "}}\n",
              "\n",
              "                        })                };                            </script>        </div>\n",
              "</body>\n",
              "</html>"
            ]
          },
          "metadata": {}
        }
      ],
      "source": [
        "# Criar o gráfico interativo com Plotly\n",
        "fig = px.bar(\n",
        "    x=delay_by_route.values,\n",
        "    y=delay_by_route.index,\n",
        "    orientation='h',  # Barras horizontais\n",
        "    labels={'x': 'Atraso Médio (minutos)', 'y': 'Rotas'},\n",
        "    title=\"Rotas com Maior Tempo Médio de Atraso (Chegada)\",\n",
        "    color=delay_by_route.values,  # Cor das barras com base no atraso médio\n",
        "    color_continuous_scale='Viridis'  # Escala de cores\n",
        ")\n",
        "\n",
        "# Personalizar o layout do gráfico\n",
        "fig.update_layout(\n",
        "    template='plotly_dark',  # Fundo escuro\n",
        "    font=dict(size=14),\n",
        "    title=dict(font=dict(size=18)),\n",
        ")\n",
        "\n",
        "# Exibir o gráfico interativo\n",
        "fig.show()\n"
      ]
    },
    {
      "cell_type": "markdown",
      "metadata": {
        "id": "HmFqCGuPKRMt"
      },
      "source": [
        "##2.3\n",
        "Quais as rotas em que temos maior índice de cancelamento de voos?"
      ]
    },
    {
      "cell_type": "code",
      "execution_count": null,
      "metadata": {
        "colab": {
          "background_save": true
        },
        "id": "3njnhJyzPaxc"
      },
      "outputs": [],
      "source": [
        "#NUMERO DE VOOS CANCELADOS PRA ROTA A\n",
        "df_a = df_completo[df_completo['Route'] == 'OGG -> MKK']\n",
        "df_a['Cancelled'].value_counts()"
      ]
    },
    {
      "cell_type": "code",
      "execution_count": null,
      "metadata": {
        "colab": {
          "background_save": true
        },
        "id": "XuT4OpWFQt6E"
      },
      "outputs": [],
      "source": [
        "# QUANTIDADE DE ROTAS CANCELADAS\n",
        "df_completo['Cancelled'].value_counts()"
      ]
    },
    {
      "cell_type": "code",
      "execution_count": null,
      "metadata": {
        "colab": {
          "background_save": true
        },
        "id": "liGAuS0AQku7"
      },
      "outputs": [],
      "source": [
        "# INDICE DE CANCELAMENTOS TOTAL\n",
        "\n",
        "cancelled_count = df_completo['Cancelled'].sum()  # Soma dos True (cancelados)\n",
        "total_count = len(df_completo)\n",
        "\n",
        "# Calcular a taxa de cancelamento\n",
        "cancellation_rate = cancelled_count / total_count\n",
        "print(f\"Taxa de cancelamento para a rota : {cancellation_rate:.2f}\")\n",
        "print(f'3%')"
      ]
    },
    {
      "cell_type": "code",
      "execution_count": null,
      "metadata": {
        "colab": {
          "background_save": true
        },
        "id": "sFsiJbg8Th3v"
      },
      "outputs": [],
      "source": [
        "# Agrupar por 'Route' e contar as incidências de voos cancelados e totais\n",
        "grouped_routes = df_completo.groupby('Route')['Cancelled'].agg(['sum', 'count'])\n",
        "\n",
        "# Calcular a taxa de cancelamento para cada rota\n",
        "grouped_routes['Cancellation Rate'] = grouped_routes['sum'] / grouped_routes['count']\n",
        "\n",
        "# Exibir as rotas com a taxa de cancelamento\n",
        "grouped_routes.head()\n"
      ]
    },
    {
      "cell_type": "markdown",
      "metadata": {
        "id": "nSVYf5ADbQf6"
      },
      "source": [
        "### ✅ Resposta 1\n",
        "Considerando o indice de cancelamentos da propria ou rota.\n",
        "\n",
        "Ou seja, dentre todos os voos da rota A houvem x cancelamentos.\n",
        "\n",
        "O calculo de indice sera ((x cancelamentos rota A )/(total de voos da rota A))*100. Por essa razao, os 20 maiores valores serao 1, uma vez que o numero de voos cancelados dessa rota e igual ao numero total de voos da rota.\n",
        "\n",
        " Alternativa: estabelecer minimo voos"
      ]
    },
    {
      "cell_type": "code",
      "execution_count": null,
      "metadata": {
        "colab": {
          "background_save": true
        },
        "id": "5swyFVslF_Qr"
      },
      "outputs": [],
      "source": [
        "# Calcular a taxa de cancelamento\n",
        "cancellation_rate = df_completo.groupby('Route')['Cancelled'].mean().sort_values(ascending=False).head(20)\n",
        "\n",
        "# Plotar o gráfico\n",
        "plt.figure(figsize=(12, 6))\n",
        "sns.barplot(x=cancellation_rate.values, y=cancellation_rate.index, palette=\"Blues\")\n",
        "plt.title(\"Rotas com Maior Índice de Cancelamento\", fontsize=16)\n",
        "plt.xlabel(\"Taxa de Cancelamento\", fontsize=14)\n",
        "plt.ylabel(\"Rotas\", fontsize=14)\n",
        "plt.show()\n"
      ]
    },
    {
      "cell_type": "code",
      "execution_count": null,
      "metadata": {
        "colab": {
          "background_save": true
        },
        "id": "We4gFs6bDZRb"
      },
      "outputs": [],
      "source": [
        "#teste"
      ]
    },
    {
      "cell_type": "code",
      "execution_count": null,
      "metadata": {
        "colab": {
          "background_save": true
        },
        "id": "cy1UFik5DbnE"
      },
      "outputs": [],
      "source": [
        "import plotly.express as px\n",
        "\n",
        "# Calcular a taxa de cancelamento por rota\n",
        "cancellation_rate = df_completo.groupby('Route')['Cancelled'].mean().sort_values(ascending=False).head(20)\n",
        "\n",
        "# Criar o gráfico interativo com Plotly\n",
        "fig = px.bar(\n",
        "    x=cancellation_rate.values,\n",
        "    y=cancellation_rate.index,\n",
        "    orientation='h',  # Barras horizontais\n",
        "    labels={'x': 'Taxa de Cancelamento', 'y': 'Rotas'},\n",
        "    title=\"Rotas com Maior Índice de Cancelamento\",\n",
        "    color=cancellation_rate.values,  # Cor das barras com base na taxa de cancelamento\n",
        "    color_continuous_scale='Blues'  # Escala de cores azuis\n",
        ")\n",
        "\n",
        "# Personalizar o layout do gráfico\n",
        "fig.update_layout(\n",
        "    template='plotly_dark',  # Fundo escuro\n",
        "    font=dict(size=14),\n",
        "    title=dict(font=dict(size=18)),\n",
        ")\n",
        "\n",
        "# Exibir o gráfico interativo\n",
        "fig.show()\n"
      ]
    },
    {
      "cell_type": "markdown",
      "metadata": {
        "id": "lc8VxMuZcM_B"
      },
      "source": [
        "### ✅ Resposta 2\n",
        "Uma outra forma de interpretar seria considerando o numero de cancelamentos por rota o numero total de voos cancelados do dataframe.\n",
        "\n",
        "((numero de cancelamentos por rota) / (numero total de voos cancelados do dataframe)) *100\n",
        "\n",
        "O numero de incidencia de cancelamento para os 10 primeiros, assim como seu indice em relacao ao total de cancelamentos esta expresso nos 2 graficos abaixo.\n"
      ]
    },
    {
      "cell_type": "code",
      "execution_count": null,
      "metadata": {
        "colab": {
          "background_save": true
        },
        "id": "s5DJR2WBZNMv"
      },
      "outputs": [],
      "source": [
        "# Filtrar apenas os voos cancelados\n",
        "cancelled_flights = df_completo[df_completo['Cancelled'] == True]\n",
        "\n",
        "# Contar o número de cancelamentos por rota\n",
        "cancelled_counts = cancelled_flights['Route'].value_counts()\n",
        "\n",
        "# Calcular o total de cancelamentos no DataFrame\n",
        "total_cancellations = cancelled_flights.shape[0]\n",
        "\n",
        "# Criar um DataFrame com as rotas mais canceladas e suas porcentagens\n",
        "cancelled_summary = cancelled_counts.to_frame(name='CancelCount')\n",
        "cancelled_summary['Percentage'] = (cancelled_summary['CancelCount'] / total_cancellations) * 100\n",
        "\n",
        "# Mostrar as 10 rotas com mais cancelamentos e suas porcentagens\n",
        "top_cancelled_routes = cancelled_summary.head(10)\n",
        "print(top_cancelled_routes)"
      ]
    },
    {
      "cell_type": "code",
      "execution_count": null,
      "metadata": {
        "colab": {
          "background_save": true
        },
        "id": "Oa7cUhwDZRLl"
      },
      "outputs": [],
      "source": [
        "# Plotar o gráfico das principais rotas canceladas\n",
        "plt.figure(figsize=(12, 6))\n",
        "sns.barplot(x=top_cancelled_routes['CancelCount'], y=top_cancelled_routes.index, palette=\"Reds\")\n",
        "plt.title(\"Rotas com Mais Cancelamentos\", fontsize=16)\n",
        "plt.xlabel(\"Número de Cancelamentos\", fontsize=14)\n",
        "plt.ylabel(\"Rotas\", fontsize=14)\n",
        "plt.show()\n",
        "\n",
        "# Plotar o gráfico da porcentagem de cancelamentos\n",
        "plt.figure(figsize=(12, 6))\n",
        "sns.barplot(x=top_cancelled_routes['Percentage'], y=top_cancelled_routes.index, palette=\"Blues\")\n",
        "plt.title(\"Porcentagem do Total de Cancelamentos por Rota\", fontsize=16)\n",
        "plt.xlabel(\"Porcentagem (%)\", fontsize=14)\n",
        "plt.ylabel(\"Rotas\", fontsize=14)\n",
        "plt.show()\n"
      ]
    },
    {
      "cell_type": "code",
      "execution_count": null,
      "metadata": {
        "colab": {
          "background_save": true
        },
        "id": "S_HtVSV5D9kj"
      },
      "outputs": [],
      "source": [
        "#teste"
      ]
    },
    {
      "cell_type": "code",
      "execution_count": null,
      "metadata": {
        "colab": {
          "background_save": true
        },
        "id": "hsIIkgOBh0tM"
      },
      "outputs": [],
      "source": [
        "import plotly.express as px\n",
        "\n",
        "# Gráfico interativo das principais rotas canceladas\n",
        "fig1 = px.bar(\n",
        "    top_cancelled_routes,\n",
        "    x='CancelCount',\n",
        "    y=top_cancelled_routes.index,\n",
        "    orientation='h',\n",
        "    labels={'CancelCount': 'Número de Cancelamentos', 'y': 'Rotas'},\n",
        "    title=\"Rotas com Mais Cancelamentos\",\n",
        "    color='CancelCount',  # Cor das barras com base no número de cancelamentos\n",
        "    color_continuous_scale='Reds'  # Escala de cores vermelha\n",
        ")\n",
        "\n",
        "# Customizar o layout para o gráfico das rotas canceladas\n",
        "fig1.update_layout(\n",
        "    template='plotly_dark',  # Fundo escuro\n",
        "    font=dict(size=14),\n",
        "    title=dict(font=dict(size=18)),\n",
        ")\n",
        "\n",
        "# Exibir o gráfico interativo\n",
        "fig1.show()\n",
        "\n",
        "# Gráfico interativo da porcentagem de cancelamentos\n",
        "fig2 = px.bar(\n",
        "    top_cancelled_routes,\n",
        "    x='Percentage',\n",
        "    y=top_cancelled_routes.index,\n",
        "    orientation='h',\n",
        "    labels={'Percentage': 'Porcentagem (%)', 'y': 'Rotas'},\n",
        "    title=\"Porcentagem do Total de Cancelamentos por Rota\",\n",
        "    color='Percentage',  # Cor das barras com base na porcentagem\n",
        "    color_continuous_scale='Blues'  # Escala de cores azuis\n",
        ")\n",
        "\n",
        "# Customizar o layout para o gráfico da porcentagem de cancelamentos\n",
        "fig2.update_layout(\n",
        "    template='plotly_dark',  # Fundo escuro\n",
        "    font=dict(size=14),\n",
        "    title=dict(font=dict(size=18)),\n",
        ")\n",
        "\n",
        "# Exibir o gráfico interativo\n",
        "fig2.show()\n"
      ]
    },
    {
      "cell_type": "markdown",
      "metadata": {
        "id": "3COpstrLdar5"
      },
      "source": [
        "##2.4\n",
        " Quais são as rotas mais eficientes e as menos eficientes?"
      ]
    },
    {
      "cell_type": "code",
      "execution_count": null,
      "metadata": {
        "colab": {
          "background_save": true
        },
        "id": "l-_GVO7mgkfL"
      },
      "outputs": [],
      "source": [
        "#Tirando os Nan novamente.\n",
        "# Substituir valores NaN pela mediana de suas respectivas colunas\n",
        "df_completo = df_completo.fillna(df_completo.median(numeric_only=True))\n",
        "\n",
        "# Verificar se ainda existem valores NaN\n",
        "print(df_completo.isnull().sum())\n"
      ]
    },
    {
      "cell_type": "code",
      "execution_count": null,
      "metadata": {
        "colab": {
          "background_save": true
        },
        "id": "UoNj0Vq9alm6"
      },
      "outputs": [],
      "source": [
        "# Taxa de atrasos (média de atrasos > 15 minutos)\n",
        "delay_rate = df_completo.groupby('Route')['ArrDel15'].mean() * 100\n",
        "\n",
        "# Taxa de cancelamento\n",
        "cancellation_rate = df_completo.groupby('Route')['Cancelled'].mean() * 100\n",
        "\n",
        "# Desvio médio no tempo de voo\n",
        "flight_time_deviation = df_completo.groupby('Route').apply(\n",
        "    lambda x: abs(x['ActualElapsedTime'] - x['CRSElapsedTime']).mean()\n",
        ")\n",
        "\n",
        "# Média de tempo de taxiamento (TaxiOut + TaxiIn)\n",
        "avg_taxi_time = df_completo.groupby('Route').apply(\n",
        "    lambda x: (x['TaxiOut'] + x['TaxiIn']).mean()\n",
        ")\n",
        "\n",
        "# 3. Consolidar em um DataFrame\n",
        "efficiency_metrics = pd.DataFrame({\n",
        "    'DelayRate (%)': delay_rate,\n",
        "    'CancellationRate (%)': cancellation_rate,\n",
        "    'FlightTimeDeviation (min)': flight_time_deviation,\n",
        "    'AvgTaxiTime (min)': avg_taxi_time\n",
        "}).reset_index()\n",
        "\n",
        "# Ordenar por eficiência geral (menor atraso + menor cancelamento + menor desvio)\n",
        "efficiency_metrics['EfficiencyScore'] = (\n",
        "    efficiency_metrics['DelayRate (%)'] +\n",
        "    efficiency_metrics['CancellationRate (%)'] +\n",
        "    efficiency_metrics['FlightTimeDeviation (min)'] +\n",
        "    efficiency_metrics['AvgTaxiTime (min)']\n",
        ")\n",
        "efficiency_metrics = efficiency_metrics.sort_values(by='EfficiencyScore')\n",
        "\n",
        "# Mostrar as 10 rotas mais e menos eficientes\n",
        "top_efficient_routes = efficiency_metrics.head(10)\n",
        "least_efficient_routes = efficiency_metrics.tail(10)\n",
        "\n",
        "print(\"Rotas mais eficientes:\\n\", top_efficient_routes)\n",
        "print(\"Rotas menos eficientes:\\n\", least_efficient_routes)\n",
        "\n",
        "# 4. Visualização dos resultados\n",
        "# Configurar estilo do gráfico\n",
        "sns.set_theme(style=\"whitegrid\")\n"
      ]
    },
    {
      "cell_type": "markdown",
      "metadata": {
        "id": "xsTmGaTyk-Gv"
      },
      "source": [
        "### ✅ Resposta"
      ]
    },
    {
      "cell_type": "code",
      "execution_count": null,
      "metadata": {
        "colab": {
          "background_save": true
        },
        "id": "IcUMWbsXEiB4"
      },
      "outputs": [],
      "source": [
        "import plotly.express as px\n",
        "\n",
        "# Transformar os dados para o formato adequado para o gráfico\n",
        "top_efficient_routes_melted = top_efficient_routes.melt(id_vars=['Route'], var_name='Metric', value_name='Value')\n",
        "\n",
        "# Criar o gráfico interativo\n",
        "fig = px.bar(\n",
        "    top_efficient_routes_melted,\n",
        "    x='Value',\n",
        "    y='Route',\n",
        "    color='Metric',\n",
        "    orientation='h',  # Barras horizontais\n",
        "    title=\"Top 10 Rotas Mais Eficientes\",\n",
        "    labels={'Value': 'Valores das Métricas', 'Route': 'Rotas', 'Metric': 'Métrica'},\n",
        "    color_continuous_scale='viridis'  # Escala de cores para as métricas\n",
        ")\n",
        "\n",
        "# Customizar o layout para o fundo preto\n",
        "fig.update_layout(\n",
        "    template='plotly_dark',  # Fundo escuro\n",
        "    font=dict(size=14),  # Ajuste do tamanho da fonte\n",
        "    title=dict(font=dict(size=18)),  # Ajuste do tamanho do título\n",
        "    legend=dict(title='Métrica', font=dict(size=12))  # Legenda ajustada\n",
        ")\n",
        "\n",
        "# Exibir o gráfico interativo\n",
        "fig.show()\n"
      ]
    },
    {
      "cell_type": "code",
      "execution_count": null,
      "metadata": {
        "colab": {
          "background_save": true
        },
        "id": "zgyMY1l8bpp4"
      },
      "outputs": [],
      "source": [
        "# Gráfico: Rotas menos eficientes\n",
        "plt.figure(figsize=(14, 8))\n",
        "sns.barplot(\n",
        "    data=least_efficient_routes.melt(id_vars=['Route'], var_name='Metric', value_name='Value'),\n",
        "    x='Value', y='Route', hue='Metric', palette=\"magma\"\n",
        ")\n",
        "plt.title(\"Top 10 Rotas Menos Eficientes\", fontsize=16)\n",
        "plt.xlabel(\"Valores das Métricas\", fontsize=14)\n",
        "plt.ylabel(\"Rotas\", fontsize=14)\n",
        "plt.legend(title=\"Métrica\", fontsize=12)\n",
        "plt.show()"
      ]
    },
    {
      "cell_type": "markdown",
      "metadata": {
        "id": "9G8UzSETSwT6"
      },
      "source": [
        "\n",
        "\n",
        "---\n",
        "\n"
      ]
    },
    {
      "cell_type": "code",
      "execution_count": null,
      "metadata": {
        "colab": {
          "background_save": true
        },
        "id": "rQE7crj6FIHb"
      },
      "outputs": [],
      "source": [
        "import plotly.express as px\n",
        "\n",
        "# Transformar os dados para o formato adequado para o gráfico\n",
        "least_efficient_routes_melted = least_efficient_routes.melt(id_vars=['Route'], var_name='Metric', value_name='Value')\n",
        "\n",
        "# Criar o gráfico interativo\n",
        "fig = px.bar(\n",
        "    least_efficient_routes_melted,\n",
        "    x='Value',\n",
        "    y='Route',\n",
        "    color='Metric',\n",
        "    orientation='h',  # Barras horizontais\n",
        "    title=\"Top 10 Rotas Menos Eficientes\",\n",
        "    labels={'Value': 'Valores das Métricas', 'Route': 'Rotas', 'Metric': 'Métrica'},\n",
        "    color_continuous_scale='magma'  # Escala de cores para as métricas\n",
        ")\n",
        "\n",
        "# Customizar o layout para o fundo preto\n",
        "fig.update_layout(\n",
        "    template='plotly_dark',  # Fundo escuro\n",
        "    font=dict(size=14),  # Ajuste do tamanho da fonte\n",
        "    title=dict(font=dict(size=18)),  # Ajuste do tamanho do título\n",
        "    legend=dict(title='Métrica', font=dict(size=12))  # Legenda ajustada\n",
        ")\n",
        "\n",
        "# Exibir o gráfico interativo\n",
        "fig.show()\n"
      ]
    },
    {
      "cell_type": "markdown",
      "metadata": {
        "id": "EB9NQWemSxQY"
      },
      "source": [
        "#3) Análise do atraso das rotas\n",
        "Análise do atraso das rotas\n",
        "\n",
        "1- Qual o tempo médio de atraso dos voos? Considere as colunas ArrDelayMinutes e DepDelayMinutes.\n",
        "       \n",
        "2- Quais os fatores mais correlacionados com o atraso de um voo?"
      ]
    },
    {
      "cell_type": "markdown",
      "metadata": {
        "id": "F0va81PlHxut"
      },
      "source": [
        "##3.1\n",
        "Qual o tempo médio de atraso dos voos? Considere as colunas ArrDelayMinutes e DepDelayMinutes."
      ]
    },
    {
      "cell_type": "code",
      "execution_count": null,
      "metadata": {
        "colab": {
          "background_save": true
        },
        "id": "vLL_J8Qtb5YJ"
      },
      "outputs": [],
      "source": [
        "#Importar bibliotecas\n",
        "import pandas as pd\n",
        "\n",
        "#Copiar os dataframes fornecidos para manter consistência\n",
        "df18 = df1.copy()\n",
        "df19 = df2.copy()\n",
        "df20 = df3.copy()\n",
        "df21 = df4.copy()\n",
        "df22 = df5.copy()\n",
        "\n",
        "#Lista dos dataframes\n",
        "dfs = [df18, df19, df20, df21, df22]\n",
        "\n",
        "#Concatenar todos os DataFrames em um único DataFrame\n",
        "flights_data = pd.concat(dfs, ignore_index=True)\n",
        "\n",
        "#Selecionar as colunas relevantes para o cálculo\n",
        "delay_columns = ['DepDelayMinutes', 'ArrDelayMinutes']\n",
        "\n",
        "#Verificar se as colunas existem no DataFrame\n",
        "if all(col in flights_data.columns for col in delay_columns):\n",
        "    # Filtrar e limpar os dados (remover valores ausentes e negativos)\n",
        "    valid_data = flights_data[delay_columns].dropna()\n",
        "    valid_data = valid_data[(valid_data['DepDelayMinutes'] >= 0) & (valid_data['ArrDelayMinutes'] >= 0)]\n",
        "\n",
        "    # Calcular a média dos atrasos\n",
        "    average_dep_delay = valid_data['DepDelayMinutes'].mean()\n",
        "    average_arr_delay = valid_data['ArrDelayMinutes'].mean()\n",
        "\n",
        "    # Exibir os resultados\n",
        "    print(f\"Tempo médio de atraso na partida: {average_dep_delay:.2f} minutos\")\n",
        "    print(f\"Tempo médio de atraso na chegada: {average_arr_delay:.2f} minutos\")\n",
        "else:\n",
        "    print(\"As colunas necessárias para o cálculo não estão presentes nos dados.\")"
      ]
    },
    {
      "cell_type": "markdown",
      "metadata": {
        "id": "92ukBCHrw4lX"
      },
      "source": [
        "### ✅ Resposta\n",
        "Tempo médio de atraso na partida: 12.74 minutos\n",
        "\n",
        "Tempo médio de atraso na chegada: 12.85 minutos"
      ]
    },
    {
      "cell_type": "markdown",
      "metadata": {
        "id": "iAv4GnlpwTGb"
      },
      "source": [
        "## 3.2\n",
        "Quais os fatores mais correlacionados com o atraso de um voo?"
      ]
    },
    {
      "cell_type": "markdown",
      "metadata": {
        "id": "9INrJNW5Szfv"
      },
      "source": [
        "\n",
        "\n",
        "---\n",
        "\n"
      ]
    },
    {
      "cell_type": "code",
      "execution_count": null,
      "metadata": {
        "id": "UD_-gfYdpz5f"
      },
      "outputs": [],
      "source": [
        "dfs = [df18, df19, df20, df21, df22]\n",
        "flights_data = pd.concat(dfs, ignore_index=True)"
      ]
    },
    {
      "cell_type": "code",
      "execution_count": null,
      "metadata": {
        "id": "NcW8GZ48p1QV"
      },
      "outputs": [],
      "source": [
        "#verificar estatísticas média, máximo, mínimo dos atrasos\n",
        "print(flights_data[['ArrDelayMinutes', 'DepDelayMinutes']].describe())"
      ]
    },
    {
      "cell_type": "markdown",
      "metadata": {
        "id": "zI35rxEap23v"
      },
      "source": [
        "⚡A maioria dos voos não possui atrasos, visto que a mediana (50%) é 0 para ambos os tipos de atrasos.\n",
        "\n",
        "⚡A média de atraso é aproximadamente 12.85 minutos para chegada e 12.79 minutos para partida.\n",
        "\n",
        "⚡Há atrasos extremos, conforme mostrado pelos valores máximos (2322 e 2338 minutos)."
      ]
    },
    {
      "cell_type": "code",
      "execution_count": null,
      "metadata": {
        "id": "_NRftu3ip5js"
      },
      "outputs": [],
      "source": [
        "#filtrar voos com atrasos maiores que 0 minutos para entender frequência\n",
        "delayed_flights = flights_data[(flights_data['ArrDelayMinutes'] > 0) | (flights_data['DepDelayMinutes'] > 0)]\n",
        "print(delayed_flights.head())"
      ]
    },
    {
      "cell_type": "code",
      "execution_count": null,
      "metadata": {
        "id": "daVdjnulp8Eb"
      },
      "outputs": [],
      "source": [
        "# Substituir valores faltantes colunas categóricas com moda\n",
        "flights_data.fillna(flights_data.select_dtypes(include=['object']).mode().iloc[0], inplace=True)\n",
        "\n",
        "# Substituir valores faltantes colunas numéricas com mediana\n",
        "flights_data.fillna(flights_data.select_dtypes(include=['number']).median(), inplace=True)\n",
        "\n",
        "# Codificar a coluna 'Airline' com variáveis dummy\n",
        "flights_data_encoded = pd.get_dummies(flights_data, columns=['Airline'], drop_first=True)\n",
        "\n",
        "# Colunas numéricas incluindo atraso na partida e chegada\n",
        "columns_of_interest = ['DepDelayMinutes', 'ArrDelayMinutes', 'CRSDepTime', 'DepTime', 'ArrTime', 'AirTime',\n",
        "                       'CRSElapsedTime', 'ActualElapsedTime', 'Distance', 'Year', 'Quarter', 'Month', 'DayofMonth',\n",
        "                       'DayOfWeek', 'TaxiOut', 'TaxiIn', 'WheelsOff', 'WheelsOn', 'CRSArrTime']\n",
        "\n",
        "# Matriz de correlação para colunas selecionadas\n",
        "correlation_matrix = flights_data_encoded[columns_of_interest].corr()\n",
        "\n",
        "print(correlation_matrix)"
      ]
    },
    {
      "cell_type": "code",
      "execution_count": null,
      "metadata": {
        "id": "Y8y0tEqWp-hJ"
      },
      "outputs": [],
      "source": [
        "import seaborn as sns\n",
        "import matplotlib.pyplot as plt\n",
        "\n",
        "# Definir fundo preto\n",
        "plt.style.use('dark_background')\n",
        "\n",
        "# Criar a matriz de correlação\n",
        "plt.figure(figsize=(16, 14))\n",
        "sns.heatmap(correlation_matrix, annot=True, cmap='coolwarm', fmt='.2f', linewidths=0.5,\n",
        "            cbar_kws={'label': 'Correlação'}, square=True, annot_kws={\"size\": 10, \"weight\": 'bold', 'color': 'white'})\n",
        "\n",
        "# Ajustar rótulos e título\n",
        "plt.xticks(rotation=45, ha='right', fontsize=12, color='white')\n",
        "plt.yticks(rotation=45, ha='right', fontsize=12, color='white')\n",
        "plt.title('Matriz de Correlação', fontsize=18, color='white')\n",
        "\n",
        "plt.tight_layout()\n",
        "plt.show()"
      ]
    },
    {
      "cell_type": "markdown",
      "metadata": {
        "id": "IjnIHFlhqAfc"
      },
      "source": [
        "⚡Valores próximos de 1 ou -1 indicam correlação forte (positiva ou negativa).\n",
        "\n",
        "⚡ Valores próximos de 0 indicam pouca ou nenhuma correlação."
      ]
    },
    {
      "cell_type": "code",
      "execution_count": null,
      "metadata": {
        "id": "XlGl46ZqqHV2"
      },
      "outputs": [],
      "source": [
        "#codificar coluna 'Airline' com variáveis dummy\n",
        "flights_data_encoded = pd.get_dummies(flights_data, columns=['Airline'], drop_first=True)\n",
        "\n",
        "#selecionar colunas numéricas para cálculo de correlação\n",
        "numeric_columns = flights_data_encoded.select_dtypes(include=['number']).columns\n",
        "\n",
        "#matriz de correlação para 'ArrDelayMinutes', 'DepDelayMinutes' e variáveis codificadas de 'Airline'\n",
        "correlation_matrix = flights_data_encoded[['ArrDelayMinutes', 'DepDelayMinutes'] + [col for col in numeric_columns if 'Airline_' in col]].corr()\n",
        "\n",
        "print(correlation_matrix)"
      ]
    },
    {
      "cell_type": "markdown",
      "metadata": {
        "id": "xz71PJbwqL6h"
      },
      "source": [
        "### **✅ Consideração Final**\n",
        "\n",
        "\n",
        "⚡Os atrasos na partida são o principal fator correlacionado com os atrasos na chegada.\n",
        "\n",
        "⚡Distância, tempo de voo e cancelamentos também são fatores importantes, influenciando o atraso dos voos.\n",
        "\n",
        "⚡Companhias aéreas específicas podem apresentar padrões distintos de atraso.\n",
        "\n",
        "Correlação de 0.974376 entre ArrDelayMinutes e DepDelayMinutes sugere que os atrasos na partida e na chegada estão fortemente relacionados."
      ]
    },
    {
      "cell_type": "code",
      "source": [],
      "metadata": {
        "id": "s0vDXX1ROcjQ"
      },
      "execution_count": null,
      "outputs": []
    }
  ],
  "metadata": {
    "colab": {
      "provenance": [],
      "toc_visible": true
    },
    "kernelspec": {
      "display_name": "Python 3",
      "name": "python3"
    },
    "language_info": {
      "name": "python"
    }
  },
  "nbformat": 4,
  "nbformat_minor": 0
}